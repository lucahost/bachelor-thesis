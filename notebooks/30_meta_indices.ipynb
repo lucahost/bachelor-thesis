{
 "cells": [
  {
   "cell_type": "markdown",
   "metadata": {},
   "source": [
    "# Meta Indices\n",
    "\n",
    "- Structure Sensitivity\n",
    "- Abruptness\n",
    "- Uniqueness\n",
    "- Structural Graph Measure\n",
    "- Robustness\n",
    "- Complexity"
   ]
  },
  {
   "cell_type": "code",
   "execution_count": null,
   "metadata": {},
   "outputs": [],
   "source": [
    "def structure_sensitivity():\n",
    "    # measure the strucutre sensitivity of a topological index\n",
    "\n",
    "    # 1. calculate the topological index for the original graph\n",
    "    # 2. calculate the topological index for the graph with a random edge removed\n",
    "    # 3. calculate the topological index for the graph with a random edge added\n",
    "    # 4. calculate the topological index for the graph with a random node removed\n",
    "    # 5. calculate the topological index for the graph with a random node added\n",
    "    # 6. calculate the topological index for the graph with a random edge rewired\n",
    "    # 7. calculate the topological index for the graph with a random node rewired   \n",
    "    return\n",
    "\n",
    "def abruptness():\n",
    "    # measure the abruptness of a topological index\n",
    "\n",
    "    # 1. calculate the topological index for the original graph\n",
    "    # 2. calculate the topological index for the graph with a random edge removed\n",
    "    # 3. calculate the topological index for the graph with a random edge added\n",
    "    # 4. calculate the topological index for the graph with a random node removed\n",
    "    # 5. calculate the topological index for the graph with a random node added\n",
    "    # 6. calculate the topological index for the graph with a random edge rewired\n",
    "    # 7. calculate the topological index for the graph with a random node rewired\n",
    "\n",
    "    return\n",
    "\n",
    "def uniqueness():\n",
    "    # measure the uniqueness of a topological index\n",
    "\n",
    "    # 1. calculate the topological index for the original graph\n",
    "    # 2. calculate the topological index for the graph with a random edge removed\n",
    "    return\n",
    "\n",
    "def structural_graph_measure():\n",
    "    return\n",
    "\n",
    "def robustness():\n",
    "    return\n",
    "\n",
    "def complexity():\n",
    "    return\n"
   ]
  }
 ],
 "metadata": {
  "kernelspec": {
   "display_name": "bt",
   "language": "python",
   "name": "python3"
  },
  "language_info": {
   "name": "python",
   "version": "3.10.6 (main, Oct 24 2022, 11:04:07) [Clang 12.0.0 ]"
  },
  "orig_nbformat": 4,
  "vscode": {
   "interpreter": {
    "hash": "8a5edab282632443219e051e4ade2d1d5bbc671c781051bf1437897cbdfea0f1"
   }
  }
 },
 "nbformat": 4,
 "nbformat_minor": 2
}
