{
 "cells": [
  {
   "cell_type": "markdown",
   "metadata": {},
   "source": [
    "# Meta Indices\n",
    "\n",
    "- Structure Sensitivity\n",
    "- Abruptness\n",
    "- Uniqueness\n",
    "- Structural Graph Measure\n",
    "- Robustness\n",
    "- Complexity"
   ]
  },
  {
   "cell_type": "code",
   "execution_count": null,
   "metadata": {},
   "outputs": [],
   "source": [
    "def structure_sensitivity():\n",
    "    # measure the strucutre sensitivity of a topological index\n",
    "\n",
    "    # 1. calculate the topological index for the original graph\n",
    "    # 2. calculate the topological index for the graph with a random edge removed\n",
    "    # 3. calculate the topological index for the graph with a random edge added\n",
    "    # 4. calculate the topological index for the graph with a random node removed\n",
    "    # 5. calculate the topological index for the graph with a random node added\n",
    "    # 6. calculate the topological index for the graph with a random edge rewired\n",
    "    # 7. calculate the topological index for the graph with a random node rewired   \n",
    "    return\n",
    "\n",
    "def abruptness():\n",
    "    # measure the abruptness of a topological index\n",
    "\n",
    "    # 1. calculate the topological index for the original graph\n",
    "    # 2. calculate the topological index for the graph with a random edge removed\n",
    "    # 3. calculate the topological index for the graph with a random edge added\n",
    "    # 4. calculate the topological index for the graph with a random node removed\n",
    "    # 5. calculate the topological index for the graph with a random node added\n",
    "    # 6. calculate the topological index for the graph with a random edge rewired\n",
    "    # 7. calculate the topological index for the graph with a random node rewired\n",
    "\n",
    "    return\n",
    "\n",
    "def uniqueness():\n",
    "    # measure the uniqueness of a topological index\n",
    "\n",
    "    # 1. calculate the topological index for the original graph\n",
    "    # 2. calculate the topological index for the graph with a random edge removed\n",
    "    return\n",
    "\n",
    "def structural_graph_measure():\n",
    "    return\n",
    "\n",
    "def robustness():\n",
    "    return\n",
    "\n",
    "def complexity():\n",
    "    return\n"
   ]
  }
 ],
 "metadata": {
  "kernelspec": {
   "display_name": "torchgeometric",
   "language": "python",
   "name": "python3"
  },
  "language_info": {
   "name": "python",
   "version": "3.9.15 | packaged by conda-forge | (main, Nov 22 2022, 08:41:22) [MSC v.1929 64 bit (AMD64)]"
  },
  "orig_nbformat": 4,
  "vscode": {
   "interpreter": {
    "hash": "5412ebc1a4b20a52bb5e2d72e939a1c1ae304bef18751cb313784e9d2b02abbf"
   }
  }
 },
 "nbformat": 4,
 "nbformat_minor": 2
}
