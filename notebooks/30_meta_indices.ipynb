{
 "cells": [
  {
   "cell_type": "markdown",
   "metadata": {},
   "source": [
    "# Meta Indices\n",
    "\n",
    "- Structure Sensitivity\n",
    "- Abruptness\n",
    "- Uniqueness\n",
    "- Structural Graph Measure\n",
    "- Robustness\n",
    "- Complexity"
   ]
  },
  {
   "cell_type": "code",
   "execution_count": null,
   "metadata": {},
   "outputs": [],
   "source": [
    "def structure_sensitivity():\n",
    "    return\n",
    "\n",
    "def abruptness():\n",
    "    return\n",
    "\n",
    "def uniqueness():\n",
    "    return\n",
    "\n",
    "def structural_graph_measure():\n",
    "    return\n",
    "\n",
    "def robustness():\n",
    "    return\n",
    "\n",
    "def complexity():\n",
    "    return\n"
   ]
  }
 ],
 "metadata": {
  "kernelspec": {
   "display_name": "Python 3.10.6 ('bt')",
   "language": "python",
   "name": "python3"
  },
  "language_info": {
   "name": "python",
   "version": "3.10.6"
  },
  "orig_nbformat": 4,
  "vscode": {
   "interpreter": {
    "hash": "c27191ed4da92fbef1e06f47803eae1586514922c69f32c30cb3a0fae2806a55"
   }
  }
 },
 "nbformat": 4,
 "nbformat_minor": 2
}
