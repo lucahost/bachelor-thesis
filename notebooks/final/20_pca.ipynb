{
 "cells": [
  {
   "attachments": {},
   "cell_type": "markdown",
   "metadata": {},
   "source": [
    "# Statistical Analysis of Topological Indices\n",
    "\n",
    "## Topological Indices\n",
    "we use the following indices\n",
    "- wiener index\n",
    "- randic index\n",
    "- generalized randic index\n",
    "- harmonic index\n",
    "- atom bond connectivity index\n",
    "- first zagreb index\n",
    "- second zagreb index"
   ]
  },
  {
   "cell_type": "code",
   "execution_count": null,
   "metadata": {},
   "outputs": [],
   "source": [
    "# we need to read the dataset from the pickle file\n",
    "import pickle\n",
    "\n",
    "with open('dataset.pickle', 'rb') as f:\n",
    "    dataset = pickle.load(f)\n",
    "\n",
    "dataset.head()"
   ]
  },
  {
   "cell_type": "code",
   "execution_count": null,
   "metadata": {},
   "outputs": [],
   "source": [
    "# we use grinpy to calculate the topological indices for each graph\n",
    "\n",
    "# 70 min without wiener index\n",
    "# wiener is not fast enough for ran and hypercubes, we skip it for now\n",
    "import grinpy as gp\n",
    "import tqdm\n",
    "\n",
    "def get_topological_indices(G):\n",
    "    ''' Create a dictionary with the topological indices of a graph G.'''\n",
    "    topological_indices = {}\n",
    "    topological_indices['wiener_index'] = gp.wiener_index(G)\n",
    "    topological_indices['randic_index'] = gp.randic_index(G)\n",
    "    topological_indices['generalized_randic_index'] = gp.generalized_randic_index(G, 2)\n",
    "    topological_indices['harmonic_index'] = gp.harmonic_index(G)\n",
    "    topological_indices['atom_bond_connectivity_index'] = gp.atom_bond_connectivity_index(G)\n",
    "    topological_indices['first_zagreb_index'] = gp.first_zagreb_index(G)\n",
    "    topological_indices['second_zagreb_index'] = gp.second_zagreb_index(G)\n",
    "\n",
    "    return topological_indices\n",
    "\n",
    "def topological_indices_all_graphs(dataSet, subtypes_to_skip = []):\n",
    "    ''' Create a dictionary with the topological indices of all graphs in the dataset.'''\n",
    "    topological_indices = {}\n",
    "\n",
    "    for subType in dataSet:\n",
    "\n",
    "        if subType in subtypes_to_skip:\n",
    "            continue\n",
    "\n",
    "        topological_indices[subType] = {}\n",
    "        l = len(dataSet[subType])\n",
    "        for (i, graph) in tqdm(enumerate(dataSet[subType])):\n",
    "            topological_indices[subType][graph] = get_topological_indices(dataSet[subType][graph])\n",
    "    return topological_indices\n",
    "\n",
    "\n",
    "subtypes_to_skip = []\n",
    "\n",
    "topological_indices_all_graphs = topological_indices_all_graphs(dataset, subtypes_to_skip)\n",
    "\n",
    "print(\"done\")"
   ]
  }
 ],
 "metadata": {
  "kernelspec": {
   "display_name": "bt",
   "language": "python",
   "name": "python3"
  },
  "language_info": {
   "name": "python",
   "version": "3.10.8 | packaged by conda-forge | (main, Nov 22 2022, 08:16:33) [MSC v.1929 64 bit (AMD64)]"
  },
  "orig_nbformat": 4,
  "vscode": {
   "interpreter": {
    "hash": "403a3ce45d22581176dc371cb15bdaade48159e8b393567367f97e6090235952"
   }
  }
 },
 "nbformat": 4,
 "nbformat_minor": 2
}
