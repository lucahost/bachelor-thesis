{
 "cells": [
  {
   "attachments": {},
   "cell_type": "markdown",
   "metadata": {},
   "source": [
    "# Graph Classification\n",
    "\n",
    "## Graph Classes\n",
    "\n",
    "we use the following graph classes:\n",
    "- Chemical Graphs (Molecules)\n",
    "- Random\n",
    "- Small World\n",
    "- Scale Free\n",
    "\n",
    "## Setup\n",
    "\n",
    "We use pyg (pytorch-geometric) to generate the model to train.\n",
    "The model is a GCN with 2 layers and 32 hidden units."
   ]
  },
  {
   "cell_type": "code",
   "execution_count": 1,
   "metadata": {},
   "outputs": [
    {
     "name": "stdout",
     "output_type": "stream",
     "text": [
      "1.13.1+cu117\n",
      "11.7\n",
      "False\n",
      "2.2.0\n"
     ]
    }
   ],
   "source": [
    "import torch_geometric\n",
    "import torch\n",
    "\n",
    "print(torch.__version__)\n",
    "print(torch.version.cuda)\n",
    "print(torch.backends.mps.is_available())\n",
    "print(torch_geometric.__version__)"
   ]
  },
  {
   "cell_type": "code",
   "execution_count": 2,
   "metadata": {},
   "outputs": [],
   "source": [
    "# General imports\n",
    "import os\n",
    "import json\n",
    "import collections\n",
    "\n",
    "# Data science imports\n",
    "import numpy as np\n",
    "import pandas as pd\n",
    "import matplotlib.pyplot as plt\n",
    "import seaborn as sns\n",
    "import plotly\n",
    "import scipy.sparse as sp\n",
    "\n",
    "# Import Weights & Biases for Experiment Tracking\n",
    "import wandb\n",
    "\n",
    "# Graph imports\n",
    "import torch\n",
    "from torch import Tensor\n",
    "import torch.nn.functional as F\n",
    "\n",
    "import torch_geometric\n",
    "from torch_geometric.nn import GCNConv\n",
    "from torch_geometric.utils import to_networkx\n",
    "\n",
    "import networkx as nx\n",
    "from networkx.algorithms import community\n",
    "\n",
    "from tqdm.auto import trange"
   ]
  },
  {
   "cell_type": "code",
   "execution_count": 3,
   "metadata": {},
   "outputs": [
    {
     "name": "stderr",
     "output_type": "stream",
     "text": [
      "Failed to detect the name of this notebook, you can set it manually with the WANDB_NOTEBOOK_NAME environment variable to enable code saving.\n",
      "\u001b[34m\u001b[1mwandb\u001b[0m: Currently logged in as: \u001b[33mlucahost\u001b[0m (\u001b[33mbt-hostettler\u001b[0m). Use \u001b[1m`wandb login --relogin`\u001b[0m to force relogin\n"
     ]
    },
    {
     "data": {
      "text/html": [
       "Tracking run with wandb version 0.13.10"
      ],
      "text/plain": [
       "<IPython.core.display.HTML object>"
      ]
     },
     "metadata": {},
     "output_type": "display_data"
    },
    {
     "data": {
      "text/html": [
       "Run data is saved locally in <code>d:\\dev\\git\\gitlab\\ffhs\\luca.hostettler\\bt-hostettler\\notebooks\\final\\wandb\\run-20230301_233154-m8jm8vsu</code>"
      ],
      "text/plain": [
       "<IPython.core.display.HTML object>"
      ]
     },
     "metadata": {},
     "output_type": "display_data"
    },
    {
     "data": {
      "text/html": [
       "Syncing run <strong><a href='https://wandb.ai/bt-hostettler/bt-hostettler/runs/m8jm8vsu' target=\"_blank\">upload_and_analyze_dataset</a></strong> to <a href='https://wandb.ai/bt-hostettler/bt-hostettler' target=\"_blank\">Weights & Biases</a> (<a href='https://wandb.me/run' target=\"_blank\">docs</a>)<br/>"
      ],
      "text/plain": [
       "<IPython.core.display.HTML object>"
      ]
     },
     "metadata": {},
     "output_type": "display_data"
    },
    {
     "data": {
      "text/html": [
       " View project at <a href='https://wandb.ai/bt-hostettler/bt-hostettler' target=\"_blank\">https://wandb.ai/bt-hostettler/bt-hostettler</a>"
      ],
      "text/plain": [
       "<IPython.core.display.HTML object>"
      ]
     },
     "metadata": {},
     "output_type": "display_data"
    },
    {
     "data": {
      "text/html": [
       " View run at <a href='https://wandb.ai/bt-hostettler/bt-hostettler/runs/m8jm8vsu' target=\"_blank\">https://wandb.ai/bt-hostettler/bt-hostettler/runs/m8jm8vsu</a>"
      ],
      "text/plain": [
       "<IPython.core.display.HTML object>"
      ]
     },
     "metadata": {},
     "output_type": "display_data"
    }
   ],
   "source": [
    "use_wandb = True  # @param {type:\"boolean\"}\n",
    "wandb_project = \"bt-hostettler\"  # @param {type:\"string\"}\n",
    "wandb_run_name = \"upload_and_analyze_dataset\"  # @param {type:\"string\"}\n",
    "\n",
    "if use_wandb:\n",
    "    wandb.init(project=wandb_project, name=wandb_run_name)\n"
   ]
  },
  {
   "cell_type": "code",
   "execution_count": 4,
   "metadata": {},
   "outputs": [
    {
     "name": "stdout",
     "output_type": "stream",
     "text": [
      "datasetkey: random, shape: 1000\n",
      "datasetkey: smallworld, shape: 1000\n",
      "datasetkey: scalefree, shape: 200\n",
      "datasetkey: complete, shape: 200\n",
      "datasetkey: line, shape: 200\n",
      "datasetkey: tree, shape: 400\n",
      "datasetkey: star, shape: 200\n",
      "{'random': 0, 'smallworld': 1, 'scalefree': 2, 'complete': 3, 'line': 4, 'tree': 5, 'star': 6}\n"
     ]
    }
   ],
   "source": [
    "from torch_geometric.data import Data\n",
    "from torch_geometric.loader import DataLoader\n",
    "from torch_geometric.utils import from_networkx\n",
    "\n",
    "# we need to read the dataset from the pickle file\n",
    "import pickle\n",
    "\n",
    "with open('dataset.pickle', 'rb') as f:\n",
    "    dataset = pickle.load(f)\n",
    "\n",
    "for key in dataset.keys():\n",
    "    print(f\"datasetkey: {key}, shape: {len(dataset[key])}\")\n",
    "\n",
    "# we need to convert the networkx graphs to pytorch geometric graphs\n",
    "\n",
    "class_key = dict(zip(dataset.keys(), range(len(dataset.keys()))))\n",
    "print(class_key)\n",
    "pyg_dataset = []\n",
    "for key in dataset.keys():\n",
    "    for i in range(len(dataset[key])):\n",
    "        graph = dataset[key][i]\n",
    "        graph_tensor = from_networkx(graph, group_node_attrs=[\"label\", \"betweenness\", \"degree\"])\n",
    "        graph_tensor.y = torch.tensor([class_key[key]])\n",
    "        pyg_dataset.append(graph_tensor)"
   ]
  },
  {
   "cell_type": "code",
   "execution_count": 5,
   "metadata": {},
   "outputs": [],
   "source": [
    "import torch\n",
    "from torch_geometric.data import InMemoryDataset\n",
    "from torch_geometric.utils import from_networkx\n",
    "import pickle\n",
    "\n",
    "\n",
    "class MyOwnDataset(InMemoryDataset):\n",
    "    def __init__(self, root, transform=None, pre_transform=None, pre_filter=None):\n",
    "        super().__init__(root, transform, pre_transform, pre_filter)\n",
    "        self.data, self.slices = torch.load(self.processed_paths[0])\n",
    "\n",
    "    @property\n",
    "    def raw_file_names(self):\n",
    "        return ['some_file_1', 'some_file_2', ...]\n",
    "\n",
    "    @property\n",
    "    def processed_file_names(self):\n",
    "        return ['data.pt']\n",
    "\n",
    "\n",
    "    def process(self):\n",
    "        # Read data into huge `Data` list.\n",
    "        with open('dataset.pickle', 'rb') as f:\n",
    "            dataset = pickle.load(f)\n",
    "\n",
    "        class_key = dict(zip(dataset.keys(), range(len(dataset.keys()))))\n",
    "        print(class_key)\n",
    "        data_list = []\n",
    "        for key in dataset.keys():\n",
    "            for i in range(len(dataset[key])):\n",
    "                graph = dataset[key][i]\n",
    "                graph_tensor = from_networkx(graph, group_node_attrs=[\"label\", \"betweenness\", \"degree\", \"density\"])\n",
    "                graph_tensor.y = torch.tensor([class_key[key]])\n",
    "                data_list.append(graph_tensor)\n",
    "\n",
    "        if self.pre_filter is not None:\n",
    "            data_list = [data for data in data_list if self.pre_filter(data)]\n",
    "\n",
    "        if self.pre_transform is not None:\n",
    "            data_list = [self.pre_transform(data) for data in data_list]\n",
    "\n",
    "        data, slices = self.collate(data_list)\n",
    "        torch.save((data, slices), self.processed_paths[0])"
   ]
  },
  {
   "cell_type": "code",
   "execution_count": 6,
   "metadata": {},
   "outputs": [
    {
     "name": "stderr",
     "output_type": "stream",
     "text": [
      "Processing...\n"
     ]
    },
    {
     "name": "stdout",
     "output_type": "stream",
     "text": [
      "{'random': 0, 'smallworld': 1, 'scalefree': 2, 'complete': 3, 'line': 4, 'tree': 5, 'star': 6}\n",
      "\n",
      "Dataset: MyOwnDataset(3200):\n",
      "====================\n",
      "Number of graphs: 3200\n",
      "Number of features: 4\n",
      "Number of classes: 7\n",
      "\n",
      "Data(edge_index=[2, 12], x=[5, 4], y=[1])\n",
      "tensor([[0.0000, 0.0833, 0.5000, 0.6000],\n",
      "        [1.0000, 0.0000, 0.5000, 0.6000],\n",
      "        [2.0000, 0.0833, 0.5000, 0.6000],\n",
      "        [3.0000, 0.2500, 0.7500, 0.6000],\n",
      "        [4.0000, 0.2500, 0.7500, 0.6000]])\n",
      "=============================================================\n",
      "Number of nodes: 5\n",
      "Number of edges: 12\n",
      "Average node degree: 2.40\n",
      "Has isolated nodes: False\n",
      "Has self-loops: False\n",
      "Is undirected: True\n"
     ]
    },
    {
     "name": "stderr",
     "output_type": "stream",
     "text": [
      "Done!\n"
     ]
    }
   ],
   "source": [
    "import torch\n",
    "from torch_geometric.datasets import TUDataset\n",
    "\n",
    "pyg_dataset = MyOwnDataset(root='data/CustomData')\n",
    "\n",
    "print()\n",
    "print(f'Dataset: {pyg_dataset}:')\n",
    "print('====================')\n",
    "print(f'Number of graphs: {len(pyg_dataset)}')\n",
    "print(f'Number of features: {pyg_dataset.num_features}')\n",
    "print(f'Number of classes: {pyg_dataset.num_classes}')\n",
    "\n",
    "data = pyg_dataset[0]  # Get the first graph object.\n",
    "\n",
    "print()\n",
    "print(data)\n",
    "print(data.x)\n",
    "print('=============================================================')\n",
    "\n",
    "# Gather some statistics about the first graph.\n",
    "print(f'Number of nodes: {data.num_nodes}')\n",
    "print(f'Number of edges: {data.num_edges}')\n",
    "print(f'Average node degree: {data.num_edges / data.num_nodes:.2f}')\n",
    "print(f'Has isolated nodes: {data.has_isolated_nodes()}')\n",
    "print(f'Has self-loops: {data.has_self_loops()}')\n",
    "print(f'Is undirected: {data.is_undirected()}')\n",
    "\n",
    "data_details = {\n",
    "    \"num_node_features\": pyg_dataset.num_node_features,\n",
    "    \"num_edge_features\": pyg_dataset.num_edge_features,\n",
    "    \"num_classes\": pyg_dataset.num_classes,\n",
    "}\n",
    "\n",
    "if use_wandb:\n",
    "    # Log all the details about the data to W&B.\n",
    "    wandb.log(data_details)  # 🪄🐝\n",
    "else:\n",
    "    print(json.dumps(data_details, sort_keys=True, indent=4))\n"
   ]
  },
  {
   "cell_type": "code",
   "execution_count": 7,
   "metadata": {},
   "outputs": [
    {
     "data": {
      "application/vnd.plotly.v1+json": {
       "config": {
        "plotlyServerURL": "https://plot.ly"
       },
       "data": [
        {
         "hoverinfo": "none",
         "line": {
          "color": "#808080",
          "width": 2
         },
         "mode": "lines",
         "opacity": 0.8,
         "type": "scatter",
         "x": [
          -0.502918218566377,
          -0.37964610526746684,
          null,
          -0.502918218566377,
          0.3614267214746693,
          null,
          0.09690563836121338,
          -0.37964610526746684,
          null,
          0.09690563836121338,
          0.42423196399796215,
          null,
          0.3614267214746693,
          -0.502918218566377,
          null,
          0.3614267214746693,
          0.42423196399796215,
          null,
          0.42423196399796215,
          0.09690563836121338,
          null,
          0.42423196399796215,
          0.3614267214746693,
          null,
          0.42423196399796215,
          -0.37964610526746684,
          null,
          -0.37964610526746684,
          -0.502918218566377,
          null,
          -0.37964610526746684,
          0.09690563836121338,
          null,
          -0.37964610526746684,
          0.42423196399796215,
          null
         ],
         "y": [
          -0.688010170391904,
          0.26878858831047764,
          null,
          -0.688010170391904,
          -0.7717080165422455,
          null,
          1,
          0.26878858831047764,
          null,
          1,
          0.19092959862367204,
          null,
          -0.7717080165422455,
          -0.688010170391904,
          null,
          -0.7717080165422455,
          0.19092959862367204,
          null,
          0.19092959862367204,
          1,
          null,
          0.19092959862367204,
          -0.7717080165422455,
          null,
          0.19092959862367204,
          0.26878858831047764,
          null,
          0.26878858831047764,
          -0.688010170391904,
          null,
          0.26878858831047764,
          1,
          null,
          0.26878858831047764,
          0.19092959862367204,
          null
         ]
        },
        {
         "hoverinfo": "text",
         "marker": {
          "color": "#fcfcfc",
          "colorbar": {
           "thickness": 15,
           "title": {
            "side": "right",
            "text": ""
           },
           "xanchor": "left"
          },
          "colorscale": [
           [
            0,
            "rgb(255,255,217)"
           ],
           [
            0.125,
            "rgb(237,248,177)"
           ],
           [
            0.25,
            "rgb(199,233,180)"
           ],
           [
            0.375,
            "rgb(127,205,187)"
           ],
           [
            0.5,
            "rgb(65,182,196)"
           ],
           [
            0.625,
            "rgb(29,145,192)"
           ],
           [
            0.75,
            "rgb(34,94,168)"
           ],
           [
            0.875,
            "rgb(37,52,148)"
           ],
           [
            1,
            "rgb(8,29,88)"
           ]
          ],
          "line": {
           "color": "#333333",
           "width": 2
          },
          "reversescale": false,
          "showscale": false,
          "size": 20
         },
         "mode": "markers+text",
         "opacity": 0.8,
         "text": [
          "0",
          "1",
          "2",
          "3",
          "4"
         ],
         "textfont": {
          "color": "#000000",
          "family": "Arial",
          "size": 14
         },
         "textposition": "top left",
         "type": "scatter",
         "x": [
          -0.502918218566377,
          0.09690563836121338,
          0.3614267214746693,
          0.42423196399796215,
          -0.37964610526746684
         ],
         "y": [
          -0.688010170391904,
          1,
          -0.7717080165422455,
          0.19092959862367204,
          0.26878858831047764
         ]
        }
       ],
       "layout": {
        "autosize": false,
        "height": 400,
        "hovermode": "closest",
        "margin": {
         "b": 5,
         "l": 0,
         "r": 0,
         "t": 20
        },
        "paper_bgcolor": "rgba(255,255,255,255)",
        "plot_bgcolor": "rgba(0,0,0,0)",
        "scene": {
         "xaxis": {
          "autorange": true,
          "showgrid": false,
          "showline": false,
          "showticklabels": false,
          "ticks": "",
          "visible": false,
          "zeroline": false
         },
         "yaxis": {
          "autorange": true,
          "showgrid": false,
          "showline": false,
          "showticklabels": false,
          "ticks": "",
          "visible": false,
          "zeroline": false
         },
         "zaxis": {
          "autorange": true,
          "showgrid": false,
          "showline": false,
          "showticklabels": false,
          "ticks": "",
          "visible": false,
          "zeroline": false
         }
        },
        "showlegend": false,
        "template": {
         "data": {
          "bar": [
           {
            "error_x": {
             "color": "#2a3f5f"
            },
            "error_y": {
             "color": "#2a3f5f"
            },
            "marker": {
             "line": {
              "color": "#E5ECF6",
              "width": 0.5
             },
             "pattern": {
              "fillmode": "overlay",
              "size": 10,
              "solidity": 0.2
             }
            },
            "type": "bar"
           }
          ],
          "barpolar": [
           {
            "marker": {
             "line": {
              "color": "#E5ECF6",
              "width": 0.5
             },
             "pattern": {
              "fillmode": "overlay",
              "size": 10,
              "solidity": 0.2
             }
            },
            "type": "barpolar"
           }
          ],
          "carpet": [
           {
            "aaxis": {
             "endlinecolor": "#2a3f5f",
             "gridcolor": "white",
             "linecolor": "white",
             "minorgridcolor": "white",
             "startlinecolor": "#2a3f5f"
            },
            "baxis": {
             "endlinecolor": "#2a3f5f",
             "gridcolor": "white",
             "linecolor": "white",
             "minorgridcolor": "white",
             "startlinecolor": "#2a3f5f"
            },
            "type": "carpet"
           }
          ],
          "choropleth": [
           {
            "colorbar": {
             "outlinewidth": 0,
             "ticks": ""
            },
            "type": "choropleth"
           }
          ],
          "contour": [
           {
            "colorbar": {
             "outlinewidth": 0,
             "ticks": ""
            },
            "colorscale": [
             [
              0,
              "#0d0887"
             ],
             [
              0.1111111111111111,
              "#46039f"
             ],
             [
              0.2222222222222222,
              "#7201a8"
             ],
             [
              0.3333333333333333,
              "#9c179e"
             ],
             [
              0.4444444444444444,
              "#bd3786"
             ],
             [
              0.5555555555555556,
              "#d8576b"
             ],
             [
              0.6666666666666666,
              "#ed7953"
             ],
             [
              0.7777777777777778,
              "#fb9f3a"
             ],
             [
              0.8888888888888888,
              "#fdca26"
             ],
             [
              1,
              "#f0f921"
             ]
            ],
            "type": "contour"
           }
          ],
          "contourcarpet": [
           {
            "colorbar": {
             "outlinewidth": 0,
             "ticks": ""
            },
            "type": "contourcarpet"
           }
          ],
          "heatmap": [
           {
            "colorbar": {
             "outlinewidth": 0,
             "ticks": ""
            },
            "colorscale": [
             [
              0,
              "#0d0887"
             ],
             [
              0.1111111111111111,
              "#46039f"
             ],
             [
              0.2222222222222222,
              "#7201a8"
             ],
             [
              0.3333333333333333,
              "#9c179e"
             ],
             [
              0.4444444444444444,
              "#bd3786"
             ],
             [
              0.5555555555555556,
              "#d8576b"
             ],
             [
              0.6666666666666666,
              "#ed7953"
             ],
             [
              0.7777777777777778,
              "#fb9f3a"
             ],
             [
              0.8888888888888888,
              "#fdca26"
             ],
             [
              1,
              "#f0f921"
             ]
            ],
            "type": "heatmap"
           }
          ],
          "heatmapgl": [
           {
            "colorbar": {
             "outlinewidth": 0,
             "ticks": ""
            },
            "colorscale": [
             [
              0,
              "#0d0887"
             ],
             [
              0.1111111111111111,
              "#46039f"
             ],
             [
              0.2222222222222222,
              "#7201a8"
             ],
             [
              0.3333333333333333,
              "#9c179e"
             ],
             [
              0.4444444444444444,
              "#bd3786"
             ],
             [
              0.5555555555555556,
              "#d8576b"
             ],
             [
              0.6666666666666666,
              "#ed7953"
             ],
             [
              0.7777777777777778,
              "#fb9f3a"
             ],
             [
              0.8888888888888888,
              "#fdca26"
             ],
             [
              1,
              "#f0f921"
             ]
            ],
            "type": "heatmapgl"
           }
          ],
          "histogram": [
           {
            "marker": {
             "pattern": {
              "fillmode": "overlay",
              "size": 10,
              "solidity": 0.2
             }
            },
            "type": "histogram"
           }
          ],
          "histogram2d": [
           {
            "colorbar": {
             "outlinewidth": 0,
             "ticks": ""
            },
            "colorscale": [
             [
              0,
              "#0d0887"
             ],
             [
              0.1111111111111111,
              "#46039f"
             ],
             [
              0.2222222222222222,
              "#7201a8"
             ],
             [
              0.3333333333333333,
              "#9c179e"
             ],
             [
              0.4444444444444444,
              "#bd3786"
             ],
             [
              0.5555555555555556,
              "#d8576b"
             ],
             [
              0.6666666666666666,
              "#ed7953"
             ],
             [
              0.7777777777777778,
              "#fb9f3a"
             ],
             [
              0.8888888888888888,
              "#fdca26"
             ],
             [
              1,
              "#f0f921"
             ]
            ],
            "type": "histogram2d"
           }
          ],
          "histogram2dcontour": [
           {
            "colorbar": {
             "outlinewidth": 0,
             "ticks": ""
            },
            "colorscale": [
             [
              0,
              "#0d0887"
             ],
             [
              0.1111111111111111,
              "#46039f"
             ],
             [
              0.2222222222222222,
              "#7201a8"
             ],
             [
              0.3333333333333333,
              "#9c179e"
             ],
             [
              0.4444444444444444,
              "#bd3786"
             ],
             [
              0.5555555555555556,
              "#d8576b"
             ],
             [
              0.6666666666666666,
              "#ed7953"
             ],
             [
              0.7777777777777778,
              "#fb9f3a"
             ],
             [
              0.8888888888888888,
              "#fdca26"
             ],
             [
              1,
              "#f0f921"
             ]
            ],
            "type": "histogram2dcontour"
           }
          ],
          "mesh3d": [
           {
            "colorbar": {
             "outlinewidth": 0,
             "ticks": ""
            },
            "type": "mesh3d"
           }
          ],
          "parcoords": [
           {
            "line": {
             "colorbar": {
              "outlinewidth": 0,
              "ticks": ""
             }
            },
            "type": "parcoords"
           }
          ],
          "pie": [
           {
            "automargin": true,
            "type": "pie"
           }
          ],
          "scatter": [
           {
            "fillpattern": {
             "fillmode": "overlay",
             "size": 10,
             "solidity": 0.2
            },
            "type": "scatter"
           }
          ],
          "scatter3d": [
           {
            "line": {
             "colorbar": {
              "outlinewidth": 0,
              "ticks": ""
             }
            },
            "marker": {
             "colorbar": {
              "outlinewidth": 0,
              "ticks": ""
             }
            },
            "type": "scatter3d"
           }
          ],
          "scattercarpet": [
           {
            "marker": {
             "colorbar": {
              "outlinewidth": 0,
              "ticks": ""
             }
            },
            "type": "scattercarpet"
           }
          ],
          "scattergeo": [
           {
            "marker": {
             "colorbar": {
              "outlinewidth": 0,
              "ticks": ""
             }
            },
            "type": "scattergeo"
           }
          ],
          "scattergl": [
           {
            "marker": {
             "colorbar": {
              "outlinewidth": 0,
              "ticks": ""
             }
            },
            "type": "scattergl"
           }
          ],
          "scattermapbox": [
           {
            "marker": {
             "colorbar": {
              "outlinewidth": 0,
              "ticks": ""
             }
            },
            "type": "scattermapbox"
           }
          ],
          "scatterpolar": [
           {
            "marker": {
             "colorbar": {
              "outlinewidth": 0,
              "ticks": ""
             }
            },
            "type": "scatterpolar"
           }
          ],
          "scatterpolargl": [
           {
            "marker": {
             "colorbar": {
              "outlinewidth": 0,
              "ticks": ""
             }
            },
            "type": "scatterpolargl"
           }
          ],
          "scatterternary": [
           {
            "marker": {
             "colorbar": {
              "outlinewidth": 0,
              "ticks": ""
             }
            },
            "type": "scatterternary"
           }
          ],
          "surface": [
           {
            "colorbar": {
             "outlinewidth": 0,
             "ticks": ""
            },
            "colorscale": [
             [
              0,
              "#0d0887"
             ],
             [
              0.1111111111111111,
              "#46039f"
             ],
             [
              0.2222222222222222,
              "#7201a8"
             ],
             [
              0.3333333333333333,
              "#9c179e"
             ],
             [
              0.4444444444444444,
              "#bd3786"
             ],
             [
              0.5555555555555556,
              "#d8576b"
             ],
             [
              0.6666666666666666,
              "#ed7953"
             ],
             [
              0.7777777777777778,
              "#fb9f3a"
             ],
             [
              0.8888888888888888,
              "#fdca26"
             ],
             [
              1,
              "#f0f921"
             ]
            ],
            "type": "surface"
           }
          ],
          "table": [
           {
            "cells": {
             "fill": {
              "color": "#EBF0F8"
             },
             "line": {
              "color": "white"
             }
            },
            "header": {
             "fill": {
              "color": "#C8D4E3"
             },
             "line": {
              "color": "white"
             }
            },
            "type": "table"
           }
          ]
         },
         "layout": {
          "annotationdefaults": {
           "arrowcolor": "#2a3f5f",
           "arrowhead": 0,
           "arrowwidth": 1
          },
          "autotypenumbers": "strict",
          "coloraxis": {
           "colorbar": {
            "outlinewidth": 0,
            "ticks": ""
           }
          },
          "colorscale": {
           "diverging": [
            [
             0,
             "#8e0152"
            ],
            [
             0.1,
             "#c51b7d"
            ],
            [
             0.2,
             "#de77ae"
            ],
            [
             0.3,
             "#f1b6da"
            ],
            [
             0.4,
             "#fde0ef"
            ],
            [
             0.5,
             "#f7f7f7"
            ],
            [
             0.6,
             "#e6f5d0"
            ],
            [
             0.7,
             "#b8e186"
            ],
            [
             0.8,
             "#7fbc41"
            ],
            [
             0.9,
             "#4d9221"
            ],
            [
             1,
             "#276419"
            ]
           ],
           "sequential": [
            [
             0,
             "#0d0887"
            ],
            [
             0.1111111111111111,
             "#46039f"
            ],
            [
             0.2222222222222222,
             "#7201a8"
            ],
            [
             0.3333333333333333,
             "#9c179e"
            ],
            [
             0.4444444444444444,
             "#bd3786"
            ],
            [
             0.5555555555555556,
             "#d8576b"
            ],
            [
             0.6666666666666666,
             "#ed7953"
            ],
            [
             0.7777777777777778,
             "#fb9f3a"
            ],
            [
             0.8888888888888888,
             "#fdca26"
            ],
            [
             1,
             "#f0f921"
            ]
           ],
           "sequentialminus": [
            [
             0,
             "#0d0887"
            ],
            [
             0.1111111111111111,
             "#46039f"
            ],
            [
             0.2222222222222222,
             "#7201a8"
            ],
            [
             0.3333333333333333,
             "#9c179e"
            ],
            [
             0.4444444444444444,
             "#bd3786"
            ],
            [
             0.5555555555555556,
             "#d8576b"
            ],
            [
             0.6666666666666666,
             "#ed7953"
            ],
            [
             0.7777777777777778,
             "#fb9f3a"
            ],
            [
             0.8888888888888888,
             "#fdca26"
            ],
            [
             1,
             "#f0f921"
            ]
           ]
          },
          "colorway": [
           "#636efa",
           "#EF553B",
           "#00cc96",
           "#ab63fa",
           "#FFA15A",
           "#19d3f3",
           "#FF6692",
           "#B6E880",
           "#FF97FF",
           "#FECB52"
          ],
          "font": {
           "color": "#2a3f5f"
          },
          "geo": {
           "bgcolor": "white",
           "lakecolor": "white",
           "landcolor": "#E5ECF6",
           "showlakes": true,
           "showland": true,
           "subunitcolor": "white"
          },
          "hoverlabel": {
           "align": "left"
          },
          "hovermode": "closest",
          "mapbox": {
           "style": "light"
          },
          "paper_bgcolor": "white",
          "plot_bgcolor": "#E5ECF6",
          "polar": {
           "angularaxis": {
            "gridcolor": "white",
            "linecolor": "white",
            "ticks": ""
           },
           "bgcolor": "#E5ECF6",
           "radialaxis": {
            "gridcolor": "white",
            "linecolor": "white",
            "ticks": ""
           }
          },
          "scene": {
           "xaxis": {
            "backgroundcolor": "#E5ECF6",
            "gridcolor": "white",
            "gridwidth": 2,
            "linecolor": "white",
            "showbackground": true,
            "ticks": "",
            "zerolinecolor": "white"
           },
           "yaxis": {
            "backgroundcolor": "#E5ECF6",
            "gridcolor": "white",
            "gridwidth": 2,
            "linecolor": "white",
            "showbackground": true,
            "ticks": "",
            "zerolinecolor": "white"
           },
           "zaxis": {
            "backgroundcolor": "#E5ECF6",
            "gridcolor": "white",
            "gridwidth": 2,
            "linecolor": "white",
            "showbackground": true,
            "ticks": "",
            "zerolinecolor": "white"
           }
          },
          "shapedefaults": {
           "line": {
            "color": "#2a3f5f"
           }
          },
          "ternary": {
           "aaxis": {
            "gridcolor": "white",
            "linecolor": "white",
            "ticks": ""
           },
           "baxis": {
            "gridcolor": "white",
            "linecolor": "white",
            "ticks": ""
           },
           "bgcolor": "#E5ECF6",
           "caxis": {
            "gridcolor": "white",
            "linecolor": "white",
            "ticks": ""
           }
          },
          "title": {
           "x": 0.05
          },
          "xaxis": {
           "automargin": true,
           "gridcolor": "white",
           "linecolor": "white",
           "ticks": "",
           "title": {
            "standoff": 15
           },
           "zerolinecolor": "white",
           "zerolinewidth": 2
          },
          "yaxis": {
           "automargin": true,
           "gridcolor": "white",
           "linecolor": "white",
           "ticks": "",
           "title": {
            "standoff": 15
           },
           "zerolinecolor": "white",
           "zerolinewidth": 2
          }
         }
        },
        "title": {
         "font": {
          "size": 16
         },
         "text": ""
        },
        "width": 375,
        "xaxis": {
         "autorange": true,
         "showgrid": false,
         "showline": false,
         "showticklabels": false,
         "ticks": "",
         "visible": false,
         "zeroline": false
        },
        "yaxis": {
         "autorange": true,
         "showgrid": false,
         "showline": false,
         "showticklabels": false,
         "ticks": "",
         "visible": false,
         "zeroline": false
        }
       }
      }
     },
     "metadata": {},
     "output_type": "display_data"
    }
   ],
   "source": [
    "from visualize import GraphVisualization\n",
    "\n",
    "def create_graph(graph):\n",
    "    g = to_networkx(graph)\n",
    "    pos = nx.spring_layout(g)\n",
    "    vis = GraphVisualization(\n",
    "        g, pos, node_text_position='top left', node_size=20,\n",
    "    )\n",
    "    fig = vis.create_figure()\n",
    "    return fig\n",
    "\n",
    "\n",
    "fig = create_graph(pyg_dataset[0])\n",
    "fig.show()\n"
   ]
  },
  {
   "cell_type": "code",
   "execution_count": 8,
   "metadata": {},
   "outputs": [
    {
     "data": {
      "application/vnd.jupyter.widget-view+json": {
       "model_id": "6da2367af1a54bfd927ae75ca6959ccc",
       "version_major": 2,
       "version_minor": 0
      },
      "text/plain": [
       "Generating Graphs for W&B:   0%|          | 0/3200 [00:00<?, ?it/s]"
      ]
     },
     "metadata": {},
     "output_type": "display_data"
    }
   ],
   "source": [
    "from tqdm.notebook import tqdm\n",
    "if use_wandb:\n",
    "    # Log exploratory visualizations for each data point to W&B\n",
    "    table = wandb.Table(\n",
    "        columns=[\"Graph\", \"Number of Nodes\", \"Number of Edges\", \"Label\"])\n",
    "    for graph in tqdm(pyg_dataset, total=len(pyg_dataset), desc='Generating Graphs for W&B'):\n",
    "        fig = create_graph(graph)\n",
    "        n_nodes = graph.num_nodes\n",
    "        n_edges = graph.num_edges\n",
    "        label = graph.y.item()\n",
    "\n",
    "        table.add_data(wandb.Html(plotly.io.to_html(fig)),\n",
    "                       n_nodes, n_edges, label)\n",
    "    wandb.log({\"data\": table})\n"
   ]
  },
  {
   "cell_type": "code",
   "execution_count": 9,
   "metadata": {},
   "outputs": [
    {
     "name": "stderr",
     "output_type": "stream",
     "text": [
      "\u001b[34m\u001b[1mwandb\u001b[0m: Adding directory to artifact (.\\data\\CustomData)... Done. 0.6s\n"
     ]
    },
    {
     "data": {
      "text/html": [
       "Waiting for W&B process to finish... <strong style=\"color:green\">(success).</strong>"
      ],
      "text/plain": [
       "<IPython.core.display.HTML object>"
      ]
     },
     "metadata": {},
     "output_type": "display_data"
    },
    {
     "data": {
      "text/html": [
       "<style>\n",
       "    table.wandb td:nth-child(1) { padding: 0 10px; text-align: left ; width: auto;} td:nth-child(2) {text-align: left ; width: 100%}\n",
       "    .wandb-row { display: flex; flex-direction: row; flex-wrap: wrap; justify-content: flex-start; width: 100% }\n",
       "    .wandb-col { display: flex; flex-direction: column; flex-basis: 100%; flex: 1; padding: 10px; }\n",
       "    </style>\n",
       "<div class=\"wandb-row\"><div class=\"wandb-col\"><h3>Run history:</h3><br/><table class=\"wandb\"><tr><td>num_classes</td><td>▁</td></tr><tr><td>num_edge_features</td><td>▁</td></tr><tr><td>num_node_features</td><td>▁</td></tr></table><br/></div><div class=\"wandb-col\"><h3>Run summary:</h3><br/><table class=\"wandb\"><tr><td>num_classes</td><td>7</td></tr><tr><td>num_edge_features</td><td>0</td></tr><tr><td>num_node_features</td><td>4</td></tr></table><br/></div></div>"
      ],
      "text/plain": [
       "<IPython.core.display.HTML object>"
      ]
     },
     "metadata": {},
     "output_type": "display_data"
    },
    {
     "data": {
      "text/html": [
       " View run <strong style=\"color:#cdcd00\">upload_and_analyze_dataset</strong> at: <a href='https://wandb.ai/bt-hostettler/bt-hostettler/runs/m8jm8vsu' target=\"_blank\">https://wandb.ai/bt-hostettler/bt-hostettler/runs/m8jm8vsu</a><br/>Synced 6 W&B file(s), 1 media file(s), 3204 artifact file(s) and 0 other file(s)"
      ],
      "text/plain": [
       "<IPython.core.display.HTML object>"
      ]
     },
     "metadata": {},
     "output_type": "display_data"
    },
    {
     "data": {
      "text/html": [
       "Find logs at: <code>.\\wandb\\run-20230301_233154-m8jm8vsu\\logs</code>"
      ],
      "text/plain": [
       "<IPython.core.display.HTML object>"
      ]
     },
     "metadata": {},
     "output_type": "display_data"
    }
   ],
   "source": [
    "dataset_path = \"data/CustomData\"\n",
    "if use_wandb:\n",
    "    # Log the dataset to W&B as an artifact.\n",
    "    dataset_artifact = wandb.Artifact(name=\"BT-Data\", type=\"dataset\", metadata=data_details)\n",
    "    dataset_artifact.add_dir(dataset_path)\n",
    "    wandb.log_artifact(dataset_artifact)\n",
    "    \n",
    "    # End the W&B run\n",
    "    wandb.finish()"
   ]
  },
  {
   "cell_type": "code",
   "execution_count": 10,
   "metadata": {},
   "outputs": [
    {
     "name": "stdout",
     "output_type": "stream",
     "text": [
      "Number of training graphs: 2560\n",
      "Number of test graphs: 640\n"
     ]
    }
   ],
   "source": [
    "torch.manual_seed(12345)\n",
    "pyg_dataset = pyg_dataset.shuffle()\n",
    "\n",
    "train_dataset = pyg_dataset[:2560]\n",
    "test_dataset = pyg_dataset[2560:]\n",
    "\n",
    "print(f'Number of training graphs: {len(train_dataset)}')\n",
    "print(f'Number of test graphs: {len(test_dataset)}')"
   ]
  },
  {
   "cell_type": "code",
   "execution_count": 11,
   "metadata": {},
   "outputs": [
    {
     "name": "stdout",
     "output_type": "stream",
     "text": [
      "Step 1:\n",
      "=======\n",
      "Number of graphs in the current batch: 64\n",
      "DataBatch(edge_index=[2, 248686], x=[4916, 4], y=[64], batch=[4916], ptr=[65])\n",
      "\n",
      "Step 2:\n",
      "=======\n",
      "Number of graphs in the current batch: 64\n",
      "DataBatch(edge_index=[2, 294872], x=[6873, 4], y=[64], batch=[6873], ptr=[65])\n",
      "\n",
      "Step 3:\n",
      "=======\n",
      "Number of graphs in the current batch: 64\n",
      "DataBatch(edge_index=[2, 337300], x=[6702, 4], y=[64], batch=[6702], ptr=[65])\n",
      "\n",
      "Step 4:\n",
      "=======\n",
      "Number of graphs in the current batch: 64\n",
      "DataBatch(edge_index=[2, 267134], x=[5797, 4], y=[64], batch=[5797], ptr=[65])\n",
      "\n",
      "Step 5:\n",
      "=======\n",
      "Number of graphs in the current batch: 64\n",
      "DataBatch(edge_index=[2, 284494], x=[6300, 4], y=[64], batch=[6300], ptr=[65])\n",
      "\n",
      "Step 6:\n",
      "=======\n",
      "Number of graphs in the current batch: 64\n",
      "DataBatch(edge_index=[2, 298692], x=[6344, 4], y=[64], batch=[6344], ptr=[65])\n",
      "\n",
      "Step 7:\n",
      "=======\n",
      "Number of graphs in the current batch: 64\n",
      "DataBatch(edge_index=[2, 254668], x=[6073, 4], y=[64], batch=[6073], ptr=[65])\n",
      "\n",
      "Step 8:\n",
      "=======\n",
      "Number of graphs in the current batch: 64\n",
      "DataBatch(edge_index=[2, 338148], x=[6635, 4], y=[64], batch=[6635], ptr=[65])\n",
      "\n",
      "Step 9:\n",
      "=======\n",
      "Number of graphs in the current batch: 64\n",
      "DataBatch(edge_index=[2, 395182], x=[6114, 4], y=[64], batch=[6114], ptr=[65])\n",
      "\n",
      "Step 10:\n",
      "=======\n",
      "Number of graphs in the current batch: 64\n",
      "DataBatch(edge_index=[2, 306908], x=[6198, 4], y=[64], batch=[6198], ptr=[65])\n",
      "\n",
      "Step 11:\n",
      "=======\n",
      "Number of graphs in the current batch: 64\n",
      "DataBatch(edge_index=[2, 399790], x=[7081, 4], y=[64], batch=[7081], ptr=[65])\n",
      "\n",
      "Step 12:\n",
      "=======\n",
      "Number of graphs in the current batch: 64\n",
      "DataBatch(edge_index=[2, 261022], x=[5447, 4], y=[64], batch=[5447], ptr=[65])\n",
      "\n",
      "Step 13:\n",
      "=======\n",
      "Number of graphs in the current batch: 64\n",
      "DataBatch(edge_index=[2, 329220], x=[6059, 4], y=[64], batch=[6059], ptr=[65])\n",
      "\n",
      "Step 14:\n",
      "=======\n",
      "Number of graphs in the current batch: 64\n",
      "DataBatch(edge_index=[2, 306544], x=[6088, 4], y=[64], batch=[6088], ptr=[65])\n",
      "\n",
      "Step 15:\n",
      "=======\n",
      "Number of graphs in the current batch: 64\n",
      "DataBatch(edge_index=[2, 325056], x=[6230, 4], y=[64], batch=[6230], ptr=[65])\n",
      "\n",
      "Step 16:\n",
      "=======\n",
      "Number of graphs in the current batch: 64\n",
      "DataBatch(edge_index=[2, 284922], x=[5634, 4], y=[64], batch=[5634], ptr=[65])\n",
      "\n",
      "Step 17:\n",
      "=======\n",
      "Number of graphs in the current batch: 64\n",
      "DataBatch(edge_index=[2, 354308], x=[6563, 4], y=[64], batch=[6563], ptr=[65])\n",
      "\n",
      "Step 18:\n",
      "=======\n",
      "Number of graphs in the current batch: 64\n",
      "DataBatch(edge_index=[2, 335556], x=[5929, 4], y=[64], batch=[5929], ptr=[65])\n",
      "\n",
      "Step 19:\n",
      "=======\n",
      "Number of graphs in the current batch: 64\n",
      "DataBatch(edge_index=[2, 340802], x=[6390, 4], y=[64], batch=[6390], ptr=[65])\n",
      "\n",
      "Step 20:\n",
      "=======\n",
      "Number of graphs in the current batch: 64\n",
      "DataBatch(edge_index=[2, 305420], x=[6430, 4], y=[64], batch=[6430], ptr=[65])\n",
      "\n",
      "Step 21:\n",
      "=======\n",
      "Number of graphs in the current batch: 64\n",
      "DataBatch(edge_index=[2, 268792], x=[6687, 4], y=[64], batch=[6687], ptr=[65])\n",
      "\n",
      "Step 22:\n",
      "=======\n",
      "Number of graphs in the current batch: 64\n",
      "DataBatch(edge_index=[2, 246106], x=[5533, 4], y=[64], batch=[5533], ptr=[65])\n",
      "\n",
      "Step 23:\n",
      "=======\n",
      "Number of graphs in the current batch: 64\n",
      "DataBatch(edge_index=[2, 288618], x=[6152, 4], y=[64], batch=[6152], ptr=[65])\n",
      "\n",
      "Step 24:\n",
      "=======\n",
      "Number of graphs in the current batch: 64\n",
      "DataBatch(edge_index=[2, 408556], x=[7207, 4], y=[64], batch=[7207], ptr=[65])\n",
      "\n",
      "Step 25:\n",
      "=======\n",
      "Number of graphs in the current batch: 64\n",
      "DataBatch(edge_index=[2, 322420], x=[6137, 4], y=[64], batch=[6137], ptr=[65])\n",
      "\n",
      "Step 26:\n",
      "=======\n",
      "Number of graphs in the current batch: 64\n",
      "DataBatch(edge_index=[2, 245742], x=[5775, 4], y=[64], batch=[5775], ptr=[65])\n",
      "\n",
      "Step 27:\n",
      "=======\n",
      "Number of graphs in the current batch: 64\n",
      "DataBatch(edge_index=[2, 389102], x=[6709, 4], y=[64], batch=[6709], ptr=[65])\n",
      "\n",
      "Step 28:\n",
      "=======\n",
      "Number of graphs in the current batch: 64\n",
      "DataBatch(edge_index=[2, 309286], x=[6077, 4], y=[64], batch=[6077], ptr=[65])\n",
      "\n",
      "Step 29:\n",
      "=======\n",
      "Number of graphs in the current batch: 64\n",
      "DataBatch(edge_index=[2, 343012], x=[5724, 4], y=[64], batch=[5724], ptr=[65])\n",
      "\n",
      "Step 30:\n",
      "=======\n",
      "Number of graphs in the current batch: 64\n",
      "DataBatch(edge_index=[2, 335834], x=[6295, 4], y=[64], batch=[6295], ptr=[65])\n",
      "\n",
      "Step 31:\n",
      "=======\n",
      "Number of graphs in the current batch: 64\n",
      "DataBatch(edge_index=[2, 314480], x=[5843, 4], y=[64], batch=[5843], ptr=[65])\n",
      "\n",
      "Step 32:\n",
      "=======\n",
      "Number of graphs in the current batch: 64\n",
      "DataBatch(edge_index=[2, 244338], x=[5928, 4], y=[64], batch=[5928], ptr=[65])\n",
      "\n",
      "Step 33:\n",
      "=======\n",
      "Number of graphs in the current batch: 64\n",
      "DataBatch(edge_index=[2, 275068], x=[6758, 4], y=[64], batch=[6758], ptr=[65])\n",
      "\n",
      "Step 34:\n",
      "=======\n",
      "Number of graphs in the current batch: 64\n",
      "DataBatch(edge_index=[2, 324532], x=[6381, 4], y=[64], batch=[6381], ptr=[65])\n",
      "\n",
      "Step 35:\n",
      "=======\n",
      "Number of graphs in the current batch: 64\n",
      "DataBatch(edge_index=[2, 335094], x=[6623, 4], y=[64], batch=[6623], ptr=[65])\n",
      "\n",
      "Step 36:\n",
      "=======\n",
      "Number of graphs in the current batch: 64\n",
      "DataBatch(edge_index=[2, 237078], x=[5721, 4], y=[64], batch=[5721], ptr=[65])\n",
      "\n",
      "Step 37:\n",
      "=======\n",
      "Number of graphs in the current batch: 64\n",
      "DataBatch(edge_index=[2, 315940], x=[6009, 4], y=[64], batch=[6009], ptr=[65])\n",
      "\n",
      "Step 38:\n",
      "=======\n",
      "Number of graphs in the current batch: 64\n",
      "DataBatch(edge_index=[2, 408868], x=[7124, 4], y=[64], batch=[7124], ptr=[65])\n",
      "\n",
      "Step 39:\n",
      "=======\n",
      "Number of graphs in the current batch: 64\n",
      "DataBatch(edge_index=[2, 301236], x=[6100, 4], y=[64], batch=[6100], ptr=[65])\n",
      "\n",
      "Step 40:\n",
      "=======\n",
      "Number of graphs in the current batch: 64\n",
      "DataBatch(edge_index=[2, 410480], x=[7317, 4], y=[64], batch=[7317], ptr=[65])\n",
      "\n"
     ]
    }
   ],
   "source": [
    "from torch_geometric.loader import DataLoader\n",
    "\n",
    "train_loader = DataLoader(train_dataset, batch_size=64, shuffle=True)\n",
    "test_loader = DataLoader(test_dataset, batch_size=1, shuffle=False)\n",
    "\n",
    "for step, data in enumerate(train_loader):\n",
    "    print(f'Step {step + 1}:')\n",
    "    print('=======')\n",
    "    print(f'Number of graphs in the current batch: {data.num_graphs}')\n",
    "    print(data)\n",
    "    print()"
   ]
  },
  {
   "cell_type": "code",
   "execution_count": 12,
   "metadata": {},
   "outputs": [
    {
     "data": {
      "application/javascript": "google.colab.output.setIframeHeight(0, true, {maxHeight: 300})",
      "text/plain": [
       "<IPython.core.display.Javascript object>"
      ]
     },
     "metadata": {},
     "output_type": "display_data"
    },
    {
     "data": {
      "text/html": [
       "Tracking run with wandb version 0.13.10"
      ],
      "text/plain": [
       "<IPython.core.display.HTML object>"
      ]
     },
     "metadata": {},
     "output_type": "display_data"
    },
    {
     "data": {
      "text/html": [
       "Run data is saved locally in <code>d:\\dev\\git\\gitlab\\ffhs\\luca.hostettler\\bt-hostettler\\notebooks\\final\\wandb\\run-20230302_000654-w6qrcjqp</code>"
      ],
      "text/plain": [
       "<IPython.core.display.HTML object>"
      ]
     },
     "metadata": {},
     "output_type": "display_data"
    },
    {
     "data": {
      "text/html": [
       "Syncing run <strong><a href='https://wandb.ai/bt-hostettler/bt-hostettler/runs/w6qrcjqp' target=\"_blank\">comfy-wave-7</a></strong> to <a href='https://wandb.ai/bt-hostettler/bt-hostettler' target=\"_blank\">Weights & Biases</a> (<a href='https://wandb.me/run' target=\"_blank\">docs</a>)<br/>"
      ],
      "text/plain": [
       "<IPython.core.display.HTML object>"
      ]
     },
     "metadata": {},
     "output_type": "display_data"
    },
    {
     "data": {
      "text/html": [
       " View project at <a href='https://wandb.ai/bt-hostettler/bt-hostettler' target=\"_blank\">https://wandb.ai/bt-hostettler/bt-hostettler</a>"
      ],
      "text/plain": [
       "<IPython.core.display.HTML object>"
      ]
     },
     "metadata": {},
     "output_type": "display_data"
    },
    {
     "data": {
      "text/html": [
       " View run at <a href='https://wandb.ai/bt-hostettler/bt-hostettler/runs/w6qrcjqp' target=\"_blank\">https://wandb.ai/bt-hostettler/bt-hostettler/runs/w6qrcjqp</a>"
      ],
      "text/plain": [
       "<IPython.core.display.HTML object>"
      ]
     },
     "metadata": {},
     "output_type": "display_data"
    },
    {
     "data": {
      "application/vnd.jupyter.widget-view+json": {
       "model_id": "4fa36b165e394b0291a4d3470ff18e67",
       "version_major": 2,
       "version_minor": 0
      },
      "text/plain": [
       "  0%|          | 0/99 [00:00<?, ?it/s]"
      ]
     },
     "metadata": {},
     "output_type": "display_data"
    },
    {
     "ename": "MemoryError",
     "evalue": "",
     "output_type": "error",
     "traceback": [
      "\u001b[1;31m---------------------------------------------------------------------------\u001b[0m",
      "\u001b[1;31mMemoryError\u001b[0m                               Traceback (most recent call last)",
      "Cell \u001b[1;32mIn[12], line 65\u001b[0m\n\u001b[0;32m     63\u001b[0m train()\n\u001b[0;32m     64\u001b[0m train_acc, train_loss, _ \u001b[39m=\u001b[39m test(train_loader)\n\u001b[1;32m---> 65\u001b[0m test_acc, test_loss, test_table \u001b[39m=\u001b[39m test(test_loader, create_table\u001b[39m=\u001b[39;49m\u001b[39mTrue\u001b[39;49;00m)\n\u001b[0;32m     67\u001b[0m \u001b[39m# Log metrics to W&B\u001b[39;00m\n\u001b[0;32m     68\u001b[0m \u001b[39mif\u001b[39;00m use_wandb:\n",
      "Cell \u001b[1;32mIn[12], line 50\u001b[0m, in \u001b[0;36mtest\u001b[1;34m(loader, create_table)\u001b[0m\n\u001b[0;32m     47\u001b[0m pred \u001b[39m=\u001b[39m out\u001b[39m.\u001b[39margmax(dim\u001b[39m=\u001b[39m\u001b[39m1\u001b[39m)  \u001b[39m# Use the class with highest probability.\u001b[39;00m\n\u001b[0;32m     49\u001b[0m \u001b[39mif\u001b[39;00m create_table \u001b[39mand\u001b[39;00m use_wandb:\n\u001b[1;32m---> 50\u001b[0m     table\u001b[39m.\u001b[39madd_data(wandb\u001b[39m.\u001b[39mHtml(plotly\u001b[39m.\u001b[39;49mio\u001b[39m.\u001b[39;49mto_html(\n\u001b[0;32m     51\u001b[0m         create_graph(data))), data\u001b[39m.\u001b[39my\u001b[39m.\u001b[39mitem(), pred\u001b[39m.\u001b[39mitem())\n\u001b[0;32m     53\u001b[0m \u001b[39m# Check against ground-truth labels.\u001b[39;00m\n\u001b[0;32m     54\u001b[0m correct \u001b[39m+\u001b[39m\u001b[39m=\u001b[39m \u001b[39mint\u001b[39m((pred \u001b[39m==\u001b[39m data\u001b[39m.\u001b[39my)\u001b[39m.\u001b[39msum())\n",
      "File \u001b[1;32mc:\\Users\\hoste\\anaconda3\\envs\\pyg\\lib\\site-packages\\plotly\\io\\_html.py:366\u001b[0m, in \u001b[0;36mto_html\u001b[1;34m(fig, config, auto_play, include_plotlyjs, include_mathjax, post_script, full_html, animation_opts, default_width, default_height, validate, div_id)\u001b[0m\n\u001b[0;32m    341\u001b[0m     plotly_html_div \u001b[39m=\u001b[39m \u001b[39m\"\"\"\u001b[39m\u001b[39m\\\u001b[39;00m\n\u001b[0;32m    342\u001b[0m \u001b[39m<div>\u001b[39m\u001b[39m\\\u001b[39;00m\n\u001b[0;32m    343\u001b[0m \u001b[39m        \u001b[39m\u001b[39m{mathjax_script}\u001b[39;00m\u001b[39m\\\u001b[39;00m\n\u001b[1;32m   (...)\u001b[0m\n\u001b[0;32m    362\u001b[0m         require_end\u001b[39m=\u001b[39mrequire_end,\n\u001b[0;32m    363\u001b[0m     )\u001b[39m.\u001b[39mstrip()\n\u001b[0;32m    365\u001b[0m     \u001b[39mif\u001b[39;00m full_html:\n\u001b[1;32m--> 366\u001b[0m         \u001b[39mreturn\u001b[39;00m \u001b[39m\"\"\"\u001b[39;49m\u001b[39m\\\u001b[39;49;00m\n\u001b[0;32m    367\u001b[0m \u001b[39m<html>\u001b[39;49m\n\u001b[0;32m    368\u001b[0m \u001b[39m<head><meta charset=\u001b[39;49m\u001b[39m\"\u001b[39;49m\u001b[39mutf-8\u001b[39;49m\u001b[39m\"\u001b[39;49m\u001b[39m /></head>\u001b[39;49m\n\u001b[0;32m    369\u001b[0m \u001b[39m<body>\u001b[39;49m\n\u001b[0;32m    370\u001b[0m \u001b[39m    \u001b[39;49m\u001b[39m{div}\u001b[39;49;00m\n\u001b[0;32m    371\u001b[0m \u001b[39m</body>\u001b[39;49m\n\u001b[0;32m    372\u001b[0m \u001b[39m</html>\u001b[39;49m\u001b[39m\"\"\"\u001b[39;49m\u001b[39m.\u001b[39;49mformat(\n\u001b[0;32m    373\u001b[0m             div\u001b[39m=\u001b[39;49mplotly_html_div\n\u001b[0;32m    374\u001b[0m         )\n\u001b[0;32m    375\u001b[0m     \u001b[39melse\u001b[39;00m:\n\u001b[0;32m    376\u001b[0m         \u001b[39mreturn\u001b[39;00m plotly_html_div\n",
      "\u001b[1;31mMemoryError\u001b[0m: "
     ]
    }
   ],
   "source": [
    "from model.gcn import GCN\n",
    "import wandb\n",
    "import matplotlib.pyplot as plt\n",
    "from tqdm.notebook import trange\n",
    "from IPython.display import Javascript\n",
    "display(Javascript(\n",
    "    '''google.colab.output.setIframeHeight(0, true, {maxHeight: 300})'''))\n",
    "\n",
    "# starting new w&B run\n",
    "wandb_project = \"intro_to_pyg\"  # @param {type:\"string\"}\n",
    "wandb_run_name = \"upload_and_analyze_dataset\"  # @param {type:\"string\"}\n",
    "\n",
    "# Initialize W&B run for training\n",
    "if use_wandb:\n",
    "    wandb.init(project=\"bt-hostettler\")\n",
    "    wandb.use_artifact(\"bt-hostettler/bt-hostettler/BT-Data:v1\")\n",
    "\n",
    "model = GCN(hidden_channels=64, num_classes=pyg_dataset.num_classes,\n",
    "            num_node_features=pyg_dataset.num_node_features)\n",
    "\n",
    "optimizer = torch.optim.Adam(model.parameters(), lr=0.001)\n",
    "criterion = torch.nn.CrossEntropyLoss()\n",
    "\n",
    "\n",
    "def train():\n",
    "    model.train()\n",
    "\n",
    "    for data in train_loader:  # Iterate in batches over the training dataset.\n",
    "        # Perform a single forward pass.\n",
    "        out = model(data.x, data.edge_index, data.batch)\n",
    "        loss = criterion(out, data.y)  # Compute the loss.\n",
    "        loss.backward()  # Derive gradients.\n",
    "        optimizer.step()  # Update parameters based on gradients.\n",
    "        optimizer.zero_grad()  # Clear gradients.\n",
    "\n",
    "\n",
    "def test(loader, create_table=False):\n",
    "    model.eval()\n",
    "    table = wandb.Table(\n",
    "        columns=['graph', 'ground truth', 'prediction']) if use_wandb else None\n",
    "    correct = 0\n",
    "    loss_ = 0\n",
    "    for data in loader:  # Iterate in batches over the training/test dataset.\n",
    "        out = model(data.x, data.edge_index, data.batch)\n",
    "        loss = criterion(out, data.y)\n",
    "        loss_ += loss.item()\n",
    "        pred = out.argmax(dim=1)  # Use the class with highest probability.\n",
    "\n",
    "        if create_table and use_wandb:\n",
    "            table.add_data(wandb.Html(plotly.io.to_html(\n",
    "                create_graph(data))), data.y.item(), pred.item())\n",
    "\n",
    "        # Check against ground-truth labels.\n",
    "        correct += int((pred == data.y).sum())\n",
    "    # Derive ratio of correct predictions.\n",
    "    return correct / len(loader.dataset), loss_ / len(loader.dataset), table\n",
    "\n",
    "\n",
    "confusion_matrix = torch.zeros(3, 3)\n",
    "train_losses = []\n",
    "val_losses = []\n",
    "for epoch in trange(1, 100):\n",
    "    train()\n",
    "    train_acc, train_loss, _ = test(train_loader)\n",
    "    test_acc, test_loss, test_table = test(test_loader, create_table=True)\n",
    "\n",
    "    # Log metrics to W&B\n",
    "    if use_wandb:\n",
    "        wandb.log({\n",
    "            \"train/loss\": train_loss,\n",
    "            \"train/acc\": train_acc,\n",
    "            \"test/acc\": test_acc,\n",
    "            \"test/loss\": test_loss,\n",
    "            \"test/table\": test_table\n",
    "        })\n",
    "\n",
    "    torch.save(model, \"graph_classification_model.pt\")\n",
    "\n",
    "    # Log model checkpoint as an artifact to W&B\n",
    "    if use_wandb:\n",
    "        artifact = wandb.Artifact(\n",
    "            name=\"graph_classification_model\", type=\"model\")\n",
    "        artifact.add_file(\"graph_classification_model.pt\")\n",
    "        wandb.log_artifact(artifact)\n",
    "\n",
    "    train_losses.append(train_acc)\n",
    "    val_losses.append(test_acc)\n",
    "\n",
    "\n",
    "# Finish the W&B run\n",
    "if use_wandb:\n",
    "    wandb.finish()\n"
   ]
  },
  {
   "cell_type": "code",
   "execution_count": null,
   "metadata": {},
   "outputs": [],
   "source": [
    "plt.figure(figsize=(10,5))\n",
    "plt.title(\"Training and Test Accuracy\")\n",
    "plt.plot(val_losses,label=\"val\")\n",
    "plt.plot(train_losses,label=\"train\")\n",
    "plt.xlabel(\"iterations\")\n",
    "plt.ylabel(\"Accuracy\")\n",
    "plt.legend()\n",
    "plt.show()"
   ]
  },
  {
   "cell_type": "code",
   "execution_count": null,
   "metadata": {},
   "outputs": [],
   "source": [
    "print(model)"
   ]
  },
  {
   "cell_type": "code",
   "execution_count": null,
   "metadata": {},
   "outputs": [],
   "source": [
    "torch.save(model.state_dict(), 'gnn_model_weights.pth')\n",
    "torch.save(model, 'gnn_model.pth')"
   ]
  },
  {
   "cell_type": "code",
   "execution_count": null,
   "metadata": {},
   "outputs": [],
   "source": [
    "from torchviz import make_dot\n",
    "import os\n",
    "\n",
    "os.environ[\"PATH\"] += os.pathsep + 'C:/Program Files/Graphviz/bin/'\n",
    "\n",
    "shuffled_dataset = pyg_dataset.shuffle()\n",
    "\n",
    "for i, data in enumerate(shuffled_dataset[:9]):\n",
    "    y = model(data.x, data.edge_index, data.batch)\n",
    "    make_dot(y, params=dict(list(model.named_parameters()))).render(\"torchviz\", format=\"png\")\n",
    "    make_dot(y.mean(), params=dict(model.named_parameters()), show_attrs=True, show_saved=True)\n",
    "\n",
    "    break"
   ]
  },
  {
   "cell_type": "code",
   "execution_count": null,
   "metadata": {},
   "outputs": [],
   "source": [
    "import matplotlib.pyplot as plt\n",
    "import networkx as nx\n",
    "import numpy as np\n",
    "import random\n",
    "from torch_geometric.utils import to_networkx\n",
    "from model.gcn import GCN\n",
    "\n",
    "\n",
    "class_key = dict(zip(dataset.keys(), range(len(dataset.keys()))))\n",
    "class_key = {v: k for k, v in class_key.items()}\n",
    "\n",
    "def index_to_class(index):\n",
    "    return class_key[index]\n",
    "\n",
    "fig, ax = plt.subplots(3, 3, figsize=(11, 11))\n",
    "fig.suptitle('GCN - Graph classification')\n",
    "\n",
    "shuffled_dataset = pyg_dataset.shuffle()\n",
    "\n",
    "for i, data in enumerate(shuffled_dataset[:9]):\n",
    "    # Calculate color (green if correct, red otherwise)\n",
    "    out = model(data.x, data.edge_index, batch=data.batch)\n",
    "    pred = out.argmax(dim=1)\n",
    "    color = \"green\" if out.argmax(dim=1) == data.y else \"red\"\n",
    "\n",
    "    # Plot graph\n",
    "    ix = np.unravel_index(i, ax.shape)\n",
    "    ax[ix].axis('off')\n",
    "    ax[ix].set_title('Predicted: ' + index_to_class(pred.item()) + '\\nActual: ' + index_to_class(data.y.item()))\n",
    "    G = to_networkx(data, to_undirected=True)\n",
    "    nx.draw_networkx(G,\n",
    "                     pos=nx.spring_layout(G, seed=0),\n",
    "                     with_labels=True,\n",
    "                     node_size=150,\n",
    "                     node_color=color,\n",
    "                     width=0.8,\n",
    "                     ax=ax[ix]\n",
    "                     )\n"
   ]
  }
 ],
 "metadata": {
  "kernelspec": {
   "display_name": "pyg",
   "language": "python",
   "name": "python3"
  },
  "language_info": {
   "codemirror_mode": {
    "name": "ipython",
    "version": 3
   },
   "file_extension": ".py",
   "mimetype": "text/x-python",
   "name": "python",
   "nbconvert_exporter": "python",
   "pygments_lexer": "ipython3",
   "version": "3.10.9"
  },
  "orig_nbformat": 4,
  "vscode": {
   "interpreter": {
    "hash": "e18fe5719603bbacb1a16700531fc1f3896ea048df756b8ef6770d519494a0b9"
   }
  }
 },
 "nbformat": 4,
 "nbformat_minor": 2
}
