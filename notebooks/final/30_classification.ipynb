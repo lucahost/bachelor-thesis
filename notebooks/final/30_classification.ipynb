{
 "cells": [
  {
   "attachments": {},
   "cell_type": "markdown",
   "metadata": {},
   "source": [
    "# Graph Classification\n",
    "\n",
    "## Graph Classes\n",
    "\n",
    "we use the following graph classes:\n",
    "- Chemical Graphs (Molecules)\n",
    "- Random\n",
    "- Small World\n",
    "- Scale Free\n",
    "\n",
    "## Setup\n",
    "\n",
    "We use stellargraph to generate the model to train.\n",
    "The model is a GCN with 2 layers and 32 hidden units."
   ]
  },
  {
   "cell_type": "code",
   "execution_count": 1,
   "metadata": {},
   "outputs": [
    {
     "name": "stdout",
     "output_type": "stream",
     "text": [
      "datasetkey: random, shape: 1000\n",
      "datasetkey: smallworld, shape: 1000\n",
      "datasetkey: scalefree, shape: 1000\n",
      "datasetkey: chemical, shape: 6761\n"
     ]
    }
   ],
   "source": [
    "# we need to read the dataset from the pickle file\n",
    "import pickle\n",
    "\n",
    "with open('dataset.pickle', 'rb') as f:\n",
    "    dataset = pickle.load(f)\n",
    "\n",
    "for key in dataset.keys():\n",
    "    print(f\"datasetkey: {key}, shape: {len(dataset[key])}\")"
   ]
  }
 ],
 "metadata": {
  "kernelspec": {
   "display_name": "stellargraph",
   "language": "python",
   "name": "python3"
  },
  "language_info": {
   "codemirror_mode": {
    "name": "ipython",
    "version": 3
   },
   "file_extension": ".py",
   "mimetype": "text/x-python",
   "name": "python",
   "nbconvert_exporter": "python",
   "pygments_lexer": "ipython3",
   "version": "3.6.15"
  },
  "orig_nbformat": 4,
  "vscode": {
   "interpreter": {
    "hash": "52f9f168e005222a86ee5828c720dcff3c0cdeaea0cbe41b8906b2061368ccce"
   }
  }
 },
 "nbformat": 4,
 "nbformat_minor": 2
}
