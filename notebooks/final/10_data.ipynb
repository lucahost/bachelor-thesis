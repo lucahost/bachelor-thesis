{
 "cells": [
  {
   "cell_type": "markdown",
   "metadata": {},
   "source": [
    "# Data Generation\n",
    "\n",
    "## Graph Classes\n",
    "\n",
    "we use the following graph classes:\n",
    "\n",
    "- Chemical Graphs (Molecules)\n",
    "- Random\n",
    "- Small World\n",
    "- Scale Free\n",
    "\n",
    "## Data Save\n",
    "\n",
    "We save the data as pickle file\n"
   ]
  },
  {
   "cell_type": "code",
   "execution_count": 1,
   "metadata": {},
   "outputs": [],
   "source": [
    "import random\n",
    "import numpy as np\n",
    "import networkx as nx\n",
    "from itertools import combinations, groupby\n",
    "\n",
    "\n",
    "def graph_load_batch(min_num_nodes=20, max_num_nodes=1000, name='ENZYMES', node_attributes=True, graph_labels=True):\n",
    "    '''\n",
    "    load many graphs, e.g. enzymes\n",
    "    :return: a list of graphs\n",
    "    '''\n",
    "    print('Loading graph dataset: '+str(name))\n",
    "    G = nx.Graph()\n",
    "    # load data\n",
    "    path = './../data/molecules/'+name+'/'\n",
    "    data_adj = np.loadtxt(path+name+'_A.txt', delimiter=',').astype(int)\n",
    "    if node_attributes:\n",
    "        data_node_att = np.loadtxt(\n",
    "            path+name+'_node_attributes.txt', delimiter=',')\n",
    "    data_node_label = np.loadtxt(\n",
    "        path+name+'_node_labels.txt', delimiter=',').astype(int)\n",
    "    data_graph_indicator = np.loadtxt(\n",
    "        path+name+'_graph_indicator.txt', delimiter=',').astype(int)\n",
    "    if graph_labels:\n",
    "        data_graph_labels = np.loadtxt(\n",
    "            path+name+'_graph_labels.txt', delimiter=',').astype(int)\n",
    "\n",
    "    data_tuple = list(map(tuple, data_adj))\n",
    "\n",
    "    # add edges\n",
    "    G.add_edges_from(data_tuple)\n",
    "    # add node attributes\n",
    "    for i in range(data_node_label.shape[0]):\n",
    "        if node_attributes:\n",
    "            G.add_node(i+1, feature=data_node_att[i])\n",
    "        G.add_node(i+1, label=data_node_label[i])\n",
    "    G.remove_nodes_from(list(nx.isolates(G)))\n",
    "\n",
    "    # split into graphs\n",
    "    graph_num = data_graph_indicator.max()\n",
    "    node_list = np.arange(data_graph_indicator.shape[0])+1\n",
    "    graphs = []\n",
    "    max_nodes = 0\n",
    "    for i in range(graph_num):\n",
    "        # find the nodes for each graph\n",
    "        nodes = node_list[data_graph_indicator == i+1]\n",
    "        G_sub = G.subgraph(nodes)\n",
    "        if graph_labels:\n",
    "            G_sub.graph['label'] = data_graph_labels[i]\n",
    "        if G_sub.number_of_nodes() >= min_num_nodes and G_sub.number_of_nodes() <= max_num_nodes:\n",
    "            graphs.append(G_sub)\n",
    "            if G_sub.number_of_nodes() > max_nodes:\n",
    "                max_nodes = G_sub.number_of_nodes()\n",
    "    print('Loaded')\n",
    "    return graphs\n",
    "\n",
    "\n",
    "def gnp_random_connected_graph(n, p):\n",
    "    \"\"\"\n",
    "    Generates a random undirected graph, similarly to an Erdős-Rényi \n",
    "    graph, but enforcing that the resulting graph is conneted\n",
    "    \"\"\"\n",
    "    edges = combinations(range(n), 2)\n",
    "    G = nx.Graph()\n",
    "    G.add_nodes_from(range(n))\n",
    "    if p <= 0:\n",
    "        return G\n",
    "    if p >= 1:\n",
    "        return nx.complete_graph(n, create_using=G)\n",
    "    for _, node_edges in groupby(edges, key=lambda x: x[0]):\n",
    "        node_edges = list(node_edges)\n",
    "        random_edge = random.choice(node_edges)\n",
    "        G.add_edge(*random_edge)\n",
    "        for e in node_edges:\n",
    "            if random.random() < p:\n",
    "                G.add_edge(*e)\n",
    "    return G\n",
    "\n",
    "\n",
    "def connect_all_components(G):\n",
    "    complement = list(nx.k_edge_augmentation(G, k=1, partial=True))\n",
    "    if nx.is_frozen(G):\n",
    "        G = nx.Graph(G)\n",
    "    G.add_edges_from(complement)\n",
    "    assert nx.is_connected(G)\n"
   ]
  },
  {
   "cell_type": "code",
   "execution_count": 2,
   "metadata": {},
   "outputs": [
    {
     "name": "stdout",
     "output_type": "stream",
     "text": [
      "Generating random, smallworld and scalefree graphs...\n"
     ]
    },
    {
     "data": {
      "application/vnd.jupyter.widget-view+json": {
       "model_id": "0e9b93f36e4b481586e3cc4ab7957fff",
       "version_major": 2,
       "version_minor": 0
      },
      "text/plain": [
       "Generating a new set of graphs:   0%|          | 0/5 [00:00<?, ?it/s]"
      ]
     },
     "metadata": {},
     "output_type": "display_data"
    },
    {
     "data": {
      "application/vnd.jupyter.widget-view+json": {
       "model_id": "072076e86c4443e1a15f826e1a7fdc89",
       "version_major": 2,
       "version_minor": 0
      },
      "text/plain": [
       "  0%|          | 0/45 [00:00<?, ?it/s]"
      ]
     },
     "metadata": {},
     "output_type": "display_data"
    },
    {
     "data": {
      "application/vnd.jupyter.widget-view+json": {
       "model_id": "da55bb75cd544f8eb0cf3abc687735f6",
       "version_major": 2,
       "version_minor": 0
      },
      "text/plain": [
       "  0%|          | 0/45 [00:00<?, ?it/s]"
      ]
     },
     "metadata": {},
     "output_type": "display_data"
    },
    {
     "data": {
      "application/vnd.jupyter.widget-view+json": {
       "model_id": "63384d015d1e49c7880140d04ca1e559",
       "version_major": 2,
       "version_minor": 0
      },
      "text/plain": [
       "  0%|          | 0/45 [00:00<?, ?it/s]"
      ]
     },
     "metadata": {},
     "output_type": "display_data"
    },
    {
     "data": {
      "application/vnd.jupyter.widget-view+json": {
       "model_id": "24de1ca2b7734748b3e1a06c785ee93c",
       "version_major": 2,
       "version_minor": 0
      },
      "text/plain": [
       "  0%|          | 0/45 [00:00<?, ?it/s]"
      ]
     },
     "metadata": {},
     "output_type": "display_data"
    },
    {
     "data": {
      "application/vnd.jupyter.widget-view+json": {
       "model_id": "d2accad5c8b54574ad89b081816c9589",
       "version_major": 2,
       "version_minor": 0
      },
      "text/plain": [
       "  0%|          | 0/45 [00:00<?, ?it/s]"
      ]
     },
     "metadata": {},
     "output_type": "display_data"
    },
    {
     "data": {
      "application/vnd.jupyter.widget-view+json": {
       "model_id": "0c90c915a82e46ee837587364182af44",
       "version_major": 2,
       "version_minor": 0
      },
      "text/plain": [
       "Generating random trees, star, complete and scalefree graphs:   0%|          | 0/98 [00:00<?, ?it/s]"
      ]
     },
     "metadata": {},
     "output_type": "display_data"
    },
    {
     "data": {
      "application/vnd.jupyter.widget-view+json": {
       "model_id": "688cafb795654493ba28df841875ab32",
       "version_major": 2,
       "version_minor": 0
      },
      "text/plain": [
       "Generating tree:   0%|          | 0/9 [00:00<?, ?it/s]"
      ]
     },
     "metadata": {},
     "output_type": "display_data"
    },
    {
     "data": {
      "application/vnd.jupyter.widget-view+json": {
       "model_id": "aba765b11127447082c7a4349d529dbd",
       "version_major": 2,
       "version_minor": 0
      },
      "text/plain": [
       "Setting Node Label as Attribute for random:   0%|          | 0/225 [00:00<?, ?it/s]"
      ]
     },
     "metadata": {},
     "output_type": "display_data"
    },
    {
     "data": {
      "application/vnd.jupyter.widget-view+json": {
       "model_id": "d4623de27b0341a395c15d189c48b5b4",
       "version_major": 2,
       "version_minor": 0
      },
      "text/plain": [
       "Setting Node Label as Attribute for smallworld:   0%|          | 0/225 [00:00<?, ?it/s]"
      ]
     },
     "metadata": {},
     "output_type": "display_data"
    },
    {
     "data": {
      "application/vnd.jupyter.widget-view+json": {
       "model_id": "df04e46283b84a82b2e78d4168c4766e",
       "version_major": 2,
       "version_minor": 0
      },
      "text/plain": [
       "Setting Node Label as Attribute for scalefree:   0%|          | 0/98 [00:00<?, ?it/s]"
      ]
     },
     "metadata": {},
     "output_type": "display_data"
    },
    {
     "data": {
      "application/vnd.jupyter.widget-view+json": {
       "model_id": "b2ef1984103349ada643f7f58bb082d9",
       "version_major": 2,
       "version_minor": 0
      },
      "text/plain": [
       "Setting Node Label as Attribute for complete:   0%|          | 0/98 [00:00<?, ?it/s]"
      ]
     },
     "metadata": {},
     "output_type": "display_data"
    },
    {
     "data": {
      "application/vnd.jupyter.widget-view+json": {
       "model_id": "1fb1031f4e4b4884a622181fe5b5c56e",
       "version_major": 2,
       "version_minor": 0
      },
      "text/plain": [
       "Setting Node Label as Attribute for line:   0%|          | 0/98 [00:00<?, ?it/s]"
      ]
     },
     "metadata": {},
     "output_type": "display_data"
    },
    {
     "data": {
      "application/vnd.jupyter.widget-view+json": {
       "model_id": "4f9f55b7e8884cfe98312fe15254c25d",
       "version_major": 2,
       "version_minor": 0
      },
      "text/plain": [
       "Setting Node Label as Attribute for tree:   0%|          | 0/298 [00:00<?, ?it/s]"
      ]
     },
     "metadata": {},
     "output_type": "display_data"
    },
    {
     "data": {
      "application/vnd.jupyter.widget-view+json": {
       "model_id": "2eab565a9ab54db287b5a2f44183eeb0",
       "version_major": 2,
       "version_minor": 0
      },
      "text/plain": [
       "Setting Node Label as Attribute for star:   0%|          | 0/98 [00:00<?, ?it/s]"
      ]
     },
     "metadata": {},
     "output_type": "display_data"
    }
   ],
   "source": [
    "import numpy as np\n",
    "import networkx as nx\n",
    "import pickle\n",
    "from tqdm.notebook import trange, tqdm\n",
    "\n",
    "dataset = {\n",
    "    \"random\": [],\n",
    "    \"smallworld\": [],\n",
    "    \"scalefree\": [],\n",
    "    \"complete\": [],\n",
    "    \"line\": [],\n",
    "    \"tree\": [],\n",
    "    \"star\": [],\n",
    "}\n",
    "\n",
    "\n",
    "# generate graphs using networkx and save them in the dataset\n",
    "print(\"Generating random, smallworld and scalefree graphs...\")\n",
    "for j in trange(5, desc=\"Generating a new set of graphs\"):\n",
    "    for i in trange(5, 50):\n",
    "        # random graph\n",
    "        G = gnp_random_connected_graph(i, 0.3)\n",
    "        dataset[\"random\"].append(G)\n",
    "        # small world graph\n",
    "        G = nx.connected_watts_strogatz_graph(i, round(i / 2), 0.3)\n",
    "        dataset[\"smallworld\"].append(G)\n",
    "\n",
    "\n",
    "for i in trange(2, 100, desc=\"Generating random trees, star, complete and scalefree graphs\"):\n",
    "    # random tree\n",
    "    dataset[\"tree\"].append(nx.random_tree(i))\n",
    "    # star graph\n",
    "    dataset[\"star\"].append(nx.star_graph(i))\n",
    "    # complete graphs\n",
    "    dataset[\"complete\"].append(nx.complete_graph(i))\n",
    "    # complete graphs\n",
    "    dataset[\"line\"].append(nx.path_graph(i))\n",
    "    # scale free graph\n",
    "    G = nx.barabasi_albert_graph(i, round(i / 2))\n",
    "    if not nx.is_connected(G):\n",
    "        print(f\"connecting {G}\")\n",
    "        connect_all_components(G)\n",
    "    dataset[\"scalefree\"].append(G)\n",
    "\n",
    "\n",
    "for i in trange(2, 11, desc=\"Generating tree\"):\n",
    "    # tree graphs\n",
    "    non_isomorphic_trees = nx.nonisomorphic_trees(i)\n",
    "    dataset[\"tree\"].extend(non_isomorphic_trees)\n",
    "\n",
    "\n",
    "for key in dataset:\n",
    "    for (i, G) in tqdm(enumerate(dataset[key]), total=len(dataset[key]), desc=f\"Setting Node Label as Attribute for {key}\"):\n",
    "        node_labels = np.arange(G.number_of_nodes())\n",
    "        degrees = nx.degree_centrality(G)\n",
    "        density = nx.density(G)\n",
    "        betweenness = nx.betweenness_centrality(G)\n",
    "        attrs = dict(zip(node_labels, node_labels))\n",
    "        nx.set_node_attributes(G, attrs, \"label\")\n",
    "        nx.set_node_attributes(G, degrees, \"degree\")\n",
    "        nx.set_node_attributes(G, density, \"density\")\n",
    "        nx.set_node_attributes(G, betweenness, \"betweenness\")\n",
    "\n",
    "# save the dataset\n",
    "with open(\"dataset.pickle\", \"wb\") as f:\n",
    "    pickle.dump(dataset, f)\n"
   ]
  },
  {
   "cell_type": "code",
   "execution_count": null,
   "metadata": {},
   "outputs": [],
   "source": [
    "%matplotlib inline\n",
    "\n",
    "# display the first graph of each type in the dataset\n",
    "import matplotlib.pyplot as plt\n",
    "import networkx as nx\n",
    "import random\n",
    "\n",
    "for key in dataset:\n",
    "    G = dataset[key][random.randint(0, len(dataset[key]) - 1)]\n",
    "    nx.draw(G, with_labels=True)\n",
    "    plt.title(key)\n",
    "    plt.show()\n"
   ]
  },
  {
   "cell_type": "code",
   "execution_count": null,
   "metadata": {},
   "outputs": [],
   "source": [
    "%matplotlib inline\n",
    "\n",
    "# display the first graph of each type in the dataset\n",
    "import matplotlib.pyplot as plt\n",
    "import networkx as nx\n",
    "import random\n",
    "\n",
    "# draw a random graph of each type in one figure\n",
    "fig, axs = plt.subplots(2, 4, figsize=(15, 10))\n",
    "for i, key in enumerate(dataset):\n",
    "    G = dataset[key][random.randint(0, len(dataset[key]) - 1)]\n",
    "    ax = axs[i // 4, i % 4]\n",
    "    nx.draw(G, with_labels=True, ax=ax)\n",
    "    ax.set_title(key)\n",
    "\n",
    "fig.delaxes(axs[1, 3])\n"
   ]
  }
 ],
 "metadata": {
  "kernelspec": {
   "display_name": "pyg",
   "language": "python",
   "name": "python3"
  },
  "language_info": {
   "codemirror_mode": {
    "name": "ipython",
    "version": 3
   },
   "file_extension": ".py",
   "mimetype": "text/x-python",
   "name": "python",
   "nbconvert_exporter": "python",
   "pygments_lexer": "ipython3",
   "version": "3.10.9"
  },
  "polyglot_notebook": {
   "kernelInfo": {
    "defaultKernelName": "csharp",
    "items": [
     {
      "aliases": [],
      "name": "csharp"
     }
    ]
   }
  },
  "vscode": {
   "interpreter": {
    "hash": "e18fe5719603bbacb1a16700531fc1f3896ea048df756b8ef6770d519494a0b9"
   }
  }
 },
 "nbformat": 4,
 "nbformat_minor": 2
}
