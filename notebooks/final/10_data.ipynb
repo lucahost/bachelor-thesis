{
 "cells": [
  {
   "attachments": {},
   "cell_type": "markdown",
   "metadata": {},
   "source": [
    "# Data Generation\n",
    "## Graph Classes\n",
    "\n",
    "we use the following graph classes:\n",
    "- Chemical Graphs (Molecules)\n",
    "- Random\n",
    "- Small World\n",
    "- Scale Free\n",
    "\n",
    "## Data Save\n",
    "\n",
    "We save the data as pickle file"
   ]
  },
  {
   "cell_type": "code",
   "execution_count": null,
   "metadata": {},
   "outputs": [],
   "source": [
    "import numpy as np\n",
    "import networkx as nx\n",
    "\n",
    "def graph_load_batch(min_num_nodes = 20, max_num_nodes = 1000, name = 'ENZYMES', node_attributes = True, graph_labels=True):\n",
    "    '''\n",
    "    load many graphs, e.g. enzymes\n",
    "    :return: a list of graphs\n",
    "    '''\n",
    "    print('Loading graph dataset: '+str(name))\n",
    "    G = nx.Graph()\n",
    "    # load data\n",
    "    path = './../data/molecules/'+name+'/'\n",
    "    data_adj = np.loadtxt(path+name+'_A.txt', delimiter=',').astype(int)\n",
    "    if node_attributes:\n",
    "        data_node_att = np.loadtxt(path+name+'_node_attributes.txt', delimiter=',')\n",
    "    data_node_label = np.loadtxt(path+name+'_node_labels.txt', delimiter=',').astype(int)\n",
    "    data_graph_indicator = np.loadtxt(path+name+'_graph_indicator.txt', delimiter=',').astype(int)\n",
    "    if graph_labels:\n",
    "        data_graph_labels = np.loadtxt(path+name+'_graph_labels.txt', delimiter=',').astype(int)\n",
    "\n",
    "\n",
    "    data_tuple = list(map(tuple, data_adj))\n",
    "\n",
    "    # add edges\n",
    "    G.add_edges_from(data_tuple)\n",
    "    # add node attributes\n",
    "    for i in range(data_node_label.shape[0]):\n",
    "        if node_attributes:\n",
    "            G.add_node(i+1, feature = data_node_att[i])\n",
    "        G.add_node(i+1, label = data_node_label[i])\n",
    "    G.remove_nodes_from(list(nx.isolates(G)))\n",
    "\n",
    "    # split into graphs\n",
    "    graph_num = data_graph_indicator.max()\n",
    "    node_list = np.arange(data_graph_indicator.shape[0])+1\n",
    "    graphs = []\n",
    "    max_nodes = 0\n",
    "    for i in range(graph_num):\n",
    "        # find the nodes for each graph\n",
    "        nodes = node_list[data_graph_indicator==i+1]\n",
    "        G_sub = G.subgraph(nodes)\n",
    "        if graph_labels:\n",
    "            G_sub.graph['label'] = data_graph_labels[i]\n",
    "        if G_sub.number_of_nodes()>=min_num_nodes and G_sub.number_of_nodes()<=max_num_nodes:\n",
    "            graphs.append(G_sub)\n",
    "            if G_sub.number_of_nodes() > max_nodes:\n",
    "                max_nodes = G_sub.number_of_nodes()\n",
    "    print('Loaded')\n",
    "    return graphs"
   ]
  },
  {
   "cell_type": "code",
   "execution_count": 1,
   "metadata": {},
   "outputs": [
    {
     "name": "stdout",
     "output_type": "stream",
     "text": [
      "Generating random, smallworld and scalefree graphs...\n"
     ]
    },
    {
     "data": {
      "application/vnd.jupyter.widget-view+json": {
       "model_id": "5f3355aeda58499a9fbde69a0871f34b",
       "version_major": 2,
       "version_minor": 0
      },
      "text/plain": [
       "Generating a new set of graphs:   0%|          | 0/25 [00:00<?, ?it/s]"
      ]
     },
     "metadata": {},
     "output_type": "display_data"
    },
    {
     "data": {
      "application/vnd.jupyter.widget-view+json": {
       "model_id": "374603f4a6b147d7bc932bf59beee43c",
       "version_major": 2,
       "version_minor": 0
      },
      "text/plain": [
       "  0%|          | 0/95 [00:00<?, ?it/s]"
      ]
     },
     "metadata": {},
     "output_type": "display_data"
    },
    {
     "name": "stdout",
     "output_type": "stream",
     "text": [
      "connecting Graph with 5 nodes and 4 edges\n"
     ]
    },
    {
     "data": {
      "application/vnd.jupyter.widget-view+json": {
       "model_id": "11144d0d35e043c7be339cd4f403ef84",
       "version_major": 2,
       "version_minor": 0
      },
      "text/plain": [
       "  0%|          | 0/95 [00:00<?, ?it/s]"
      ]
     },
     "metadata": {},
     "output_type": "display_data"
    },
    {
     "name": "stdout",
     "output_type": "stream",
     "text": [
      "connecting Graph with 5 nodes and 4 edges\n"
     ]
    },
    {
     "data": {
      "application/vnd.jupyter.widget-view+json": {
       "model_id": "e1f74c59ad21437dacc0b111c6e9065b",
       "version_major": 2,
       "version_minor": 0
      },
      "text/plain": [
       "  0%|          | 0/95 [00:00<?, ?it/s]"
      ]
     },
     "metadata": {},
     "output_type": "display_data"
    },
    {
     "data": {
      "application/vnd.jupyter.widget-view+json": {
       "model_id": "4f1d07a1442b47ac9ae91f53296d6aca",
       "version_major": 2,
       "version_minor": 0
      },
      "text/plain": [
       "  0%|          | 0/95 [00:00<?, ?it/s]"
      ]
     },
     "metadata": {},
     "output_type": "display_data"
    },
    {
     "data": {
      "application/vnd.jupyter.widget-view+json": {
       "model_id": "e061177d89a64061b0b8f2dab616c9ab",
       "version_major": 2,
       "version_minor": 0
      },
      "text/plain": [
       "  0%|          | 0/95 [00:00<?, ?it/s]"
      ]
     },
     "metadata": {},
     "output_type": "display_data"
    },
    {
     "data": {
      "application/vnd.jupyter.widget-view+json": {
       "model_id": "90b0478ceb5c44ada9b614aed1a282ef",
       "version_major": 2,
       "version_minor": 0
      },
      "text/plain": [
       "  0%|          | 0/95 [00:00<?, ?it/s]"
      ]
     },
     "metadata": {},
     "output_type": "display_data"
    },
    {
     "data": {
      "application/vnd.jupyter.widget-view+json": {
       "model_id": "a05cd5e2a7b74821939f0c86a4a80f61",
       "version_major": 2,
       "version_minor": 0
      },
      "text/plain": [
       "  0%|          | 0/95 [00:00<?, ?it/s]"
      ]
     },
     "metadata": {},
     "output_type": "display_data"
    },
    {
     "name": "stdout",
     "output_type": "stream",
     "text": [
      "connecting Graph with 6 nodes and 4 edges\n"
     ]
    },
    {
     "data": {
      "application/vnd.jupyter.widget-view+json": {
       "model_id": "67bc7fc165b641b89d54746d12c6d796",
       "version_major": 2,
       "version_minor": 0
      },
      "text/plain": [
       "  0%|          | 0/95 [00:00<?, ?it/s]"
      ]
     },
     "metadata": {},
     "output_type": "display_data"
    },
    {
     "data": {
      "application/vnd.jupyter.widget-view+json": {
       "model_id": "aab76053cc0c4dfbade4bfa918eb482f",
       "version_major": 2,
       "version_minor": 0
      },
      "text/plain": [
       "  0%|          | 0/95 [00:00<?, ?it/s]"
      ]
     },
     "metadata": {},
     "output_type": "display_data"
    },
    {
     "name": "stdout",
     "output_type": "stream",
     "text": [
      "connecting Graph with 6 nodes and 4 edges\n"
     ]
    },
    {
     "data": {
      "application/vnd.jupyter.widget-view+json": {
       "model_id": "529da15cf92a4b278d50a37d65905b61",
       "version_major": 2,
       "version_minor": 0
      },
      "text/plain": [
       "  0%|          | 0/95 [00:00<?, ?it/s]"
      ]
     },
     "metadata": {},
     "output_type": "display_data"
    },
    {
     "data": {
      "application/vnd.jupyter.widget-view+json": {
       "model_id": "4a865dff79334daba3d5709eb8d79e54",
       "version_major": 2,
       "version_minor": 0
      },
      "text/plain": [
       "  0%|          | 0/95 [00:00<?, ?it/s]"
      ]
     },
     "metadata": {},
     "output_type": "display_data"
    },
    {
     "name": "stdout",
     "output_type": "stream",
     "text": [
      "connecting Graph with 6 nodes and 7 edges\n"
     ]
    },
    {
     "data": {
      "application/vnd.jupyter.widget-view+json": {
       "model_id": "ac728e19836f42ffa7b5f9a8ea33c9db",
       "version_major": 2,
       "version_minor": 0
      },
      "text/plain": [
       "  0%|          | 0/95 [00:00<?, ?it/s]"
      ]
     },
     "metadata": {},
     "output_type": "display_data"
    },
    {
     "name": "stdout",
     "output_type": "stream",
     "text": [
      "connecting Graph with 7 nodes and 9 edges\n"
     ]
    },
    {
     "data": {
      "application/vnd.jupyter.widget-view+json": {
       "model_id": "2db7dc2d48fb4c948ae65a885c12d8ee",
       "version_major": 2,
       "version_minor": 0
      },
      "text/plain": [
       "  0%|          | 0/95 [00:00<?, ?it/s]"
      ]
     },
     "metadata": {},
     "output_type": "display_data"
    },
    {
     "name": "stdout",
     "output_type": "stream",
     "text": [
      "connecting Graph with 6 nodes and 5 edges\n"
     ]
    },
    {
     "data": {
      "application/vnd.jupyter.widget-view+json": {
       "model_id": "814dde93ae73424293fca27340099e7b",
       "version_major": 2,
       "version_minor": 0
      },
      "text/plain": [
       "  0%|          | 0/95 [00:00<?, ?it/s]"
      ]
     },
     "metadata": {},
     "output_type": "display_data"
    },
    {
     "name": "stdout",
     "output_type": "stream",
     "text": [
      "connecting Graph with 5 nodes and 3 edges\n",
      "connecting Graph with 6 nodes and 6 edges\n"
     ]
    },
    {
     "data": {
      "application/vnd.jupyter.widget-view+json": {
       "model_id": "499be7ca08274a92b53e7ec2d5fe348c",
       "version_major": 2,
       "version_minor": 0
      },
      "text/plain": [
       "  0%|          | 0/95 [00:00<?, ?it/s]"
      ]
     },
     "metadata": {},
     "output_type": "display_data"
    },
    {
     "name": "stdout",
     "output_type": "stream",
     "text": [
      "connecting Graph with 5 nodes and 3 edges\n"
     ]
    },
    {
     "data": {
      "application/vnd.jupyter.widget-view+json": {
       "model_id": "97cb9cae1ed040b2a088aec627591ec1",
       "version_major": 2,
       "version_minor": 0
      },
      "text/plain": [
       "  0%|          | 0/95 [00:00<?, ?it/s]"
      ]
     },
     "metadata": {},
     "output_type": "display_data"
    },
    {
     "name": "stdout",
     "output_type": "stream",
     "text": [
      "connecting Graph with 6 nodes and 2 edges\n",
      "connecting Graph with 7 nodes and 6 edges\n"
     ]
    },
    {
     "data": {
      "application/vnd.jupyter.widget-view+json": {
       "model_id": "510eb45c0a204088b98236b9170ca919",
       "version_major": 2,
       "version_minor": 0
      },
      "text/plain": [
       "  0%|          | 0/95 [00:00<?, ?it/s]"
      ]
     },
     "metadata": {},
     "output_type": "display_data"
    },
    {
     "data": {
      "application/vnd.jupyter.widget-view+json": {
       "model_id": "ad50146c62c543acb66a5f9567166ccf",
       "version_major": 2,
       "version_minor": 0
      },
      "text/plain": [
       "  0%|          | 0/95 [00:00<?, ?it/s]"
      ]
     },
     "metadata": {},
     "output_type": "display_data"
    },
    {
     "data": {
      "application/vnd.jupyter.widget-view+json": {
       "model_id": "63e59ab44b814b3c8aaefd7e26818982",
       "version_major": 2,
       "version_minor": 0
      },
      "text/plain": [
       "  0%|          | 0/95 [00:00<?, ?it/s]"
      ]
     },
     "metadata": {},
     "output_type": "display_data"
    },
    {
     "name": "stdout",
     "output_type": "stream",
     "text": [
      "connecting Graph with 5 nodes and 3 edges\n"
     ]
    },
    {
     "data": {
      "application/vnd.jupyter.widget-view+json": {
       "model_id": "f8b4e6e2b6cf4236abc4c1a4c57365b4",
       "version_major": 2,
       "version_minor": 0
      },
      "text/plain": [
       "  0%|          | 0/95 [00:00<?, ?it/s]"
      ]
     },
     "metadata": {},
     "output_type": "display_data"
    },
    {
     "name": "stdout",
     "output_type": "stream",
     "text": [
      "connecting Graph with 5 nodes and 3 edges\n",
      "connecting Graph with 6 nodes and 5 edges\n"
     ]
    },
    {
     "data": {
      "application/vnd.jupyter.widget-view+json": {
       "model_id": "92261167af444f50aa4db55c83686eff",
       "version_major": 2,
       "version_minor": 0
      },
      "text/plain": [
       "  0%|          | 0/95 [00:00<?, ?it/s]"
      ]
     },
     "metadata": {},
     "output_type": "display_data"
    },
    {
     "name": "stdout",
     "output_type": "stream",
     "text": [
      "connecting Graph with 5 nodes and 3 edges\n",
      "connecting Graph with 7 nodes and 10 edges\n"
     ]
    },
    {
     "data": {
      "application/vnd.jupyter.widget-view+json": {
       "model_id": "f0d42cc5cf024cb083c8590fdc5ba939",
       "version_major": 2,
       "version_minor": 0
      },
      "text/plain": [
       "  0%|          | 0/95 [00:00<?, ?it/s]"
      ]
     },
     "metadata": {},
     "output_type": "display_data"
    },
    {
     "name": "stdout",
     "output_type": "stream",
     "text": [
      "connecting Graph with 5 nodes and 1 edges\n",
      "connecting Graph with 6 nodes and 7 edges\n"
     ]
    },
    {
     "data": {
      "application/vnd.jupyter.widget-view+json": {
       "model_id": "92617be14f354284a1b3826deeff2a07",
       "version_major": 2,
       "version_minor": 0
      },
      "text/plain": [
       "  0%|          | 0/95 [00:00<?, ?it/s]"
      ]
     },
     "metadata": {},
     "output_type": "display_data"
    },
    {
     "name": "stdout",
     "output_type": "stream",
     "text": [
      "connecting Graph with 5 nodes and 3 edges\n"
     ]
    },
    {
     "data": {
      "application/vnd.jupyter.widget-view+json": {
       "model_id": "2540ccd043464d05ae743283d75b9ad0",
       "version_major": 2,
       "version_minor": 0
      },
      "text/plain": [
       "  0%|          | 0/95 [00:00<?, ?it/s]"
      ]
     },
     "metadata": {},
     "output_type": "display_data"
    },
    {
     "name": "stdout",
     "output_type": "stream",
     "text": [
      "connecting Graph with 5 nodes and 2 edges\n",
      "connecting Graph with 7 nodes and 10 edges\n"
     ]
    },
    {
     "data": {
      "application/vnd.jupyter.widget-view+json": {
       "model_id": "96cf3807688c4dc0bba5830ec005d718",
       "version_major": 2,
       "version_minor": 0
      },
      "text/plain": [
       "  0%|          | 0/95 [00:00<?, ?it/s]"
      ]
     },
     "metadata": {},
     "output_type": "display_data"
    },
    {
     "name": "stdout",
     "output_type": "stream",
     "text": [
      "connecting Graph with 6 nodes and 5 edges\n",
      "Done\n"
     ]
    },
    {
     "data": {
      "application/vnd.jupyter.widget-view+json": {
       "model_id": "401a4db63977494e8929b556ab75d4c1",
       "version_major": 2,
       "version_minor": 0
      },
      "text/plain": [
       "Setting Node Label as Attribute:   0%|          | 0/2375 [00:00<?, ?it/s]"
      ]
     },
     "metadata": {},
     "output_type": "display_data"
    },
    {
     "data": {
      "application/vnd.jupyter.widget-view+json": {
       "model_id": "ce0dc5ab7de44c68b9e82108571e9ef8",
       "version_major": 2,
       "version_minor": 0
      },
      "text/plain": [
       "Setting Node Label as Attribute:   0%|          | 0/2375 [00:00<?, ?it/s]"
      ]
     },
     "metadata": {},
     "output_type": "display_data"
    },
    {
     "data": {
      "application/vnd.jupyter.widget-view+json": {
       "model_id": "fe225d29977944d19c0b294304112e91",
       "version_major": 2,
       "version_minor": 0
      },
      "text/plain": [
       "Setting Node Label as Attribute:   0%|          | 0/2375 [00:00<?, ?it/s]"
      ]
     },
     "metadata": {},
     "output_type": "display_data"
    }
   ],
   "source": [
    "import numpy as np\n",
    "import networkx as nx\n",
    "import os\n",
    "import pickle\n",
    "from tqdm.notebook import trange, tqdm\n",
    "\n",
    "dataset = {\n",
    "    \"random\": [],\n",
    "    \"smallworld\": [],\n",
    "    \"scalefree\": [],\n",
    "}\n",
    "\n",
    "def connect_all_components(G):\n",
    "    complement = list(nx.k_edge_augmentation(G, k=1, partial=True))\n",
    "    if nx.is_frozen(G):\n",
    "        G = nx.Graph(G)\n",
    "    G.add_edges_from(complement)\n",
    "    assert nx.is_connected(G)\n",
    "\n",
    "# generate 1000 random graphs using networkx and save them in the dataset\n",
    "print(\"Generating random, smallworld and scalefree graphs...\")\n",
    "for j in trange(25, desc=\"Generating a new set of graphs\"):\n",
    "    for i in trange(5, 100):\n",
    "\n",
    "        # random graph\n",
    "        G = nx.gnp_random_graph(i, 0.5)\n",
    "        if not nx.is_connected(G):\n",
    "            print(f\"connecting {G}\")\n",
    "            connect_all_components(G)\n",
    "        dataset[\"random\"].append(G)\n",
    "\n",
    "        # small world graph\n",
    "        G = nx.connected_watts_strogatz_graph(i, round(i / 2), 0.1)\n",
    "        if not nx.is_connected(G):\n",
    "            print(f\"connecting {G}\")\n",
    "            connect_all_components(G)\n",
    "        dataset[\"smallworld\"].append(G)\n",
    "\n",
    "        # scale free graph\n",
    "        G = nx.barabasi_albert_graph(i, 1)\n",
    "        if not nx.is_connected(G):\n",
    "            print(f\"connecting {G}\")\n",
    "            connect_all_components(G)\n",
    "        dataset[\"scalefree\"].append(G)\n",
    "\n",
    "print(\"Done\")\n",
    "\n",
    "# read the chemical graphs from the ./data/molecules using graph_load_batch\n",
    "\"\"\"\n",
    "mutag_graphs = graph_load_batch(name=\"MUTAG\", node_attributes=False)\n",
    "for G in mutag_graphs:\n",
    "    if not nx.is_connected(G):\n",
    "        connect_all_components(G)\n",
    "dataset[\"chemical\"].extend(mutag_graphs)\n",
    "nci1_graphs = graph_load_batch(name=\"NCI1\", node_attributes=False)\n",
    "for G in nci1_graphs:\n",
    "    if not nx.is_connected(G):\n",
    "        connect_all_components(G)\n",
    "dataset[\"chemical\"].extend(nci1_graphs)\n",
    "nci109_graphs = graph_load_batch(name=\"NCI109\", node_attributes=False)\n",
    "for G in nci109_graphs:\n",
    "    if not nx.is_connected(G):\n",
    "        connect_all_components(G)\n",
    "dataset[\"chemical\"].extend(nci109_graphs)\n",
    "\"\"\"\n",
    "\n",
    "for key in dataset:\n",
    "    for (i, G) in tqdm(enumerate(dataset[key]), total=len(dataset[key]), desc=f\"Setting Node Label as Attribute for {key}\"):\n",
    "        node_labels = np.arange(G.number_of_nodes())\n",
    "        degrees = nx.degree_centrality(G)\n",
    "        betweenness = nx.betweenness_centrality(G)\n",
    "        attrs = dict(zip(node_labels, node_labels))\n",
    "        nx.set_node_attributes(G, attrs, \"label\")\n",
    "        nx.set_node_attributes(G, degrees, \"degree\")\n",
    "        nx.set_node_attributes(G, betweenness, \"betweenness\")\n",
    "\n",
    "# save the dataset\n",
    "import pickle\n",
    "with open(\"dataset.pickle\", \"wb\") as f:\n",
    "    pickle.dump(dataset, f)\n"
   ]
  },
  {
   "cell_type": "code",
   "execution_count": null,
   "metadata": {},
   "outputs": [],
   "source": [
    "# display the first graph of each type in the dataset\n",
    "import matplotlib.pyplot as plt\n",
    "import networkx as nx\n",
    "\n",
    "# random graph\n",
    "df = dataset[\"random\"][0]\n",
    "G = nx.from_pandas_edgelist(df)\n",
    "nx.draw(G, with_labels=True)\n",
    "plt.show()\n",
    "\n",
    "# small world graph\n",
    "df = dataset[\"smallworld\"][0]\n",
    "G = nx.from_pandas_edgelist(df)\n",
    "nx.draw(G, with_labels=True)\n",
    "plt.show()\n",
    "\n",
    "# scale free graph\n",
    "df = dataset[\"scalefree\"][0]\n",
    "G = nx.from_pandas_edgelist(df)\n",
    "nx.draw(G, with_labels=True)\n",
    "plt.show()\n",
    "\n",
    "# chemical graph\n",
    "df = dataset[\"chemical\"][0]\n",
    "G = nx.from_pandas_edgelist(df)\n",
    "nx.draw(G, with_labels=True)\n",
    "plt.show()"
   ]
  }
 ],
 "metadata": {
  "kernelspec": {
   "display_name": "bt",
   "language": "python",
   "name": "python3"
  },
  "language_info": {
   "codemirror_mode": {
    "name": "ipython",
    "version": 3
   },
   "file_extension": ".py",
   "mimetype": "text/x-python",
   "name": "python",
   "nbconvert_exporter": "python",
   "pygments_lexer": "ipython3",
   "version": "3.10.8"
  },
  "orig_nbformat": 4,
  "vscode": {
   "interpreter": {
    "hash": "c27191ed4da92fbef1e06f47803eae1586514922c69f32c30cb3a0fae2806a55"
   }
  }
 },
 "nbformat": 4,
 "nbformat_minor": 2
}
