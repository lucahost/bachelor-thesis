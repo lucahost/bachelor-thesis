{
 "cells": [
  {
   "attachments": {},
   "cell_type": "markdown",
   "metadata": {},
   "source": [
    "# Data Generation\n",
    "## Graph Classes\n",
    "\n",
    "we use the following graph classes:\n",
    "- Chemical Graphs (Molecules)\n",
    "- Random\n",
    "- Small World\n",
    "- Scale Free\n",
    "\n",
    "## Data Save\n",
    "\n",
    "We save the data as pickle file"
   ]
  },
  {
   "cell_type": "code",
   "execution_count": null,
   "metadata": {},
   "outputs": [],
   "source": [
    "import numpy as np\n",
    "import networkx as nx\n",
    "\n",
    "def graph_load_batch(min_num_nodes = 20, max_num_nodes = 1000, name = 'ENZYMES', node_attributes = True, graph_labels=True):\n",
    "    '''\n",
    "    load many graphs, e.g. enzymes\n",
    "    :return: a list of graphs\n",
    "    '''\n",
    "    print('Loading graph dataset: '+str(name))\n",
    "    G = nx.Graph()\n",
    "    # load data\n",
    "    path = './../data/molecules/'+name+'/'\n",
    "    data_adj = np.loadtxt(path+name+'_A.txt', delimiter=',').astype(int)\n",
    "    if node_attributes:\n",
    "        data_node_att = np.loadtxt(path+name+'_node_attributes.txt', delimiter=',')\n",
    "    data_node_label = np.loadtxt(path+name+'_node_labels.txt', delimiter=',').astype(int)\n",
    "    data_graph_indicator = np.loadtxt(path+name+'_graph_indicator.txt', delimiter=',').astype(int)\n",
    "    if graph_labels:\n",
    "        data_graph_labels = np.loadtxt(path+name+'_graph_labels.txt', delimiter=',').astype(int)\n",
    "\n",
    "\n",
    "    data_tuple = list(map(tuple, data_adj))\n",
    "    # print(len(data_tuple))\n",
    "    # print(data_tuple[0])\n",
    "\n",
    "    # add edges\n",
    "    G.add_edges_from(data_tuple)\n",
    "    # add node attributes\n",
    "    for i in range(data_node_label.shape[0]):\n",
    "        if node_attributes:\n",
    "            G.add_node(i+1, feature = data_node_att[i])\n",
    "        G.add_node(i+1, label = data_node_label[i])\n",
    "    G.remove_nodes_from(list(nx.isolates(G)))\n",
    "\n",
    "    # print(G.number_of_nodes())\n",
    "    # print(G.number_of_edges())\n",
    "\n",
    "    # split into graphs\n",
    "    graph_num = data_graph_indicator.max()\n",
    "    node_list = np.arange(data_graph_indicator.shape[0])+1\n",
    "    graphs = []\n",
    "    max_nodes = 0\n",
    "    for i in range(graph_num):\n",
    "        # find the nodes for each graph\n",
    "        nodes = node_list[data_graph_indicator==i+1]\n",
    "        G_sub = G.subgraph(nodes)\n",
    "        if graph_labels:\n",
    "            G_sub.graph['label'] = data_graph_labels[i]\n",
    "        # print('nodes', G_sub.number_of_nodes())\n",
    "        # print('edges', G_sub.number_of_edges())\n",
    "        # print('label', G_sub.graph)\n",
    "        if G_sub.number_of_nodes()>=min_num_nodes and G_sub.number_of_nodes()<=max_num_nodes:\n",
    "            graphs.append(G_sub)\n",
    "            if G_sub.number_of_nodes() > max_nodes:\n",
    "                max_nodes = G_sub.number_of_nodes()\n",
    "            # print(G_sub.number_of_nodes(), 'i', i)\n",
    "    # print('Graph dataset name: {}, total graph num: {}'.format(name, len(graphs)))\n",
    "    # logging.warning('Graphs loaded, total num: {}'.format(len(graphs)))\n",
    "    print('Loaded')\n",
    "    return graphs"
   ]
  },
  {
   "cell_type": "code",
   "execution_count": 2,
   "metadata": {},
   "outputs": [
    {
     "name": "stdout",
     "output_type": "stream",
     "text": [
      "Generating random, smallworld and scalefree graphs...\n"
     ]
    },
    {
     "data": {
      "application/vnd.jupyter.widget-view+json": {
       "model_id": "c99a419420944b5db46a12053e269a61",
       "version_major": 2,
       "version_minor": 0
      },
      "text/plain": [
       "Generating a new set of graphs:   0%|          | 0/25 [00:00<?, ?it/s]"
      ]
     },
     "metadata": {},
     "output_type": "display_data"
    },
    {
     "data": {
      "application/vnd.jupyter.widget-view+json": {
       "model_id": "1a86ad3891bc40f7879ed38ff50d1f7e",
       "version_major": 2,
       "version_minor": 0
      },
      "text/plain": [
       "  0%|          | 0/45 [00:00<?, ?it/s]"
      ]
     },
     "metadata": {},
     "output_type": "display_data"
    },
    {
     "data": {
      "application/vnd.jupyter.widget-view+json": {
       "model_id": "330d726507f14f9dbfb67064290a406b",
       "version_major": 2,
       "version_minor": 0
      },
      "text/plain": [
       "  0%|          | 0/45 [00:00<?, ?it/s]"
      ]
     },
     "metadata": {},
     "output_type": "display_data"
    },
    {
     "data": {
      "application/vnd.jupyter.widget-view+json": {
       "model_id": "8bbdb538e87644d4b8417f996e0b8b9a",
       "version_major": 2,
       "version_minor": 0
      },
      "text/plain": [
       "  0%|          | 0/45 [00:00<?, ?it/s]"
      ]
     },
     "metadata": {},
     "output_type": "display_data"
    },
    {
     "data": {
      "application/vnd.jupyter.widget-view+json": {
       "model_id": "fa77bc5680d74bcf82b252b51fd47c77",
       "version_major": 2,
       "version_minor": 0
      },
      "text/plain": [
       "  0%|          | 0/45 [00:00<?, ?it/s]"
      ]
     },
     "metadata": {},
     "output_type": "display_data"
    },
    {
     "data": {
      "application/vnd.jupyter.widget-view+json": {
       "model_id": "9dfcafb7e6784ba2b2b5fe94beb3ef58",
       "version_major": 2,
       "version_minor": 0
      },
      "text/plain": [
       "  0%|          | 0/45 [00:00<?, ?it/s]"
      ]
     },
     "metadata": {},
     "output_type": "display_data"
    },
    {
     "data": {
      "application/vnd.jupyter.widget-view+json": {
       "model_id": "8139ec5521c24730b45914cd80199bff",
       "version_major": 2,
       "version_minor": 0
      },
      "text/plain": [
       "  0%|          | 0/45 [00:00<?, ?it/s]"
      ]
     },
     "metadata": {},
     "output_type": "display_data"
    },
    {
     "data": {
      "application/vnd.jupyter.widget-view+json": {
       "model_id": "1ceac59fe3a244da94a828f057fed6c4",
       "version_major": 2,
       "version_minor": 0
      },
      "text/plain": [
       "  0%|          | 0/45 [00:00<?, ?it/s]"
      ]
     },
     "metadata": {},
     "output_type": "display_data"
    },
    {
     "data": {
      "application/vnd.jupyter.widget-view+json": {
       "model_id": "efef2f55754a4aaea63ef4b81d185401",
       "version_major": 2,
       "version_minor": 0
      },
      "text/plain": [
       "  0%|          | 0/45 [00:00<?, ?it/s]"
      ]
     },
     "metadata": {},
     "output_type": "display_data"
    },
    {
     "data": {
      "application/vnd.jupyter.widget-view+json": {
       "model_id": "4abe168b8e7f4fb39ef1a4d211b387dc",
       "version_major": 2,
       "version_minor": 0
      },
      "text/plain": [
       "  0%|          | 0/45 [00:00<?, ?it/s]"
      ]
     },
     "metadata": {},
     "output_type": "display_data"
    },
    {
     "data": {
      "application/vnd.jupyter.widget-view+json": {
       "model_id": "4136f35470f94de7b60f4d9fa320d973",
       "version_major": 2,
       "version_minor": 0
      },
      "text/plain": [
       "  0%|          | 0/45 [00:00<?, ?it/s]"
      ]
     },
     "metadata": {},
     "output_type": "display_data"
    },
    {
     "data": {
      "application/vnd.jupyter.widget-view+json": {
       "model_id": "c36d4ba0e981484c95e78a498c94022a",
       "version_major": 2,
       "version_minor": 0
      },
      "text/plain": [
       "  0%|          | 0/45 [00:00<?, ?it/s]"
      ]
     },
     "metadata": {},
     "output_type": "display_data"
    },
    {
     "data": {
      "application/vnd.jupyter.widget-view+json": {
       "model_id": "aee87738fb374236bdf2cb34c5b17971",
       "version_major": 2,
       "version_minor": 0
      },
      "text/plain": [
       "  0%|          | 0/45 [00:00<?, ?it/s]"
      ]
     },
     "metadata": {},
     "output_type": "display_data"
    },
    {
     "data": {
      "application/vnd.jupyter.widget-view+json": {
       "model_id": "fa69b285e24e4f52a5025da59c8a5644",
       "version_major": 2,
       "version_minor": 0
      },
      "text/plain": [
       "  0%|          | 0/45 [00:00<?, ?it/s]"
      ]
     },
     "metadata": {},
     "output_type": "display_data"
    },
    {
     "data": {
      "application/vnd.jupyter.widget-view+json": {
       "model_id": "8ddeb0969a3c441e8ebf2d2aea7dade8",
       "version_major": 2,
       "version_minor": 0
      },
      "text/plain": [
       "  0%|          | 0/45 [00:00<?, ?it/s]"
      ]
     },
     "metadata": {},
     "output_type": "display_data"
    },
    {
     "data": {
      "application/vnd.jupyter.widget-view+json": {
       "model_id": "13acc0b67de249b2915ae1d0ac52efbc",
       "version_major": 2,
       "version_minor": 0
      },
      "text/plain": [
       "  0%|          | 0/45 [00:00<?, ?it/s]"
      ]
     },
     "metadata": {},
     "output_type": "display_data"
    },
    {
     "data": {
      "application/vnd.jupyter.widget-view+json": {
       "model_id": "1626487107f94f9197b5d17e75e0860f",
       "version_major": 2,
       "version_minor": 0
      },
      "text/plain": [
       "  0%|          | 0/45 [00:00<?, ?it/s]"
      ]
     },
     "metadata": {},
     "output_type": "display_data"
    },
    {
     "data": {
      "application/vnd.jupyter.widget-view+json": {
       "model_id": "883f0c9b7265491ca21bef1631da5b58",
       "version_major": 2,
       "version_minor": 0
      },
      "text/plain": [
       "  0%|          | 0/45 [00:00<?, ?it/s]"
      ]
     },
     "metadata": {},
     "output_type": "display_data"
    },
    {
     "data": {
      "application/vnd.jupyter.widget-view+json": {
       "model_id": "3c37cba96ac14295b391b6edd9ec80a4",
       "version_major": 2,
       "version_minor": 0
      },
      "text/plain": [
       "  0%|          | 0/45 [00:00<?, ?it/s]"
      ]
     },
     "metadata": {},
     "output_type": "display_data"
    },
    {
     "data": {
      "application/vnd.jupyter.widget-view+json": {
       "model_id": "0c8c56324ba94b31a6a7893b403971bd",
       "version_major": 2,
       "version_minor": 0
      },
      "text/plain": [
       "  0%|          | 0/45 [00:00<?, ?it/s]"
      ]
     },
     "metadata": {},
     "output_type": "display_data"
    },
    {
     "data": {
      "application/vnd.jupyter.widget-view+json": {
       "model_id": "8e838ea424a34ed7aaf20c7166ac7ebb",
       "version_major": 2,
       "version_minor": 0
      },
      "text/plain": [
       "  0%|          | 0/45 [00:00<?, ?it/s]"
      ]
     },
     "metadata": {},
     "output_type": "display_data"
    },
    {
     "data": {
      "application/vnd.jupyter.widget-view+json": {
       "model_id": "71b3a47ff95c48bdbae348dab92f23e5",
       "version_major": 2,
       "version_minor": 0
      },
      "text/plain": [
       "  0%|          | 0/45 [00:00<?, ?it/s]"
      ]
     },
     "metadata": {},
     "output_type": "display_data"
    },
    {
     "data": {
      "application/vnd.jupyter.widget-view+json": {
       "model_id": "5bf7ca68ec3e4333a09141e89b3e9662",
       "version_major": 2,
       "version_minor": 0
      },
      "text/plain": [
       "  0%|          | 0/45 [00:00<?, ?it/s]"
      ]
     },
     "metadata": {},
     "output_type": "display_data"
    },
    {
     "data": {
      "application/vnd.jupyter.widget-view+json": {
       "model_id": "e4632e88490a4ddb963c3cbda56be2ae",
       "version_major": 2,
       "version_minor": 0
      },
      "text/plain": [
       "  0%|          | 0/45 [00:00<?, ?it/s]"
      ]
     },
     "metadata": {},
     "output_type": "display_data"
    },
    {
     "data": {
      "application/vnd.jupyter.widget-view+json": {
       "model_id": "aa79ad54586646508fe74fcd06dd460b",
       "version_major": 2,
       "version_minor": 0
      },
      "text/plain": [
       "  0%|          | 0/45 [00:00<?, ?it/s]"
      ]
     },
     "metadata": {},
     "output_type": "display_data"
    },
    {
     "data": {
      "application/vnd.jupyter.widget-view+json": {
       "model_id": "213eaf353d6e479bbf99af5870d158c0",
       "version_major": 2,
       "version_minor": 0
      },
      "text/plain": [
       "  0%|          | 0/45 [00:00<?, ?it/s]"
      ]
     },
     "metadata": {},
     "output_type": "display_data"
    },
    {
     "name": "stdout",
     "output_type": "stream",
     "text": [
      "Done\n"
     ]
    },
    {
     "data": {
      "application/vnd.jupyter.widget-view+json": {
       "model_id": "fcd9cc5853624947baf050243277349b",
       "version_major": 2,
       "version_minor": 0
      },
      "text/plain": [
       "Converting graphs to numpy arrays: 0it [00:00, ?it/s]"
      ]
     },
     "metadata": {},
     "output_type": "display_data"
    },
    {
     "data": {
      "application/vnd.jupyter.widget-view+json": {
       "model_id": "70bfd4a429a148d4abff03f035b26356",
       "version_major": 2,
       "version_minor": 0
      },
      "text/plain": [
       "Converting graphs to numpy arrays: 0it [00:00, ?it/s]"
      ]
     },
     "metadata": {},
     "output_type": "display_data"
    },
    {
     "data": {
      "application/vnd.jupyter.widget-view+json": {
       "model_id": "6346e0a0d9d74b0fbe94f8961b46a16f",
       "version_major": 2,
       "version_minor": 0
      },
      "text/plain": [
       "Converting graphs to numpy arrays: 0it [00:00, ?it/s]"
      ]
     },
     "metadata": {},
     "output_type": "display_data"
    },
    {
     "data": {
      "application/vnd.jupyter.widget-view+json": {
       "model_id": "ac5079f543c642a29fcb3176c14f23bd",
       "version_major": 2,
       "version_minor": 0
      },
      "text/plain": [
       "Converting graphs to numpy arrays: 0it [00:00, ?it/s]"
      ]
     },
     "metadata": {},
     "output_type": "display_data"
    }
   ],
   "source": [
    "import numpy as np\n",
    "import networkx as nx\n",
    "import os\n",
    "import pickle\n",
    "from tqdm.notebook import trange, tqdm\n",
    "\n",
    "dataset = {\n",
    "    \"random\": [],\n",
    "    \"smallworld\": [],\n",
    "    \"scalefree\": [],\n",
    "    \"chemical\": [],\n",
    "}\n",
    "\n",
    "def connect_all_components(G):\n",
    "    complement = list(nx.k_edge_augmentation(G, k=1, partial=True))\n",
    "    if nx.is_frozen(G):\n",
    "        G = nx.Graph(G)\n",
    "    G.add_edges_from(complement)\n",
    "    assert nx.is_connected(G)\n",
    "\n",
    "# generate 1000 random graphs using networkx and save them in the dataset\n",
    "print(\"Generating random, smallworld and scalefree graphs...\")\n",
    "for j in trange(25, desc=\"Generating a new set of graphs\"):\n",
    "    for i in trange(5, 50):\n",
    "\n",
    "        # random graph\n",
    "        G = nx.gnp_random_graph(i, 0.75)\n",
    "        if not nx.is_connected(G):\n",
    "            connect_all_components(G)\n",
    "        dataset[\"random\"].append(G)\n",
    "\n",
    "        # small world graph\n",
    "        G = nx.connected_watts_strogatz_graph(i, round(i / 2), 0.1)\n",
    "        if not nx.is_connected(G):\n",
    "            connect_all_components(G)\n",
    "        dataset[\"smallworld\"].append(G)\n",
    "\n",
    "        # scale free graph\n",
    "        G = nx.barabasi_albert_graph(i, 1)\n",
    "        if not nx.is_connected(G):\n",
    "            connect_all_components(G)\n",
    "        dataset[\"scalefree\"].append(G)\n",
    "\n",
    "print(\"Done\")\n",
    "\n",
    "# read the chemical graphs from the ./data/molecules using graph_load_batch\n",
    "\"\"\"\n",
    "mutag_graphs = graph_load_batch(name=\"MUTAG\", node_attributes=False)\n",
    "for G in mutag_graphs:\n",
    "    if not nx.is_connected(G):\n",
    "        connect_all_components(G)\n",
    "dataset[\"chemical\"].extend(mutag_graphs)\n",
    "nci1_graphs = graph_load_batch(name=\"NCI1\", node_attributes=False)\n",
    "for G in nci1_graphs:\n",
    "    if not nx.is_connected(G):\n",
    "        connect_all_components(G)\n",
    "dataset[\"chemical\"].extend(nci1_graphs)\n",
    "nci109_graphs = graph_load_batch(name=\"NCI109\", node_attributes=False)\n",
    "for G in nci109_graphs:\n",
    "    if not nx.is_connected(G):\n",
    "        connect_all_components(G)\n",
    "dataset[\"chemical\"].extend(nci109_graphs)\n",
    "\"\"\"\n",
    "for key in dataset:\n",
    "    for (i, G) in tqdm(enumerate(dataset[key]), desc=\"Converting graphs to numpy arrays\"):\n",
    "        node_labels = np.arange(G.number_of_nodes())\n",
    "        attrs = dict(zip(node_labels, node_labels))\n",
    "        nx.set_node_attributes(G, attrs, \"x\")\n",
    "        G.nodes[1][\"x\"]\n",
    "\n",
    "# save the dataset\n",
    "import pickle\n",
    "with open(\"dataset.pickle\", \"wb\") as f:\n",
    "    pickle.dump(dataset, f)\n"
   ]
  },
  {
   "cell_type": "code",
   "execution_count": null,
   "metadata": {},
   "outputs": [],
   "source": [
    "# display the first graph of each type in the dataset\n",
    "import matplotlib.pyplot as plt\n",
    "import networkx as nx\n",
    "\n",
    "# random graph\n",
    "df = dataset[\"random\"][0]\n",
    "G = nx.from_pandas_edgelist(df)\n",
    "nx.draw(G, with_labels=True)\n",
    "plt.show()\n",
    "\n",
    "# small world graph\n",
    "df = dataset[\"smallworld\"][0]\n",
    "G = nx.from_pandas_edgelist(df)\n",
    "nx.draw(G, with_labels=True)\n",
    "plt.show()\n",
    "\n",
    "# scale free graph\n",
    "df = dataset[\"scalefree\"][0]\n",
    "G = nx.from_pandas_edgelist(df)\n",
    "nx.draw(G, with_labels=True)\n",
    "plt.show()\n",
    "\n",
    "# chemical graph\n",
    "df = dataset[\"chemical\"][0]\n",
    "G = nx.from_pandas_edgelist(df)\n",
    "nx.draw(G, with_labels=True)\n",
    "plt.show()"
   ]
  }
 ],
 "metadata": {
  "kernelspec": {
   "display_name": "bt",
   "language": "python",
   "name": "python3"
  },
  "language_info": {
   "codemirror_mode": {
    "name": "ipython",
    "version": 3
   },
   "file_extension": ".py",
   "mimetype": "text/x-python",
   "name": "python",
   "nbconvert_exporter": "python",
   "pygments_lexer": "ipython3",
   "version": "3.10.8"
  },
  "orig_nbformat": 4,
  "vscode": {
   "interpreter": {
    "hash": "403a3ce45d22581176dc371cb15bdaade48159e8b393567367f97e6090235952"
   }
  }
 },
 "nbformat": 4,
 "nbformat_minor": 2
}
