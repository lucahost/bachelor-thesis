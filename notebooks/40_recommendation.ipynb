{
 "cells": [
  {
   "cell_type": "markdown",
   "metadata": {},
   "source": [
    "1. Build a graph of the network using Python. You can use one of the many graph libraries available such as NetworkX.\n",
    "\n",
    "2. Calculate the indices of the graph such as degree, betweenness centrality, closeness centrality, and eigenvector centrality.\n",
    "\n",
    "3. Generate recommendations for each node in the network by computing the similarity of the nodes based on their indices. You can use a similarity metric such as cosine similarity.\n",
    "\n",
    "4. Rank the recommendations based on the similarity scores.\n",
    "\n",
    "5. Output the recommended nodes for each node in the network."
   ]
  },
  {
   "cell_type": "code",
   "execution_count": null,
   "metadata": {},
   "outputs": [],
   "source": [
    "import networkx as nx\n",
    "from sklearn.metrics import normalized_mutual_info_score\n",
    "\n",
    "class TopologicalIndexRecommender:\n",
    "    def __init__(self, graph, indices):\n",
    "        self.graph = graph\n",
    "        self.indices = indices\n",
    "\n",
    "    def calculate(self, graph, index):\n",
    "        # Calculate the value of the topological index for the given graph\n",
    "        return index(graph)\n",
    "\n",
    "    def recommend(self):\n",
    "        # Calculate the values of each topological index for the graph\n",
    "        index_values = {}\n",
    "        for index in self.indices:\n",
    "            index_values[index] = self.calculate(self.graph, index)\n",
    "\n",
    "        # Calculate the NMI between each pair of indices\n",
    "        nmis = {}\n",
    "        for i in range(len(self.indices)):\n",
    "            for j in range(i+1, len(self.indices)):\n",
    "                index1 = self.indices[i]\n",
    "                index2 = self.indices[j]\n",
    "                nmis[(index1, index2)] = normalized_mutual_info_score(list(index_values[index1].values()), list(index_values[index2].values()))\n",
    "\n",
    "        # Choose the index with the highest NMI as the recommended index\n",
    "        recommended_index = max(nmis, key=nmis.get)\n",
    "\n",
    "        return recommended_index"
   ]
  },
  {
   "cell_type": "code",
   "execution_count": null,
   "metadata": {},
   "outputs": [],
   "source": [
    "def create_test_graphs(number_nodes):\n",
    "    # Create a list of graphs\n",
    "    graphs = []\n",
    "    G = nx.path_graph(number_nodes)\n",
    "    graphs.append(G.copy())\n",
    "    # Add edges to the graph until it is fully connected\n",
    "    for u, v in nx.non_edges(G):\n",
    "        G.add_edge(u, v)\n",
    "        graphs.append(G.copy())\n",
    "\n",
    "    return graphs\n"
   ]
  },
  {
   "cell_type": "code",
   "execution_count": null,
   "metadata": {},
   "outputs": [],
   "source": [
    "import unittest\n",
    "\n",
    "class TestTopologicalIndexRecommender(unittest.TestCase):\n",
    "    def test_recommend(self):\n",
    "        # Create a graph with 5 nodes and 6 edges\n",
    "        test_graphs = create_test_graphs(5)\n",
    "\n",
    "        # Define a set of topological indices\n",
    "        indices = [\n",
    "            nx.degree_centrality,\n",
    "            nx.clustering,\n",
    "            nx.betweenness_centrality\n",
    "        ]\n",
    "\n",
    "        for G in test_graphs:\n",
    "\n",
    "            # Create a TopologicalIndexRecommender instance\n",
    "            recommender = TopologicalIndexRecommender(G, indices)\n",
    "\n",
    "            # Call the recommend() method\n",
    "            recommended_index = recommender.recommend()\n",
    "\n",
    "            # Assert that the recommended index is the degree centrality\n",
    "            self.assertEqual(recommended_index, (nx.degree_centrality, nx.betweenness_centrality))\n",
    "\n",
    "\n",
    "unittest.main(argv=[''], verbosity=2, exit=False)"
   ]
  }
 ],
 "metadata": {
  "kernelspec": {
   "display_name": "bt",
   "language": "python",
   "name": "python3"
  },
  "language_info": {
   "codemirror_mode": {
    "name": "ipython",
    "version": 3
   },
   "file_extension": ".py",
   "mimetype": "text/x-python",
   "name": "python",
   "nbconvert_exporter": "python",
   "pygments_lexer": "ipython3",
   "version": "3.10.6 (main, Oct 24 2022, 11:04:07) [Clang 12.0.0 ]"
  },
  "orig_nbformat": 4,
  "vscode": {
   "interpreter": {
    "hash": "8a5edab282632443219e051e4ade2d1d5bbc671c781051bf1437897cbdfea0f1"
   }
  }
 },
 "nbformat": 4,
 "nbformat_minor": 2
}
