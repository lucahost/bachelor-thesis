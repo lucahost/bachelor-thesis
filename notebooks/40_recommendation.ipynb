{
 "cells": [
  {
   "cell_type": "markdown",
   "metadata": {},
   "source": [
    "1. Build a graph of the network using Python. You can use one of the many graph libraries available such as NetworkX.\n",
    "\n",
    "2. Calculate the indices of the graph such as degree, betweenness centrality, closeness centrality, and eigenvector centrality.\n",
    "\n",
    "3. Generate recommendations for each node in the network by computing the similarity of the nodes based on their indices. You can use a similarity metric such as cosine similarity.\n",
    "\n",
    "4. Rank the recommendations based on the similarity scores.\n",
    "\n",
    "5. Output the recommended nodes for each node in the network."
   ]
  },
  {
   "cell_type": "code",
   "execution_count": 1,
   "metadata": {},
   "outputs": [],
   "source": [
    "import networkx as nx\n",
    "from sklearn.metrics import normalized_mutual_info_score\n",
    "\n",
    "class TopologicalIndexRecommender:\n",
    "    def __init__(self, graph, indices):\n",
    "        self.graph = graph\n",
    "        self.indices = indices\n",
    "\n",
    "    def calculate(self, graph, index):\n",
    "        # Calculate the value of the topological index for the given graph\n",
    "        return index(graph)\n",
    "\n",
    "    def recommend(self):\n",
    "        # Calculate the values of each topological index for the graph\n",
    "        index_values = {}\n",
    "        for index in self.indices:\n",
    "            index_values[index] = self.calculate(self.graph, index)\n",
    "\n",
    "        # Calculate the NMI between each pair of indices\n",
    "        nmis = {}\n",
    "        for i in range(len(self.indices)):\n",
    "            for j in range(i+1, len(self.indices)):\n",
    "                index1 = self.indices[i]\n",
    "                index2 = self.indices[j]\n",
    "                nmis[(index1, index2)] = normalized_mutual_info_score(list(index_values[index1].values()), list(index_values[index2].values()))\n",
    "\n",
    "        # Choose the index with the highest NMI as the recommended index\n",
    "        recommended_index = max(nmis, key=nmis.get)\n",
    "\n",
    "        return recommended_index"
   ]
  },
  {
   "cell_type": "code",
   "execution_count": 2,
   "metadata": {},
   "outputs": [],
   "source": [
    "def create_test_graphs(number_nodes):\n",
    "    # Create a list of graphs\n",
    "    graphs = []\n",
    "    G = nx.path_graph(number_nodes)\n",
    "    graphs.append(G.copy())\n",
    "    # Add edges to the graph until it is fully connected\n",
    "    for u, v in nx.non_edges(G):\n",
    "        G.add_edge(u, v)\n",
    "        graphs.append(G.copy())\n",
    "\n",
    "    return graphs\n"
   ]
  },
  {
   "cell_type": "code",
   "execution_count": 3,
   "metadata": {},
   "outputs": [
    {
     "name": "stderr",
     "output_type": "stream",
     "text": [
      "test_recommend (__main__.TestTopologicalIndexRecommender) ... /opt/miniconda3/envs/bt/lib/python3.10/site-packages/sklearn/metrics/cluster/_supervised.py:64: UserWarning: Clustering metrics expects discrete values but received continuous values for label, and binary values for target\n",
      "  warnings.warn(msg, UserWarning)\n",
      "/opt/miniconda3/envs/bt/lib/python3.10/site-packages/sklearn/metrics/cluster/_supervised.py:64: UserWarning: Clustering metrics expects discrete values but received continuous values for label, and continuous values for target\n",
      "  warnings.warn(msg, UserWarning)\n",
      "/opt/miniconda3/envs/bt/lib/python3.10/site-packages/sklearn/metrics/cluster/_supervised.py:64: UserWarning: Clustering metrics expects discrete values but received binary values for label, and continuous values for target\n",
      "  warnings.warn(msg, UserWarning)\n",
      "/opt/miniconda3/envs/bt/lib/python3.10/site-packages/sklearn/metrics/cluster/_supervised.py:64: UserWarning: Clustering metrics expects discrete values but received continuous values for label, and continuous values for target\n",
      "  warnings.warn(msg, UserWarning)\n",
      "/opt/miniconda3/envs/bt/lib/python3.10/site-packages/sklearn/metrics/cluster/_supervised.py:64: UserWarning: Clustering metrics expects discrete values but received continuous values for label, and continuous values for target\n",
      "  warnings.warn(msg, UserWarning)\n",
      "/opt/miniconda3/envs/bt/lib/python3.10/site-packages/sklearn/metrics/cluster/_supervised.py:64: UserWarning: Clustering metrics expects discrete values but received continuous values for label, and continuous values for target\n",
      "  warnings.warn(msg, UserWarning)\n",
      "FAIL\n",
      "\n",
      "======================================================================\n",
      "FAIL: test_recommend (__main__.TestTopologicalIndexRecommender)\n",
      "----------------------------------------------------------------------\n",
      "Traceback (most recent call last):\n",
      "  File \"/var/folders/rz/99r94wc147931dbnxgtx_shh0000gn/T/ipykernel_92570/1954210166.py\", line 24, in test_recommend\n",
      "    self.assertEqual(recommended_index, (nx.degree_centrality, nx.betweenness_centrality))\n",
      "AssertionError: Tuples differ: (<fun[27 chars]0x107276050>, <function clustering at 0x1072b0f70>) != (<fun[27 chars]0x107276050>, <function betweenness_centrality at 0x107251240>)\n",
      "\n",
      "First differing element 1:\n",
      "<function clustering at 0x1072b0f70>\n",
      "<function betweenness_centrality at 0x107251240>\n",
      "\n",
      "  (<function degree_centrality at 0x107276050>,\n",
      "-  <function clustering at 0x1072b0f70>)\n",
      "+  <function betweenness_centrality at 0x107251240>)\n",
      "\n",
      "----------------------------------------------------------------------\n",
      "Ran 1 test in 49.005s\n",
      "\n",
      "FAILED (failures=1)\n"
     ]
    },
    {
     "data": {
      "text/plain": [
       "<unittest.main.TestProgram at 0x106c34f70>"
      ]
     },
     "execution_count": 3,
     "metadata": {},
     "output_type": "execute_result"
    }
   ],
   "source": [
    "import unittest\n",
    "\n",
    "class TestTopologicalIndexRecommender(unittest.TestCase):\n",
    "    def test_recommend(self):\n",
    "        # Create a graph with 5 nodes and 6 edges\n",
    "        test_graphs = create_test_graphs(5)\n",
    "\n",
    "        # Define a set of topological indices\n",
    "        indices = [\n",
    "            nx.degree_centrality,\n",
    "            nx.clustering,\n",
    "            nx.betweenness_centrality\n",
    "        ]\n",
    "\n",
    "        for G in test_graphs:\n",
    "\n",
    "            # Create a TopologicalIndexRecommender instance\n",
    "            recommender = TopologicalIndexRecommender(G, indices)\n",
    "\n",
    "            # Call the recommend() method\n",
    "            recommended_index = recommender.recommend()\n",
    "\n",
    "            # Assert that the recommended index is the degree centrality\n",
    "            self.assertEqual(recommended_index, (nx.degree_centrality, nx.betweenness_centrality))\n",
    "\n",
    "\n",
    "unittest.main(argv=[''], verbosity=2, exit=False)"
   ]
  }
 ],
 "metadata": {
  "kernelspec": {
   "display_name": "Python 3.10.6 ('bt')",
   "language": "python",
   "name": "python3"
  },
  "language_info": {
   "codemirror_mode": {
    "name": "ipython",
    "version": 3
   },
   "file_extension": ".py",
   "mimetype": "text/x-python",
   "name": "python",
   "nbconvert_exporter": "python",
   "pygments_lexer": "ipython3",
   "version": "3.10.6"
  },
  "orig_nbformat": 4,
  "vscode": {
   "interpreter": {
    "hash": "c27191ed4da92fbef1e06f47803eae1586514922c69f32c30cb3a0fae2806a55"
   }
  }
 },
 "nbformat": 4,
 "nbformat_minor": 2
}
