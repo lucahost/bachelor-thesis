{
 "cells": [
  {
   "cell_type": "code",
   "execution_count": null,
   "metadata": {},
   "outputs": [],
   "source": [
    "import stellargraph as sg\n",
    "import tensorflow as tf\n",
    "\n",
    "# convert the raw data into StellarGraph's graph format for faster operations\n",
    "graph = sg.StellarGraph(nodes, edges)\n",
    "\n",
    "generator = sg.mapper.FullBatchNodeGenerator(graph, method=\"gcn\")\n",
    "\n",
    "# two layers of GCN, each with hidden dimension 16\n",
    "gcn = sg.layer.GCN(layer_sizes=[16, 16], generator=generator)\n",
    "x_inp, x_out = gcn.in_out_tensors() # create the input and output TensorFlow tensors\n",
    "\n",
    "# use TensorFlow Keras to add a layer to compute the (one-hot) predictions\n",
    "predictions = tf.keras.layers.Dense(units=len(ground_truth_targets.columns), activation=\"softmax\")(x_out)\n",
    "\n",
    "# use the input and output tensors to create a TensorFlow Keras model\n",
    "model = tf.keras.Model(inputs=x_inp, outputs=predictions)"
   ]
  },
  {
   "cell_type": "code",
   "execution_count": null,
   "metadata": {},
   "outputs": [],
   "source": [
    "import tensorflow as tf\n",
    "\n",
    "cifar = tf.keras.datasets.cifar100\n",
    "(x_train, y_train), (x_test, y_test) = cifar.load_data()\n",
    "model = tf.keras.applications.ResNet50(\n",
    "    include_top=True,\n",
    "    weights=None,\n",
    "    input_shape=(32, 32, 3),\n",
    "    classes=100,)\n",
    "\n",
    "loss_fn = tf.keras.losses.SparseCategoricalCrossentropy(from_logits=True)\n",
    "model.compile(optimizer=\"adam\", loss=loss_fn, metrics=[\"accuracy\"])\n",
    "model.fit(x_train, y_train, epochs=5, batch_size=64)"
   ]
  }
 ],
 "metadata": {
  "kernelspec": {
   "display_name": "bt",
   "language": "python",
   "name": "python3"
  },
  "language_info": {
   "codemirror_mode": {
    "name": "ipython",
    "version": 3
   },
   "file_extension": ".py",
   "mimetype": "text/x-python",
   "name": "python",
   "nbconvert_exporter": "python",
   "pygments_lexer": "ipython3",
   "version": "3.10.6 (main, Oct 24 2022, 11:04:07) [Clang 12.0.0 ]"
  },
  "orig_nbformat": 4,
  "vscode": {
   "interpreter": {
    "hash": "8a5edab282632443219e051e4ade2d1d5bbc671c781051bf1437897cbdfea0f1"
   }
  }
 },
 "nbformat": 4,
 "nbformat_minor": 2
}
