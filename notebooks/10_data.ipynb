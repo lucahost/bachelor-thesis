{
 "cells": [
  {
   "cell_type": "markdown",
   "metadata": {},
   "source": [
    "# Data Preparation and synthethize networks of different classes\n",
    "\n",
    "In this chapter we are going to prepare the data for the next chapters. \n",
    "We will also create a synthetic network of each class.\n",
    "\n",
    "Different Datasets:\n",
    "\n",
    "- MS2265: Mass spectral database NIST\n",
    "- N9: Exhausitve, non-isomorphic, connected graph with 9 vertices (Nauty)\n",
    "- T15: Exhausitve, non-isomorphic, connected tree-graph with 15 vertices (Nauty)"
   ]
  },
  {
   "cell_type": "markdown",
   "metadata": {},
   "source": [
    "## Create a set of graphs from \"On structure-sensitivity of degree-based topological indices\"\n",
    "\n",
    "Let $G$ be a graph. Start be settings $\\mathscr{S}(G) = \\emptyset$. Delete from $G$ an edge and insert into it another edge. Do this in all possible ways.\n",
    "\n",
    "Let $G'$ be a graph obtained by delete from $G$ an edge, and by inserting into it another edge. If $G'$ is not connected, then disregard it. If $G' \\cong G$ (isomorphic) then disregard $G'$.\n",
    "If $G'$ is connected, check wether it is isomorphic to any of the elements of $\\mathscr{S}(G)$. If yes, disregard it. If not, include $G'$ into the set $\\mathscr{S}(G)$.\n",
    "\n",
    "Do the transformation $G \\rightarrow G'$ in all possible ways."
   ]
  },
  {
   "cell_type": "code",
   "execution_count": 5,
   "metadata": {},
   "outputs": [],
   "source": [
    "import networkx as nx\n",
    "import matplotlib.pyplot as plt\n"
   ]
  },
  {
   "cell_type": "code",
   "execution_count": 28,
   "metadata": {},
   "outputs": [
    {
     "name": "stdout",
     "output_type": "stream",
     "text": [
      "Found a new graph\n",
      "Not connected\n",
      "Not connected\n",
      "Not connected\n",
      "Not connected\n",
      "Not connected\n"
     ]
    },
    {
     "ename": "NetworkXError",
     "evalue": "The edge 0-2 is not in the graph",
     "output_type": "error",
     "traceback": [
      "\u001b[0;31m---------------------------------------------------------------------------\u001b[0m",
      "\u001b[0;31mKeyError\u001b[0m                                  Traceback (most recent call last)",
      "File \u001b[0;32m~/opt/anaconda3/envs/bt/lib/python3.10/site-packages/networkx/classes/graph.py:1016\u001b[0m, in \u001b[0;36mGraph.remove_edge\u001b[0;34m(self, u, v)\u001b[0m\n\u001b[1;32m   1015\u001b[0m \u001b[39mtry\u001b[39;00m:\n\u001b[0;32m-> 1016\u001b[0m     \u001b[39mdel\u001b[39;00m \u001b[39mself\u001b[39m\u001b[39m.\u001b[39m_adj[u][v]\n\u001b[1;32m   1017\u001b[0m     \u001b[39mif\u001b[39;00m u \u001b[39m!=\u001b[39m v:  \u001b[39m# self-loop needs only one entry removed\u001b[39;00m\n",
      "\u001b[0;31mKeyError\u001b[0m: 2",
      "\nThe above exception was the direct cause of the following exception:\n",
      "\u001b[0;31mNetworkXError\u001b[0m                             Traceback (most recent call last)",
      "\u001b[1;32m/Users/luca/dev/git/gitlab/ffhs/luca.hostettler/bt-hostettler/notebooks/10_data.ipynb Cell 3\u001b[0m in \u001b[0;36m<cell line: 11>\u001b[0;34m()\u001b[0m\n\u001b[1;32m     <a href='vscode-notebook-cell:/Users/luca/dev/git/gitlab/ffhs/luca.hostettler/bt-hostettler/notebooks/10_data.ipynb#W2sZmlsZQ%3D%3D?line=11'>12</a>\u001b[0m \u001b[39mfor\u001b[39;00m existing_u, existing_v \u001b[39min\u001b[39;00m edges_of_G:\n\u001b[1;32m     <a href='vscode-notebook-cell:/Users/luca/dev/git/gitlab/ffhs/luca.hostettler/bt-hostettler/notebooks/10_data.ipynb#W2sZmlsZQ%3D%3D?line=12'>13</a>\u001b[0m     G_new \u001b[39m=\u001b[39m G\u001b[39m.\u001b[39mcopy()\n\u001b[0;32m---> <a href='vscode-notebook-cell:/Users/luca/dev/git/gitlab/ffhs/luca.hostettler/bt-hostettler/notebooks/10_data.ipynb#W2sZmlsZQ%3D%3D?line=13'>14</a>\u001b[0m     G_new\u001b[39m.\u001b[39;49mremove_edge(existing_u, existing_v)\n\u001b[1;32m     <a href='vscode-notebook-cell:/Users/luca/dev/git/gitlab/ffhs/luca.hostettler/bt-hostettler/notebooks/10_data.ipynb#W2sZmlsZQ%3D%3D?line=14'>15</a>\u001b[0m     G_new\u001b[39m.\u001b[39madd_edge(u, v)\n\u001b[1;32m     <a href='vscode-notebook-cell:/Users/luca/dev/git/gitlab/ffhs/luca.hostettler/bt-hostettler/notebooks/10_data.ipynb#W2sZmlsZQ%3D%3D?line=15'>16</a>\u001b[0m     \u001b[39mif\u001b[39;00m (nx\u001b[39m.\u001b[39mis_connected(G_new) \u001b[39m==\u001b[39m \u001b[39mFalse\u001b[39;00m):\n",
      "File \u001b[0;32m~/opt/anaconda3/envs/bt/lib/python3.10/site-packages/networkx/classes/graph.py:1020\u001b[0m, in \u001b[0;36mGraph.remove_edge\u001b[0;34m(self, u, v)\u001b[0m\n\u001b[1;32m   1018\u001b[0m         \u001b[39mdel\u001b[39;00m \u001b[39mself\u001b[39m\u001b[39m.\u001b[39m_adj[v][u]\n\u001b[1;32m   1019\u001b[0m \u001b[39mexcept\u001b[39;00m \u001b[39mKeyError\u001b[39;00m \u001b[39mas\u001b[39;00m err:\n\u001b[0;32m-> 1020\u001b[0m     \u001b[39mraise\u001b[39;00m NetworkXError(\u001b[39mf\u001b[39m\u001b[39m\"\u001b[39m\u001b[39mThe edge \u001b[39m\u001b[39m{\u001b[39;00mu\u001b[39m}\u001b[39;00m\u001b[39m-\u001b[39m\u001b[39m{\u001b[39;00mv\u001b[39m}\u001b[39;00m\u001b[39m is not in the graph\u001b[39m\u001b[39m\"\u001b[39m) \u001b[39mfrom\u001b[39;00m \u001b[39merr\u001b[39;00m\n",
      "\u001b[0;31mNetworkXError\u001b[0m: The edge 0-2 is not in the graph"
     ]
    }
   ],
   "source": [
    "S = []\n",
    "G = nx.path_graph(8)\n",
    "S.append(G)\n",
    "\n",
    "not_existing_edges = nx.non_edges(G)\n",
    "edges_of_G = G.edges()\n",
    "\n",
    "for u, v in not_existing_edges:\n",
    "    for existing_u, existing_v in edges_of_G:\n",
    "        G_new = G.copy()\n",
    "        G_new.remove_edge(existing_u, existing_v)\n",
    "        G_new.add_edge(u, v)\n",
    "        if (nx.is_connected(G_new) == False):\n",
    "            print(\"Not connected\")\n",
    "            continue\n",
    "        if (nx.is_isomorphic(G, G_new) == False):\n",
    "            S.append(G_new)\n",
    "            not_existing_edges = nx.non_edges(G_new)\n",
    "            edges_of_G = nx.edges(G_new)\n",
    "            print(\"Found a new graph\")\n",
    "\n",
    "for G in S:\n",
    "    nx.draw(G, with_labels=True)\n",
    "    plt.show()\n"
   ]
  },
  {
   "cell_type": "code",
   "execution_count": 8,
   "metadata": {},
   "outputs": [
    {
     "ename": "TypeError",
     "evalue": "'generator' object is not subscriptable",
     "output_type": "error",
     "traceback": [
      "\u001b[0;31m---------------------------------------------------------------------------\u001b[0m",
      "\u001b[0;31mTypeError\u001b[0m                                 Traceback (most recent call last)",
      "\u001b[1;32m/Users/luca/dev/git/gitlab/ffhs/luca.hostettler/bt-hostettler/notebooks/10_data.ipynb Cell 5\u001b[0m in \u001b[0;36m<cell line: 10>\u001b[0;34m()\u001b[0m\n\u001b[1;32m     <a href='vscode-notebook-cell:/Users/luca/dev/git/gitlab/ffhs/luca.hostettler/bt-hostettler/notebooks/10_data.ipynb#W4sZmlsZQ%3D%3D?line=10'>11</a>\u001b[0m i \u001b[39m=\u001b[39m \u001b[39m1\u001b[39m\n\u001b[1;32m     <a href='vscode-notebook-cell:/Users/luca/dev/git/gitlab/ffhs/luca.hostettler/bt-hostettler/notebooks/10_data.ipynb#W4sZmlsZQ%3D%3D?line=11'>12</a>\u001b[0m \u001b[39mfor\u001b[39;00m j \u001b[39min\u001b[39;00m \u001b[39mrange\u001b[39m(i):\n\u001b[0;32m---> <a href='vscode-notebook-cell:/Users/luca/dev/git/gitlab/ffhs/luca.hostettler/bt-hostettler/notebooks/10_data.ipynb#W4sZmlsZQ%3D%3D?line=12'>13</a>\u001b[0m     missing_edge \u001b[39m=\u001b[39m missing_edges[j]\n\u001b[1;32m     <a href='vscode-notebook-cell:/Users/luca/dev/git/gitlab/ffhs/luca.hostettler/bt-hostettler/notebooks/10_data.ipynb#W4sZmlsZQ%3D%3D?line=13'>14</a>\u001b[0m     G_new\u001b[39m.\u001b[39madd_edge(u, v)\n\u001b[1;32m     <a href='vscode-notebook-cell:/Users/luca/dev/git/gitlab/ffhs/luca.hostettler/bt-hostettler/notebooks/10_data.ipynb#W4sZmlsZQ%3D%3D?line=15'>16</a>\u001b[0m \u001b[39mif\u001b[39;00m \u001b[39many\u001b[39m(nx\u001b[39m.\u001b[39mis_isomorphic(G_new, g_in_s) \u001b[39mfor\u001b[39;00m g_in_s \u001b[39min\u001b[39;00m S) \u001b[39m==\u001b[39m \u001b[39mFalse\u001b[39;00m:\n",
      "\u001b[0;31mTypeError\u001b[0m: 'generator' object is not subscriptable"
     ]
    }
   ],
   "source": [
    "k = 4\n",
    "G_full = nx.complete_graph(k)\n",
    "G = nx.path_graph(k)\n",
    "S = []\n",
    "\n",
    "S.append(G)\n",
    "missing_edges = nx.non_edges(G)\n",
    "G_new = G.copy()\n",
    "\n",
    "while nx.is_isomorphic(G_new, G_full) == False and i < k^2:\n",
    "    i = 1\n",
    "    for j in range(i):\n",
    "        missing_edge = missing_edges\n",
    "        G_new.add_edge(u, v)\n",
    "\n",
    "    if any(nx.is_isomorphic(G_new, g_in_s) for g_in_s in S) == False:\n",
    "        G_new = G_new.copy()\n",
    "        S.append(G_new)\n",
    "        print(f\"added {u}, {v}\")\n",
    "    else:\n",
    "        G_new.remove_edge(u, v)\n",
    "        print(\n",
    "            f\"not added {u}, {v} as it is isomorphic to another graph in S\")\n",
    "    i += 1\n",
    "\n",
    "for G in S:\n",
    "    nx.draw(G, with_labels=True)\n",
    "    plt.show()\n"
   ]
  },
  {
   "cell_type": "code",
   "execution_count": 2,
   "metadata": {},
   "outputs": [
    {
     "ename": "NameError",
     "evalue": "name 'Graph' is not defined",
     "output_type": "error",
     "traceback": [
      "\u001b[0;31m---------------------------------------------------------------------------\u001b[0m",
      "\u001b[0;31mNameError\u001b[0m                                 Traceback (most recent call last)",
      "\u001b[1;32m/Users/luca/dev/git/gitlab/ffhs/luca.hostettler/bt-hostettler/notebooks/10_data.ipynb Cell 6\u001b[0m in \u001b[0;36m<cell line: 3>\u001b[0;34m()\u001b[0m\n\u001b[1;32m      <a href='vscode-notebook-cell:/Users/luca/dev/git/gitlab/ffhs/luca.hostettler/bt-hostettler/notebooks/10_data.ipynb#W5sZmlsZQ%3D%3D?line=0'>1</a>\u001b[0m \u001b[39mfrom\u001b[39;00m \u001b[39mpynauty\u001b[39;00m \u001b[39mimport\u001b[39;00m \u001b[39m*\u001b[39m\n\u001b[0;32m----> <a href='vscode-notebook-cell:/Users/luca/dev/git/gitlab/ffhs/luca.hostettler/bt-hostettler/notebooks/10_data.ipynb#W5sZmlsZQ%3D%3D?line=2'>3</a>\u001b[0m G \u001b[39m=\u001b[39m Graph(\u001b[39m4\u001b[39m, directed\u001b[39m=\u001b[39m\u001b[39mFalse\u001b[39;00m)\n",
      "\u001b[0;31mNameError\u001b[0m: name 'Graph' is not defined"
     ]
    }
   ],
   "source": [
    "from pynauty import *\n",
    "\n",
    "G = Graph(4, directed=False)\n"
   ]
  },
  {
   "cell_type": "code",
   "execution_count": 1,
   "metadata": {},
   "outputs": [
    {
     "ename": "AttributeError",
     "evalue": "module 'networkx.generators' has no attribute 'spectral_graphs'",
     "output_type": "error",
     "traceback": [
      "\u001b[0;31m---------------------------------------------------------------------------\u001b[0m",
      "\u001b[0;31mAttributeError\u001b[0m                            Traceback (most recent call last)",
      "\u001b[1;32m/Users/luca/dev/git/gitlab/ffhs/luca.hostettler/bt-hostettler/notebooks/10_data.ipynb Cell 7\u001b[0m in \u001b[0;36m<cell line: 4>\u001b[0;34m()\u001b[0m\n\u001b[1;32m      <a href='vscode-notebook-cell:/Users/luca/dev/git/gitlab/ffhs/luca.hostettler/bt-hostettler/notebooks/10_data.ipynb#X10sZmlsZQ%3D%3D?line=0'>1</a>\u001b[0m \u001b[39mimport\u001b[39;00m \u001b[39mnetworkx\u001b[39;00m \u001b[39mas\u001b[39;00m \u001b[39mnx\u001b[39;00m\n\u001b[1;32m      <a href='vscode-notebook-cell:/Users/luca/dev/git/gitlab/ffhs/luca.hostettler/bt-hostettler/notebooks/10_data.ipynb#X10sZmlsZQ%3D%3D?line=2'>3</a>\u001b[0m \u001b[39m# Create the MS2265 graph\u001b[39;00m\n\u001b[0;32m----> <a href='vscode-notebook-cell:/Users/luca/dev/git/gitlab/ffhs/luca.hostettler/bt-hostettler/notebooks/10_data.ipynb#X10sZmlsZQ%3D%3D?line=3'>4</a>\u001b[0m ms2265 \u001b[39m=\u001b[39m nx\u001b[39m.\u001b[39;49mgenerators\u001b[39m.\u001b[39;49mspectral_graphs\u001b[39m.\u001b[39mms2265()\n\u001b[1;32m      <a href='vscode-notebook-cell:/Users/luca/dev/git/gitlab/ffhs/luca.hostettler/bt-hostettler/notebooks/10_data.ipynb#X10sZmlsZQ%3D%3D?line=5'>6</a>\u001b[0m \u001b[39m# Create the N9 graph\u001b[39;00m\n\u001b[1;32m      <a href='vscode-notebook-cell:/Users/luca/dev/git/gitlab/ffhs/luca.hostettler/bt-hostettler/notebooks/10_data.ipynb#X10sZmlsZQ%3D%3D?line=6'>7</a>\u001b[0m n9 \u001b[39m=\u001b[39m nx\u001b[39m.\u001b[39mgenerators\u001b[39m.\u001b[39mnauty_graphgen\u001b[39m.\u001b[39mN9()\n",
      "\u001b[0;31mAttributeError\u001b[0m: module 'networkx.generators' has no attribute 'spectral_graphs'"
     ]
    }
   ],
   "source": [
    "import networkx as nx\n",
    "\n",
    "# Create the MS2265 graph\n",
    "ms2265 = nx.generators.spectral_graphs.ms2265()\n",
    "\n",
    "# Create the N9 graph\n",
    "n9 = nx.generators.nauty_graphgen.N9()\n",
    "\n",
    "# Create the T15 graph\n",
    "t15 = nx.generators.nauty_graphgen.T15()\n",
    "\n",
    "# Print the edges of each graph\n",
    "print(ms2265.edges())\n",
    "print(n9.edges())\n",
    "print(t15.edges())"
   ]
  }
 ],
 "metadata": {
  "kernelspec": {
   "display_name": "Python 3.10.6 ('bt')",
   "language": "python",
   "name": "python3"
  },
  "language_info": {
   "codemirror_mode": {
    "name": "ipython",
    "version": 3
   },
   "file_extension": ".py",
   "mimetype": "text/x-python",
   "name": "python",
   "nbconvert_exporter": "python",
   "pygments_lexer": "ipython3",
   "version": "3.10.6"
  },
  "orig_nbformat": 4,
  "vscode": {
   "interpreter": {
    "hash": "c27191ed4da92fbef1e06f47803eae1586514922c69f32c30cb3a0fae2806a55"
   }
  }
 },
 "nbformat": 4,
 "nbformat_minor": 2
}
