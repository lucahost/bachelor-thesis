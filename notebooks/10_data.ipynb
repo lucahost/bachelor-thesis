{
 "cells": [
  {
   "cell_type": "markdown",
   "metadata": {},
   "source": [
    "# Data Preparation and synthethize networks of different classes\n",
    "\n",
    "In this chapter we are going to prepare the data for the next chapters. \n",
    "We will also create a synthetic network of each class.\n",
    "\n",
    "Different Datasets:\n",
    "\n",
    "- MS2265: Mass spectral database NIST\n",
    "- N9: Exhausitve, non-isomorphic, connected graph with 9 vertices (Nauty)\n",
    "- T15: Exhausitve, non-isomorphic, connected tree-graph with 15 vertices (Nauty)"
   ]
  },
  {
   "cell_type": "markdown",
   "metadata": {},
   "source": [
    "## Create a set of graphs from \"On structure-sensitivity of degree-based topological indices\"\n",
    "\n",
    "Let $G$ be a graph. Start be settings $\\mathscr{S}(G) = \\emptyset$. Delete from $G$ an edge and insert into it another edge. Do this in all possible ways.\n",
    "\n",
    "Let $G'$ be a graph obtained by delete from $G$ an edge, and by inserting into it another edge. If $G'$ is not connected, then disregard it. If $G' \\cong G$ (isomorphic) then disregard $G'$.\n",
    "If $G'$ is connected, check wether it is isomorphic to any of the elements of $\\mathscr{S}(G)$. If yes, disregard it. If not, include $G'$ into the set $\\mathscr{S}(G)$.\n",
    "\n",
    "Do the transformation $G \\rightarrow G'$ in all possible ways."
   ]
  },
  {
   "cell_type": "code",
   "execution_count": null,
   "metadata": {},
   "outputs": [],
   "source": [
    "import networkx as nx\n",
    "import matplotlib.pyplot as plt\n"
   ]
  },
  {
   "cell_type": "code",
   "execution_count": null,
   "metadata": {},
   "outputs": [],
   "source": [
    "S = []\n",
    "G = nx.path_graph(8)\n",
    "S.append(G)\n",
    "\n",
    "not_existing_edges = nx.non_edges(G)\n",
    "edges_of_G = G.edges()\n",
    "\n",
    "for u, v in not_existing_edges:\n",
    "    for existing_u, existing_v in edges_of_G:\n",
    "        G_new = G.copy()\n",
    "        G_new.remove_edge(existing_u, existing_v)\n",
    "        G_new.add_edge(u, v)\n",
    "        if (nx.is_connected(G_new) == False):\n",
    "            print(\"Not connected\")\n",
    "            continue\n",
    "        if (nx.is_isomorphic(G, G_new) == False):\n",
    "            S.append(G_new)\n",
    "            not_existing_edges = nx.non_edges(G_new)\n",
    "            edges_of_G = nx.edges(G_new)\n",
    "            print(\"Found a new graph\")\n",
    "\n",
    "for G in S:\n",
    "    nx.draw(G, with_labels=True)\n",
    "    plt.show()\n"
   ]
  },
  {
   "cell_type": "code",
   "execution_count": null,
   "metadata": {},
   "outputs": [],
   "source": [
    "k = 4\n",
    "G_full = nx.complete_graph(k)\n",
    "G = nx.path_graph(k)\n",
    "S = []\n",
    "\n",
    "S.append(G)\n",
    "missing_edges = nx.non_edges(G)\n",
    "G_new = G.copy()\n",
    "\n",
    "while nx.is_isomorphic(G_new, G_full) == False and i < k^2:\n",
    "    i = 1\n",
    "    for j in range(i):\n",
    "        missing_edge = missing_edges\n",
    "        G_new.add_edge(u, v)\n",
    "\n",
    "    if any(nx.is_isomorphic(G_new, g_in_s) for g_in_s in S) == False:\n",
    "        G_new = G_new.copy()\n",
    "        S.append(G_new)\n",
    "        print(f\"added {u}, {v}\")\n",
    "    else:\n",
    "        G_new.remove_edge(u, v)\n",
    "        print(\n",
    "            f\"not added {u}, {v} as it is isomorphic to another graph in S\")\n",
    "    i += 1\n",
    "\n",
    "for G in S:\n",
    "    nx.draw(G, with_labels=True)\n",
    "    plt.show()\n"
   ]
  },
  {
   "cell_type": "code",
   "execution_count": null,
   "metadata": {},
   "outputs": [],
   "source": [
    "from pynauty import *\n",
    "\n",
    "G = Graph(4, directed=False)\n"
   ]
  },
  {
   "cell_type": "code",
   "execution_count": null,
   "metadata": {},
   "outputs": [],
   "source": [
    "import networkx as nx\n",
    "\n",
    "# Create the N9 graph\n",
    "n9 = nx.complete_graph(9)\n",
    "\n",
    "# Create the T15 graph\n",
    "t15 = nx.random_tree(15)\n",
    "\n",
    "# Print the edges of each graph\n",
    "print(n9.edges())\n",
    "print(t15.edges())\n",
    "\n",
    "# plot the graphs\n",
    "nx.draw(n9, with_labels=True)\n",
    "plt.show()\n",
    "\n",
    "nx.draw(t15, with_labels=True)\n",
    "plt.show()"
   ]
  },
  {
   "cell_type": "code",
   "execution_count": null,
   "metadata": {},
   "outputs": [],
   "source": [
    "non_isomorphic_treegraphs = []\n",
    "while len(non_isomorphic_treegraphs) < 10:\n",
    "    g = nx.random_tree(10)\n",
    "\n",
    "    if any(nx.is_isomorphic(g, g_in_s) for g_in_s in non_isomorphic_treegraphs) == False:\n",
    "        non_isomorphic_treegraphs.append(g)\n",
    "        print(f\"added {g.edges()}\")\n",
    "    else:\n",
    "        print(f\"not added {g.edges()} as it is isomorphic to another graph in non_isomorphic_treegraphs\")\n",
    "\n",
    "for g in non_isomorphic_treegraphs:\n",
    "    nx.draw(g, with_labels=True)\n",
    "    plt.show()"
   ]
  },
  {
   "cell_type": "code",
   "execution_count": null,
   "metadata": {},
   "outputs": [],
   "source": [
    "for g in non_isomorphic_treegraphs:\n",
    "    print(nx.wiener_index(g))\n",
    "    print(nx.average_shortest_path_length(g))\n",
    "    print(nx.average_clustering(g))"
   ]
  }
 ],
 "metadata": {
  "kernelspec": {
   "display_name": "bt",
   "language": "python",
   "name": "python3"
  },
  "language_info": {
   "codemirror_mode": {
    "name": "ipython",
    "version": 3
   },
   "file_extension": ".py",
   "mimetype": "text/x-python",
   "name": "python",
   "nbconvert_exporter": "python",
   "pygments_lexer": "ipython3",
   "version": "3.10.6"
  },
  "orig_nbformat": 4,
  "vscode": {
   "interpreter": {
    "hash": "c27191ed4da92fbef1e06f47803eae1586514922c69f32c30cb3a0fae2806a55"
   }
  }
 },
 "nbformat": 4,
 "nbformat_minor": 2
}
