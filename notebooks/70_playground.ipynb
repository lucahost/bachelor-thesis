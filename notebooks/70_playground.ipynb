{
 "cells": [
  {
   "cell_type": "code",
   "execution_count": null,
   "metadata": {},
   "outputs": [],
   "source": [
    "import networkx as nx\n",
    "from sklearn.metrics import normalized_mutual_info_score\n",
    "import grinpy as gp\n",
    "\n",
    "# Create a graph with 5 nodes and 6 edges\n",
    "G = nx.Graph()\n",
    "G.add_edges_from([(1, 2), (1, 3), (1, 4), (2, 3), (2, 4), (3, 4)])\n",
    "\n",
    "nx.draw(G, with_labels=False)\n",
    "\n",
    "# Calculate the degree centrality of each node\n",
    "degree_centrality = nx.degree_centrality(G)\n",
    "\n",
    "# Calculate the clustering coefficient of each node\n",
    "clustering_coefficient = nx.clustering(G)\n",
    "\n",
    "# Calculate the NMI between the degree centrality and clustering coefficient\n",
    "nmi = normalized_mutual_info_score(degree_centrality.values(), clustering_coefficient.values())\n",
    "\n",
    "# Print the NMI\n",
    "print(nmi)"
   ]
  },
  {
   "attachments": {},
   "cell_type": "markdown",
   "metadata": {
    "dotnet_interactive": {
     "language": "csharp"
    },
    "polyglot_notebook": {
     "kernelName": "csharp"
    }
   },
   "source": [
    "This script calculates the degree centrality and the clustering coefficient for a graph, and then uses the NMI to compare the performance of these two topological indices. The higher the NMI, the better the two indices are able to distinguish between different classes of graphs.\n",
    "\n",
    "I hope this helps to get you started with using NetworkX to analyze topological indices and meta-indices in Python. Let me know if you have any other questions."
   ]
  },
  {
   "cell_type": "code",
   "execution_count": null,
   "metadata": {
    "dotnet_interactive": {
     "language": "csharp"
    },
    "polyglot_notebook": {
     "kernelName": "csharp"
    }
   },
   "outputs": [],
   "source": [
    "G = nx.Graph()\n",
    "G.add_edges_from([(1, 2), (1, 3), (1, 4), (2, 3), (2, 4), (3, 4), (5, 6), (5, 7), (5, 8), (6, 7), (6, 8), (7, 8), (9, 10), (9, 11), (9, 12), (10, 11), (10, 12), (11, 12), (1, 11), (2, 5), (10, 8)])\n",
    "\n",
    "nx.draw(G, with_labels=True)\n",
    "\n",
    "# Calculate the Wiener index of the graph\n",
    "wiener_index = nx.wiener_index(G)\n",
    "\n",
    "# Calculate the Randic index of the graph\n",
    "randic_index = gp.randic_index(G)\n",
    "\n",
    "# Calculate the first Zagreb index of the graph\n",
    "zagreb_index_1 = gp.first_zagreb_index(G)\n",
    "\n",
    "# Calculate the NMI between the Wiener index and the Randic index\n",
    "nmi_1 = normalized_mutual_info_score(wiener_index.values(), randic_index.values())\n",
    "\n",
    "# Calculate the NMI between the Wiener index and the first Zagreb index\n",
    "nmi_2 = normalized_mutual_info_score(wiener_index.values(), zagreb_index_1.values())\n",
    "\n",
    "# Calculate the NMI between the Randic index and the first Zagreb index\n",
    "nmi_3 = normalized_mutual_info_score(randic_index.values(), zagreb_index_1.values())\n",
    "\n",
    "# Print the NMIs\n",
    "print(nmi_1)\n",
    "print(nmi_2)\n",
    "print(nmi_3)"
   ]
  },
  {
   "cell_type": "code",
   "execution_count": null,
   "metadata": {
    "dotnet_interactive": {
     "language": "csharp"
    },
    "polyglot_notebook": {
     "kernelName": "csharp"
    }
   },
   "outputs": [],
   "source": [
    "import networkx as nx\n",
    "from sklearn.metrics import jaccard_score\n",
    "\n",
    "# Create a graph with 5 nodes and 6 edges\n",
    "G = nx.Graph()\n",
    "G.add_edges_from([(1, 2), (1, 3), (1, 4), (2, 3), (2, 4), (3, 4)])\n",
    "\n",
    "# Calculate the degree centrality of each node\n",
    "degree_centrality = nx.degree_centrality(G)\n",
    "\n",
    "# Calculate the clustering coefficient of each node\n",
    "clustering_coefficient = nx.clustering(G)\n",
    "\n",
    "# Calculate the Jaccard index between the degree centrality and clustering coefficient\n",
    "jaccard_index = jaccard_score(degree_centrality.values(), clustering_coefficient.values())\n",
    "\n",
    "# Print the Jaccard index\n",
    "print(jaccard_index)"
   ]
  },
  {
   "attachments": {},
   "cell_type": "markdown",
   "metadata": {
    "dotnet_interactive": {
     "language": "csharp"
    },
    "polyglot_notebook": {
     "kernelName": "csharp"
    }
   },
   "source": [
    "# non-usefulness\n",
    "\n",
    "if you calculate the NMI between two topological indices on a set of graphs and the NMI is very low, it indicates that the two indices are not able to distinguish between the different classes of graphs very well, and therefore they may not be very useful for that particular problem. Similarly, if you calculate the Jaccard index for two topological indices and the index is very high, it indicates that the two indices have a lot of overlap and they are not providing very unique information, which may make them less useful in certain situations."
   ]
  },
  {
   "cell_type": "code",
   "execution_count": null,
   "metadata": {
    "dotnet_interactive": {
     "language": "csharp"
    },
    "polyglot_notebook": {
     "kernelName": "csharp"
    }
   },
   "outputs": [],
   "source": [
    "import stellargraph as sg\n",
    "from stellargraph.data import UniformRandomWalk\n",
    "from stellargraph.global_utils.global_metrics import global_clustering, global_efficiency\n",
    "from stellargraph.global_utils.global_metrics import global_betweenness_centrality, global_degree_centrality\n",
    "\n",
    "import networkx as nx\n",
    "import pandas as pd\n",
    "import numpy as np\n",
    "\n",
    "# load the sample graph data\n",
    "G = sg.datasets.CyclesGraph()\n",
    "\n",
    "# define the set of topological indices to evaluate\n",
    "indices = [\n",
    "global_clustering,\n",
    "global_efficiency,\n",
    "global_betweenness_centrality,\n",
    "global_degree_centrality,\n",
    "]\n",
    "\n",
    "# create a dictionary to store the scores for each index\n",
    "score = {}\n",
    "\n",
    "# evaluate the relevance of each index\n",
    "# relevance is determined by the degree to which the index captures structural properties of the graph\n",
    "# that are relevant to a wide range of applications\n",
    "for index in indices:\n",
    "    score[index] = {\"relevance\": calculate_relevance(index, G)}\n",
    "\n",
    "# evaluate the accuracy of each index\n",
    "# accuracy is determined by the degree to which the calculated values of the index match known ground-truth values\n",
    "for index in indices:\n",
    "    score[index][\"accuracy\"] = calculate_accuracy(index, G)\n",
    "\n",
    "# evaluate the robustness of each index\n",
    "# robustness is determined by the degree to which the index maintains its properties under different perturbations\n",
    "# to the graph structure\n",
    "for index in indices:\n",
    "    score[index][\"robustness\"] = calculate_robustness(index, G)\n",
    "\n",
    "# evaluate the generalizability of each index\n",
    "# generalizability is determined by the degree to which the index can be applied to different types of graphs\n",
    "# and still maintain its usefulness\n",
    "for index in indices:\n",
    "    score[index][\"generalizability\"] = calculate_generalizability(index, G)\n",
    "\n",
    "# evaluate the interpretability of each index\n",
    "# interpretability is determined by the degree to which the index can be easily understood and explained\n",
    "# to others\n",
    "for index in indices:\n",
    "    score[index][\"interpretability\"] = calculate_interpretability(index, G)\n",
    "\n",
    "# calculate the overall usefulness score for each index\n",
    "# the overall score is a weighted average of the scores for each dimension\n",
    "for index in indices:\n",
    "    overall_score = 0\n",
    "    for key, value in score[index].items():\n",
    "        overall_score += value * weight[key]\n",
    "        score[index][\"overall\"] = overall_score\n",
    "\n",
    "# display the final scores for each index\n",
    "print(score)"
   ]
  },
  {
   "cell_type": "code",
   "execution_count": 1,
   "metadata": {
    "dotnet_interactive": {
     "language": "csharp"
    },
    "polyglot_notebook": {
     "kernelName": "csharp"
    }
   },
   "outputs": [
    {
     "ename": "ModuleNotFoundError",
     "evalue": "No module named 'stellargraph'",
     "output_type": "error",
     "traceback": [
      "\u001b[0;31m---------------------------------------------------------------------------\u001b[0m",
      "\u001b[0;31mModuleNotFoundError\u001b[0m                       Traceback (most recent call last)",
      "\u001b[1;32m/Users/luca/dev/git/gitlab/ffhs/luca.hostettler/bt-hostettler/notebooks/70_playground.ipynb Cell 7\u001b[0m in \u001b[0;36m<cell line: 4>\u001b[0;34m()\u001b[0m\n\u001b[1;32m      <a href='vscode-notebook-cell:/Users/luca/dev/git/gitlab/ffhs/luca.hostettler/bt-hostettler/notebooks/70_playground.ipynb#X13sZmlsZQ%3D%3D?line=0'>1</a>\u001b[0m \u001b[39mimport\u001b[39;00m \u001b[39mpandas\u001b[39;00m \u001b[39mas\u001b[39;00m \u001b[39mpd\u001b[39;00m\n\u001b[1;32m      <a href='vscode-notebook-cell:/Users/luca/dev/git/gitlab/ffhs/luca.hostettler/bt-hostettler/notebooks/70_playground.ipynb#X13sZmlsZQ%3D%3D?line=1'>2</a>\u001b[0m \u001b[39mimport\u001b[39;00m \u001b[39mnumpy\u001b[39;00m \u001b[39mas\u001b[39;00m \u001b[39mnp\u001b[39;00m\n\u001b[0;32m----> <a href='vscode-notebook-cell:/Users/luca/dev/git/gitlab/ffhs/luca.hostettler/bt-hostettler/notebooks/70_playground.ipynb#X13sZmlsZQ%3D%3D?line=3'>4</a>\u001b[0m \u001b[39mimport\u001b[39;00m \u001b[39mstellargraph\u001b[39;00m \u001b[39mas\u001b[39;00m \u001b[39msg\u001b[39;00m\n\u001b[1;32m      <a href='vscode-notebook-cell:/Users/luca/dev/git/gitlab/ffhs/luca.hostettler/bt-hostettler/notebooks/70_playground.ipynb#X13sZmlsZQ%3D%3D?line=4'>5</a>\u001b[0m \u001b[39mfrom\u001b[39;00m \u001b[39mstellargraph\u001b[39;00m\u001b[39m.\u001b[39;00m\u001b[39mmapper\u001b[39;00m \u001b[39mimport\u001b[39;00m PaddedGraphGenerator\n\u001b[1;32m      <a href='vscode-notebook-cell:/Users/luca/dev/git/gitlab/ffhs/luca.hostettler/bt-hostettler/notebooks/70_playground.ipynb#X13sZmlsZQ%3D%3D?line=5'>6</a>\u001b[0m \u001b[39mfrom\u001b[39;00m \u001b[39mstellargraph\u001b[39;00m\u001b[39m.\u001b[39;00m\u001b[39mlayer\u001b[39;00m \u001b[39mimport\u001b[39;00m DeepGraphCNN\n",
      "\u001b[0;31mModuleNotFoundError\u001b[0m: No module named 'stellargraph'"
     ]
    }
   ],
   "source": [
    "import pandas as pd\n",
    "import numpy as np\n",
    "\n",
    "import stellargraph as sg\n",
    "from stellargraph.mapper import PaddedGraphGenerator\n",
    "from stellargraph.layer import DeepGraphCNN\n",
    "from stellargraph import StellarGraph\n",
    "\n",
    "from stellargraph import datasets\n",
    "\n",
    "from sklearn import model_selection\n",
    "from IPython.display import display, HTML\n",
    "\n",
    "from tensorflow.keras import Model\n",
    "from tensorflow.keras.optimizers import Adam\n",
    "from tensorflow.keras.layers import Dense, Conv1D, MaxPool1D, Dropout, Flatten\n",
    "from tensorflow.keras.losses import binary_crossentropy\n",
    "import tensorflow as tf"
   ]
  }
 ],
 "metadata": {
  "kernelspec": {
   "display_name": "bt",
   "language": "python",
   "name": "python3"
  },
  "language_info": {
   "codemirror_mode": {
    "name": "ipython",
    "version": 3
   },
   "file_extension": ".py",
   "mimetype": "text/x-python",
   "name": "python",
   "nbconvert_exporter": "python",
   "pygments_lexer": "ipython3",
   "version": "3.10.6 (main, Oct 24 2022, 11:04:07) [Clang 12.0.0 ]"
  },
  "polyglot_notebook": {
   "kernelInfo": {
    "defaultKernelName": "csharp",
    "items": [
     {
      "aliases": [
       "c#",
       "C#"
      ],
      "languageName": "C#",
      "name": "csharp"
     },
     {
      "aliases": [
       "frontend"
      ],
      "languageName": null,
      "name": "vscode"
     }
    ]
   }
  },
  "vscode": {
   "interpreter": {
    "hash": "c27191ed4da92fbef1e06f47803eae1586514922c69f32c30cb3a0fae2806a55"
   }
  }
 },
 "nbformat": 4,
 "nbformat_minor": 2
}
