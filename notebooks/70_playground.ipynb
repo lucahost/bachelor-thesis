{
 "cells": [
  {
   "cell_type": "code",
   "execution_count": null,
   "metadata": {},
   "outputs": [],
   "source": [
    "import networkx as nx\n",
    "from sklearn.metrics import normalized_mutual_info_score\n",
    "import grinpy as gp\n",
    "\n",
    "# Create a graph with 5 nodes and 6 edges\n",
    "G = nx.Graph()\n",
    "G.add_edges_from([(1, 2), (1, 3), (1, 4), (2, 3), (2, 4), (3, 4)])\n",
    "\n",
    "nx.draw(G, with_labels=False)\n",
    "\n",
    "# Calculate the degree centrality of each node\n",
    "degree_centrality = nx.degree_centrality(G)\n",
    "\n",
    "# Calculate the clustering coefficient of each node\n",
    "clustering_coefficient = nx.clustering(G)\n",
    "\n",
    "# Calculate the NMI between the degree centrality and clustering coefficient\n",
    "nmi = normalized_mutual_info_score(degree_centrality.values(), clustering_coefficient.values())\n",
    "\n",
    "# Print the NMI\n",
    "print(nmi)"
   ]
  },
  {
   "attachments": {},
   "cell_type": "markdown",
   "metadata": {
    "dotnet_interactive": {
     "language": "csharp"
    },
    "polyglot_notebook": {
     "kernelName": "csharp"
    }
   },
   "source": [
    "This script calculates the degree centrality and the clustering coefficient for a graph, and then uses the NMI to compare the performance of these two topological indices. The higher the NMI, the better the two indices are able to distinguish between different classes of graphs.\n",
    "\n",
    "I hope this helps to get you started with using NetworkX to analyze topological indices and meta-indices in Python. Let me know if you have any other questions."
   ]
  },
  {
   "cell_type": "code",
   "execution_count": null,
   "metadata": {
    "dotnet_interactive": {
     "language": "csharp"
    },
    "polyglot_notebook": {
     "kernelName": "csharp"
    }
   },
   "outputs": [],
   "source": [
    "G = nx.Graph()\n",
    "G.add_edges_from([(1, 2), (1, 3), (1, 4), (2, 3), (2, 4), (3, 4), (5, 6), (5, 7), (5, 8), (6, 7), (6, 8), (7, 8), (9, 10), (9, 11), (9, 12), (10, 11), (10, 12), (11, 12), (1, 11), (2, 5), (10, 8)])\n",
    "\n",
    "nx.draw(G, with_labels=True)\n",
    "\n",
    "# Calculate the Wiener index of the graph\n",
    "wiener_index = nx.wiener_index(G)\n",
    "\n",
    "# Calculate the Randic index of the graph\n",
    "randic_index = gp.randic_index(G)\n",
    "\n",
    "# Calculate the first Zagreb index of the graph\n",
    "zagreb_index_1 = gp.first_zagreb_index(G)\n",
    "\n",
    "# Calculate the NMI between the Wiener index and the Randic index\n",
    "nmi_1 = normalized_mutual_info_score(wiener_index.values(), randic_index.values())\n",
    "\n",
    "# Calculate the NMI between the Wiener index and the first Zagreb index\n",
    "nmi_2 = normalized_mutual_info_score(wiener_index.values(), zagreb_index_1.values())\n",
    "\n",
    "# Calculate the NMI between the Randic index and the first Zagreb index\n",
    "nmi_3 = normalized_mutual_info_score(randic_index.values(), zagreb_index_1.values())\n",
    "\n",
    "# Print the NMIs\n",
    "print(nmi_1)\n",
    "print(nmi_2)\n",
    "print(nmi_3)"
   ]
  },
  {
   "cell_type": "code",
   "execution_count": null,
   "metadata": {
    "dotnet_interactive": {
     "language": "csharp"
    },
    "polyglot_notebook": {
     "kernelName": "csharp"
    }
   },
   "outputs": [],
   "source": [
    "import networkx as nx\n",
    "from sklearn.metrics import jaccard_score\n",
    "\n",
    "# Create a graph with 5 nodes and 6 edges\n",
    "G = nx.Graph()\n",
    "G.add_edges_from([(1, 2), (1, 3), (1, 4), (2, 3), (2, 4), (3, 4)])\n",
    "\n",
    "# Calculate the degree centrality of each node\n",
    "degree_centrality = nx.degree_centrality(G)\n",
    "\n",
    "# Calculate the clustering coefficient of each node\n",
    "clustering_coefficient = nx.clustering(G)\n",
    "\n",
    "# Calculate the Jaccard index between the degree centrality and clustering coefficient\n",
    "jaccard_index = jaccard_score(degree_centrality.values(), clustering_coefficient.values())\n",
    "\n",
    "# Print the Jaccard index\n",
    "print(jaccard_index)"
   ]
  },
  {
   "attachments": {},
   "cell_type": "markdown",
   "metadata": {
    "dotnet_interactive": {
     "language": "csharp"
    },
    "polyglot_notebook": {
     "kernelName": "csharp"
    }
   },
   "source": [
    "# non-usefulness\n",
    "\n",
    "if you calculate the NMI between two topological indices on a set of graphs and the NMI is very low, it indicates that the two indices are not able to distinguish between the different classes of graphs very well, and therefore they may not be very useful for that particular problem. Similarly, if you calculate the Jaccard index for two topological indices and the index is very high, it indicates that the two indices have a lot of overlap and they are not providing very unique information, which may make them less useful in certain situations."
   ]
  },
  {
   "cell_type": "code",
   "execution_count": null,
   "metadata": {
    "dotnet_interactive": {
     "language": "csharp"
    },
    "polyglot_notebook": {
     "kernelName": "csharp"
    }
   },
   "outputs": [],
   "source": [
    "import stellargraph as sg\n",
    "from stellargraph.data import UniformRandomWalk\n",
    "from stellargraph.global_utils.global_metrics import global_clustering, global_efficiency\n",
    "from stellargraph.global_utils.global_metrics import global_betweenness_centrality, global_degree_centrality\n",
    "\n",
    "import networkx as nx\n",
    "import pandas as pd\n",
    "import numpy as np\n",
    "\n",
    "# load the sample graph data\n",
    "G = sg.datasets.CyclesGraph()\n",
    "\n",
    "# define the set of topological indices to evaluate\n",
    "indices = [\n",
    "global_clustering,\n",
    "global_efficiency,\n",
    "global_betweenness_centrality,\n",
    "global_degree_centrality,\n",
    "]\n",
    "\n",
    "# create a dictionary to store the scores for each index\n",
    "score = {}\n",
    "\n",
    "# evaluate the relevance of each index\n",
    "# relevance is determined by the degree to which the index captures structural properties of the graph\n",
    "# that are relevant to a wide range of applications\n",
    "for index in indices:\n",
    "    score[index] = {\"relevance\": calculate_relevance(index, G)}\n",
    "\n",
    "# evaluate the accuracy of each index\n",
    "# accuracy is determined by the degree to which the calculated values of the index match known ground-truth values\n",
    "for index in indices:\n",
    "    score[index][\"accuracy\"] = calculate_accuracy(index, G)\n",
    "\n",
    "# evaluate the robustness of each index\n",
    "# robustness is determined by the degree to which the index maintains its properties under different perturbations\n",
    "# to the graph structure\n",
    "for index in indices:\n",
    "    score[index][\"robustness\"] = calculate_robustness(index, G)\n",
    "\n",
    "# evaluate the generalizability of each index\n",
    "# generalizability is determined by the degree to which the index can be applied to different types of graphs\n",
    "# and still maintain its usefulness\n",
    "for index in indices:\n",
    "    score[index][\"generalizability\"] = calculate_generalizability(index, G)\n",
    "\n",
    "# evaluate the interpretability of each index\n",
    "# interpretability is determined by the degree to which the index can be easily understood and explained\n",
    "# to others\n",
    "for index in indices:\n",
    "    score[index][\"interpretability\"] = calculate_interpretability(index, G)\n",
    "\n",
    "# calculate the overall usefulness score for each index\n",
    "# the overall score is a weighted average of the scores for each dimension\n",
    "for index in indices:\n",
    "    overall_score = 0\n",
    "    for key, value in score[index].items():\n",
    "        overall_score += value * weight[key]\n",
    "        score[index][\"overall\"] = overall_score\n",
    "\n",
    "# display the final scores for each index\n",
    "print(score)"
   ]
  },
  {
   "cell_type": "code",
   "execution_count": 1,
   "metadata": {
    "dotnet_interactive": {
     "language": "csharp"
    },
    "polyglot_notebook": {
     "kernelName": "csharp"
    }
   },
   "outputs": [
    {
     "ename": "ModuleNotFoundError",
     "evalue": "No module named 'stellargraph'",
     "output_type": "error",
     "traceback": [
      "\u001b[0;31m---------------------------------------------------------------------------\u001b[0m",
      "\u001b[0;31mModuleNotFoundError\u001b[0m                       Traceback (most recent call last)",
      "\u001b[1;32m/Users/luca/dev/git/gitlab/ffhs/luca.hostettler/bt-hostettler/notebooks/70_playground.ipynb Cell 7\u001b[0m in \u001b[0;36m<cell line: 4>\u001b[0;34m()\u001b[0m\n\u001b[1;32m      <a href='vscode-notebook-cell:/Users/luca/dev/git/gitlab/ffhs/luca.hostettler/bt-hostettler/notebooks/70_playground.ipynb#X13sZmlsZQ%3D%3D?line=0'>1</a>\u001b[0m \u001b[39mimport\u001b[39;00m \u001b[39mpandas\u001b[39;00m \u001b[39mas\u001b[39;00m \u001b[39mpd\u001b[39;00m\n\u001b[1;32m      <a href='vscode-notebook-cell:/Users/luca/dev/git/gitlab/ffhs/luca.hostettler/bt-hostettler/notebooks/70_playground.ipynb#X13sZmlsZQ%3D%3D?line=1'>2</a>\u001b[0m \u001b[39mimport\u001b[39;00m \u001b[39mnumpy\u001b[39;00m \u001b[39mas\u001b[39;00m \u001b[39mnp\u001b[39;00m\n\u001b[0;32m----> <a href='vscode-notebook-cell:/Users/luca/dev/git/gitlab/ffhs/luca.hostettler/bt-hostettler/notebooks/70_playground.ipynb#X13sZmlsZQ%3D%3D?line=3'>4</a>\u001b[0m \u001b[39mimport\u001b[39;00m \u001b[39mstellargraph\u001b[39;00m \u001b[39mas\u001b[39;00m \u001b[39msg\u001b[39;00m\n\u001b[1;32m      <a href='vscode-notebook-cell:/Users/luca/dev/git/gitlab/ffhs/luca.hostettler/bt-hostettler/notebooks/70_playground.ipynb#X13sZmlsZQ%3D%3D?line=4'>5</a>\u001b[0m \u001b[39mfrom\u001b[39;00m \u001b[39mstellargraph\u001b[39;00m\u001b[39m.\u001b[39;00m\u001b[39mmapper\u001b[39;00m \u001b[39mimport\u001b[39;00m PaddedGraphGenerator\n\u001b[1;32m      <a href='vscode-notebook-cell:/Users/luca/dev/git/gitlab/ffhs/luca.hostettler/bt-hostettler/notebooks/70_playground.ipynb#X13sZmlsZQ%3D%3D?line=5'>6</a>\u001b[0m \u001b[39mfrom\u001b[39;00m \u001b[39mstellargraph\u001b[39;00m\u001b[39m.\u001b[39;00m\u001b[39mlayer\u001b[39;00m \u001b[39mimport\u001b[39;00m DeepGraphCNN\n",
      "\u001b[0;31mModuleNotFoundError\u001b[0m: No module named 'stellargraph'"
     ]
    }
   ],
   "source": [
    "import pandas as pd\n",
    "import numpy as np\n",
    "\n",
    "import stellargraph as sg\n",
    "from stellargraph.mapper import PaddedGraphGenerator\n",
    "from stellargraph.layer import DeepGraphCNN\n",
    "from stellargraph import StellarGraph\n",
    "\n",
    "from stellargraph import datasets\n",
    "\n",
    "from sklearn import model_selection\n",
    "from IPython.display import display, HTML\n",
    "\n",
    "from tensorflow.keras import Model\n",
    "from tensorflow.keras.optimizers import Adam\n",
    "from tensorflow.keras.layers import Dense, Conv1D, MaxPool1D, Dropout, Flatten\n",
    "from tensorflow.keras.losses import binary_crossentropy\n",
    "import tensorflow as tf"
   ]
  },
  {
   "cell_type": "code",
   "execution_count": null,
   "metadata": {},
   "outputs": [],
   "source": [
    "dataset = datasets.PROTEINS()\n",
    "display(HTML(dataset.description))\n",
    "graphs, graph_labels = dataset.load()"
   ]
  },
  {
   "cell_type": "code",
   "execution_count": null,
   "metadata": {},
   "outputs": [],
   "source": [
    "graph_labels = pd.get_dummies(graph_labels, drop_first=True)\n"
   ]
  },
  {
   "cell_type": "code",
   "execution_count": null,
   "metadata": {},
   "outputs": [],
   "source": [
    "generator = PaddedGraphGenerator(graphs=graphs)\n"
   ]
  },
  {
   "cell_type": "code",
   "execution_count": null,
   "metadata": {},
   "outputs": [],
   "source": [
    "k = 35  # the number of rows for the output tensor\n",
    "layer_sizes = [32, 32, 32, 1]\n",
    "\n",
    "dgcnn_model = DeepGraphCNN(\n",
    "    layer_sizes=layer_sizes,\n",
    "    activations=[\"tanh\", \"tanh\", \"tanh\", \"tanh\"],\n",
    "    k=k,\n",
    "    bias=False,\n",
    "    generator=generator,\n",
    ")\n",
    "x_inp, x_out = dgcnn_model.in_out_tensors()"
   ]
  },
  {
   "cell_type": "code",
   "execution_count": null,
   "metadata": {},
   "outputs": [],
   "source": [
    "x_out = Conv1D(filters=16, kernel_size=sum(layer_sizes), strides=sum(layer_sizes))(x_out)\n",
    "x_out = MaxPool1D(pool_size=2)(x_out)\n",
    "\n",
    "x_out = Conv1D(filters=32, kernel_size=5, strides=1)(x_out)\n",
    "\n",
    "x_out = Flatten()(x_out)\n",
    "\n",
    "x_out = Dense(units=128, activation=\"relu\")(x_out)\n",
    "x_out = Dropout(rate=0.5)(x_out)\n",
    "\n",
    "predictions = Dense(units=1, activation=\"sigmoid\")(x_out)"
   ]
  },
  {
   "cell_type": "code",
   "execution_count": null,
   "metadata": {},
   "outputs": [],
   "source": [
    "model = Model(inputs=x_inp, outputs=predictions)\n",
    "\n",
    "model.compile(\n",
    "    optimizer=Adam(lr=0.0001), loss=binary_crossentropy, metrics=[\"acc\"],\n",
    ")"
   ]
  },
  {
   "cell_type": "code",
   "execution_count": null,
   "metadata": {},
   "outputs": [],
   "source": [
    "train_graphs, test_graphs = model_selection.train_test_split(\n",
    "    graph_labels, train_size=0.9, test_size=None, stratify=graph_labels,\n",
    ")"
   ]
  },
  {
   "cell_type": "code",
   "execution_count": null,
   "metadata": {},
   "outputs": [],
   "source": [
    "gen = PaddedGraphGenerator(graphs=graphs)\n",
    "\n",
    "train_gen = gen.flow(\n",
    "    list(train_graphs.index - 1),\n",
    "    targets=train_graphs.values,\n",
    "    batch_size=50,\n",
    "    symmetric_normalization=False,\n",
    ")\n",
    "\n",
    "test_gen = gen.flow(\n",
    "    list(test_graphs.index - 1),\n",
    "    targets=test_graphs.values,\n",
    "    batch_size=1,\n",
    "    symmetric_normalization=False,\n",
    ")"
   ]
  },
  {
   "cell_type": "code",
   "execution_count": 22,
   "metadata": {},
   "outputs": [
    {
     "name": "stdout",
     "output_type": "stream",
     "text": [
      "Epoch 1/100\n"
     ]
    },
    {
     "name": "stderr",
     "output_type": "stream",
     "text": [
      "c:\\Users\\hoste\\anaconda3\\envs\\bt\\lib\\site-packages\\tensorflow\\python\\framework\\indexed_slices.py:449: UserWarning: Converting sparse IndexedSlices(IndexedSlices(indices=Tensor(\"gradient_tape/model_1/sort_pooling_1/map/while/gradients/model_1/sort_pooling_1/map/while/GatherV2_grad/Reshape_1:0\", shape=(None,), dtype=int32), values=Tensor(\"gradient_tape/model_1/sort_pooling_1/map/while/gradients/model_1/sort_pooling_1/map/while/GatherV2_grad/Reshape:0\", shape=(None, None), dtype=float32), dense_shape=Tensor(\"gradient_tape/model_1/sort_pooling_1/map/while/gradients/model_1/sort_pooling_1/map/while/GatherV2_grad/Cast:0\", shape=(2,), dtype=int32))) to a dense Tensor of unknown shape. This may consume a large amount of memory.\n",
      "  \"shape. This may consume a large amount of memory.\" % value)\n"
     ]
    },
    {
     "name": "stdout",
     "output_type": "stream",
     "text": [
      "21/21 [==============================] - 3s 91ms/step - loss: 0.6734 - acc: 0.5814 - val_loss: 0.6338 - val_acc: 0.5982\n",
      "Epoch 2/100\n",
      "21/21 [==============================] - 1s 69ms/step - loss: 0.6337 - acc: 0.6254 - val_loss: 0.6024 - val_acc: 0.6696\n",
      "Epoch 3/100\n",
      "21/21 [==============================] - 1s 71ms/step - loss: 0.6218 - acc: 0.6853 - val_loss: 0.5812 - val_acc: 0.7589\n",
      "Epoch 4/100\n",
      "21/21 [==============================] - 1s 69ms/step - loss: 0.6095 - acc: 0.7123 - val_loss: 0.5701 - val_acc: 0.7768\n",
      "Epoch 5/100\n",
      "21/21 [==============================] - 2s 75ms/step - loss: 0.5995 - acc: 0.7173 - val_loss: 0.5566 - val_acc: 0.7768\n",
      "Epoch 6/100\n",
      "21/21 [==============================] - 2s 78ms/step - loss: 0.5985 - acc: 0.7083 - val_loss: 0.5502 - val_acc: 0.7589\n",
      "Epoch 7/100\n",
      "21/21 [==============================] - 2s 83ms/step - loss: 0.6007 - acc: 0.6933 - val_loss: 0.5450 - val_acc: 0.7589\n",
      "Epoch 8/100\n",
      "21/21 [==============================] - 2s 73ms/step - loss: 0.5873 - acc: 0.7163 - val_loss: 0.5426 - val_acc: 0.7589\n",
      "Epoch 9/100\n",
      "21/21 [==============================] - 2s 72ms/step - loss: 0.5887 - acc: 0.7083 - val_loss: 0.5426 - val_acc: 0.7589\n",
      "Epoch 10/100\n",
      "21/21 [==============================] - 1s 67ms/step - loss: 0.5925 - acc: 0.7103 - val_loss: 0.5363 - val_acc: 0.7589\n",
      "Epoch 11/100\n",
      "21/21 [==============================] - 1s 63ms/step - loss: 0.5791 - acc: 0.7163 - val_loss: 0.5354 - val_acc: 0.7589\n",
      "Epoch 12/100\n",
      "21/21 [==============================] - 1s 68ms/step - loss: 0.5816 - acc: 0.7093 - val_loss: 0.5302 - val_acc: 0.7768\n",
      "Epoch 13/100\n",
      "21/21 [==============================] - 1s 68ms/step - loss: 0.5852 - acc: 0.7153 - val_loss: 0.5359 - val_acc: 0.7679\n",
      "Epoch 14/100\n",
      "21/21 [==============================] - 1s 70ms/step - loss: 0.5816 - acc: 0.7203 - val_loss: 0.5299 - val_acc: 0.7768\n",
      "Epoch 15/100\n",
      "21/21 [==============================] - 2s 73ms/step - loss: 0.5745 - acc: 0.7263 - val_loss: 0.5272 - val_acc: 0.7768\n",
      "Epoch 16/100\n",
      "21/21 [==============================] - 2s 74ms/step - loss: 0.5832 - acc: 0.7143 - val_loss: 0.5323 - val_acc: 0.7679\n",
      "Epoch 17/100\n",
      "21/21 [==============================] - 2s 92ms/step - loss: 0.5752 - acc: 0.7173 - val_loss: 0.5263 - val_acc: 0.7768\n",
      "Epoch 18/100\n",
      "21/21 [==============================] - 2s 80ms/step - loss: 0.5763 - acc: 0.7173 - val_loss: 0.5276 - val_acc: 0.7768\n",
      "Epoch 19/100\n",
      "21/21 [==============================] - 2s 82ms/step - loss: 0.5739 - acc: 0.7193 - val_loss: 0.5234 - val_acc: 0.7768\n",
      "Epoch 20/100\n",
      "21/21 [==============================] - 2s 74ms/step - loss: 0.5636 - acc: 0.7203 - val_loss: 0.5325 - val_acc: 0.7768\n",
      "Epoch 21/100\n",
      "21/21 [==============================] - 2s 73ms/step - loss: 0.5715 - acc: 0.7093 - val_loss: 0.5249 - val_acc: 0.7768\n",
      "Epoch 22/100\n",
      "21/21 [==============================] - 1s 71ms/step - loss: 0.5702 - acc: 0.7153 - val_loss: 0.5202 - val_acc: 0.7768\n",
      "Epoch 23/100\n",
      "21/21 [==============================] - 1s 69ms/step - loss: 0.5743 - acc: 0.7143 - val_loss: 0.5244 - val_acc: 0.7768\n",
      "Epoch 24/100\n",
      "21/21 [==============================] - 1s 66ms/step - loss: 0.5615 - acc: 0.7203 - val_loss: 0.5263 - val_acc: 0.7768\n",
      "Epoch 25/100\n",
      "21/21 [==============================] - 1s 67ms/step - loss: 0.5590 - acc: 0.7203 - val_loss: 0.5246 - val_acc: 0.7768\n",
      "Epoch 26/100\n",
      "21/21 [==============================] - 1s 72ms/step - loss: 0.5603 - acc: 0.7253 - val_loss: 0.5235 - val_acc: 0.7768\n",
      "Epoch 27/100\n",
      "21/21 [==============================] - 1s 71ms/step - loss: 0.5598 - acc: 0.7303 - val_loss: 0.5196 - val_acc: 0.7768\n",
      "Epoch 28/100\n",
      "21/21 [==============================] - 1s 69ms/step - loss: 0.5639 - acc: 0.7223 - val_loss: 0.5467 - val_acc: 0.7857\n",
      "Epoch 29/100\n",
      "21/21 [==============================] - 1s 69ms/step - loss: 0.5601 - acc: 0.7263 - val_loss: 0.5247 - val_acc: 0.7768\n",
      "Epoch 30/100\n",
      "21/21 [==============================] - 1s 71ms/step - loss: 0.5507 - acc: 0.7283 - val_loss: 0.5221 - val_acc: 0.7768\n",
      "Epoch 31/100\n",
      "21/21 [==============================] - 1s 66ms/step - loss: 0.5572 - acc: 0.7203 - val_loss: 0.5233 - val_acc: 0.7768\n",
      "Epoch 32/100\n",
      "21/21 [==============================] - 1s 68ms/step - loss: 0.5522 - acc: 0.7263 - val_loss: 0.5358 - val_acc: 0.7946\n",
      "Epoch 33/100\n",
      "21/21 [==============================] - 1s 68ms/step - loss: 0.5506 - acc: 0.7313 - val_loss: 0.5297 - val_acc: 0.7857\n",
      "Epoch 34/100\n",
      "21/21 [==============================] - 1s 71ms/step - loss: 0.5474 - acc: 0.7283 - val_loss: 0.5236 - val_acc: 0.7857\n",
      "Epoch 35/100\n",
      "21/21 [==============================] - 1s 74ms/step - loss: 0.5453 - acc: 0.7273 - val_loss: 0.5233 - val_acc: 0.7857\n",
      "Epoch 36/100\n",
      "21/21 [==============================] - 1s 71ms/step - loss: 0.5505 - acc: 0.7313 - val_loss: 0.5309 - val_acc: 0.7946\n",
      "Epoch 37/100\n",
      "21/21 [==============================] - 1s 68ms/step - loss: 0.5443 - acc: 0.7433 - val_loss: 0.5255 - val_acc: 0.7857\n",
      "Epoch 38/100\n",
      "21/21 [==============================] - 1s 71ms/step - loss: 0.5518 - acc: 0.7363 - val_loss: 0.5199 - val_acc: 0.7857\n",
      "Epoch 39/100\n",
      "21/21 [==============================] - 1s 70ms/step - loss: 0.5486 - acc: 0.7313 - val_loss: 0.5198 - val_acc: 0.7768\n",
      "Epoch 40/100\n",
      "21/21 [==============================] - 1s 73ms/step - loss: 0.5484 - acc: 0.7333 - val_loss: 0.5196 - val_acc: 0.7768\n",
      "Epoch 41/100\n",
      "21/21 [==============================] - 2s 58ms/step - loss: 0.5466 - acc: 0.7373 - val_loss: 0.5303 - val_acc: 0.7946\n",
      "Epoch 42/100\n",
      "21/21 [==============================] - 1s 55ms/step - loss: 0.5480 - acc: 0.7233 - val_loss: 0.5450 - val_acc: 0.7321\n",
      "Epoch 43/100\n",
      "21/21 [==============================] - 1s 70ms/step - loss: 0.5413 - acc: 0.7423 - val_loss: 0.5204 - val_acc: 0.7857\n",
      "Epoch 44/100\n",
      "21/21 [==============================] - 1s 71ms/step - loss: 0.5448 - acc: 0.7283 - val_loss: 0.5197 - val_acc: 0.7768\n",
      "Epoch 45/100\n",
      "21/21 [==============================] - 1s 71ms/step - loss: 0.5425 - acc: 0.7443 - val_loss: 0.5590 - val_acc: 0.7232\n",
      "Epoch 46/100\n",
      "21/21 [==============================] - 1s 70ms/step - loss: 0.5428 - acc: 0.7363 - val_loss: 0.5244 - val_acc: 0.7946\n",
      "Epoch 47/100\n",
      "21/21 [==============================] - 1s 67ms/step - loss: 0.5387 - acc: 0.7423 - val_loss: 0.5275 - val_acc: 0.7946\n",
      "Epoch 48/100\n",
      "21/21 [==============================] - 2s 76ms/step - loss: 0.5322 - acc: 0.7423 - val_loss: 0.5205 - val_acc: 0.7857\n",
      "Epoch 49/100\n",
      "21/21 [==============================] - 1s 69ms/step - loss: 0.5382 - acc: 0.7363 - val_loss: 0.5233 - val_acc: 0.7857\n",
      "Epoch 50/100\n",
      "21/21 [==============================] - 1s 67ms/step - loss: 0.5445 - acc: 0.7403 - val_loss: 0.5229 - val_acc: 0.7857\n",
      "Epoch 51/100\n",
      "21/21 [==============================] - 1s 56ms/step - loss: 0.5270 - acc: 0.7403 - val_loss: 0.5353 - val_acc: 0.7589\n",
      "Epoch 52/100\n",
      "21/21 [==============================] - 1s 67ms/step - loss: 0.5394 - acc: 0.7373 - val_loss: 0.5268 - val_acc: 0.7946\n",
      "Epoch 53/100\n",
      "21/21 [==============================] - 1s 70ms/step - loss: 0.5355 - acc: 0.7483 - val_loss: 0.5305 - val_acc: 0.7857\n",
      "Epoch 54/100\n",
      "21/21 [==============================] - 1s 57ms/step - loss: 0.5476 - acc: 0.7323 - val_loss: 0.5461 - val_acc: 0.7321\n",
      "Epoch 55/100\n",
      "21/21 [==============================] - 1s 67ms/step - loss: 0.5409 - acc: 0.7423 - val_loss: 0.5242 - val_acc: 0.7857\n",
      "Epoch 56/100\n",
      "21/21 [==============================] - 1s 68ms/step - loss: 0.5350 - acc: 0.7353 - val_loss: 0.5280 - val_acc: 0.7857\n",
      "Epoch 57/100\n",
      "21/21 [==============================] - 1s 69ms/step - loss: 0.5400 - acc: 0.7443 - val_loss: 0.5228 - val_acc: 0.7857\n",
      "Epoch 58/100\n",
      "21/21 [==============================] - 2s 76ms/step - loss: 0.5393 - acc: 0.7393 - val_loss: 0.5336 - val_acc: 0.7768\n",
      "Epoch 59/100\n",
      "21/21 [==============================] - 2s 75ms/step - loss: 0.5328 - acc: 0.7393 - val_loss: 0.5370 - val_acc: 0.7679\n",
      "Epoch 60/100\n",
      "21/21 [==============================] - 1s 71ms/step - loss: 0.5342 - acc: 0.7493 - val_loss: 0.5296 - val_acc: 0.7946\n",
      "Epoch 61/100\n",
      "21/21 [==============================] - 2s 72ms/step - loss: 0.5387 - acc: 0.7353 - val_loss: 0.5467 - val_acc: 0.7232\n",
      "Epoch 62/100\n",
      "21/21 [==============================] - 1s 68ms/step - loss: 0.5401 - acc: 0.7303 - val_loss: 0.5299 - val_acc: 0.7946\n",
      "Epoch 63/100\n",
      "21/21 [==============================] - 1s 73ms/step - loss: 0.5454 - acc: 0.7373 - val_loss: 0.5279 - val_acc: 0.7857\n",
      "Epoch 64/100\n",
      "21/21 [==============================] - 1s 69ms/step - loss: 0.5395 - acc: 0.7423 - val_loss: 0.5256 - val_acc: 0.7857\n",
      "Epoch 65/100\n",
      "21/21 [==============================] - 1s 69ms/step - loss: 0.5432 - acc: 0.7493 - val_loss: 0.5434 - val_acc: 0.7411\n",
      "Epoch 66/100\n",
      "21/21 [==============================] - 1s 66ms/step - loss: 0.5269 - acc: 0.7403 - val_loss: 0.5300 - val_acc: 0.7857\n",
      "Epoch 67/100\n",
      "21/21 [==============================] - 1s 63ms/step - loss: 0.5373 - acc: 0.7473 - val_loss: 0.5307 - val_acc: 0.7768\n",
      "Epoch 68/100\n",
      "21/21 [==============================] - 1s 69ms/step - loss: 0.5391 - acc: 0.7463 - val_loss: 0.5257 - val_acc: 0.7768\n",
      "Epoch 69/100\n",
      "21/21 [==============================] - 1s 67ms/step - loss: 0.5374 - acc: 0.7433 - val_loss: 0.5301 - val_acc: 0.7768\n",
      "Epoch 70/100\n",
      "21/21 [==============================] - 1s 67ms/step - loss: 0.5235 - acc: 0.7572 - val_loss: 0.5281 - val_acc: 0.7946\n",
      "Epoch 71/100\n",
      "21/21 [==============================] - 1s 69ms/step - loss: 0.5328 - acc: 0.7403 - val_loss: 0.5267 - val_acc: 0.7857\n",
      "Epoch 72/100\n",
      "21/21 [==============================] - 1s 71ms/step - loss: 0.5296 - acc: 0.7483 - val_loss: 0.5256 - val_acc: 0.7679\n",
      "Epoch 73/100\n",
      "21/21 [==============================] - 1s 68ms/step - loss: 0.5337 - acc: 0.7473 - val_loss: 0.5434 - val_acc: 0.7500\n",
      "Epoch 74/100\n",
      "21/21 [==============================] - 1s 68ms/step - loss: 0.5310 - acc: 0.7483 - val_loss: 0.5301 - val_acc: 0.7768\n",
      "Epoch 75/100\n",
      "21/21 [==============================] - 1s 69ms/step - loss: 0.5280 - acc: 0.7433 - val_loss: 0.5311 - val_acc: 0.7679\n",
      "Epoch 76/100\n",
      "21/21 [==============================] - 1s 69ms/step - loss: 0.5224 - acc: 0.7483 - val_loss: 0.5283 - val_acc: 0.7946\n",
      "Epoch 77/100\n",
      "21/21 [==============================] - 1s 68ms/step - loss: 0.5319 - acc: 0.7483 - val_loss: 0.5264 - val_acc: 0.7679\n",
      "Epoch 78/100\n",
      "21/21 [==============================] - 1s 69ms/step - loss: 0.5343 - acc: 0.7393 - val_loss: 0.5278 - val_acc: 0.7768\n",
      "Epoch 79/100\n",
      "21/21 [==============================] - 1s 68ms/step - loss: 0.5296 - acc: 0.7403 - val_loss: 0.5446 - val_acc: 0.7500\n",
      "Epoch 80/100\n",
      "21/21 [==============================] - 1s 71ms/step - loss: 0.5359 - acc: 0.7423 - val_loss: 0.5308 - val_acc: 0.7768\n",
      "Epoch 81/100\n",
      "21/21 [==============================] - 1s 66ms/step - loss: 0.5246 - acc: 0.7463 - val_loss: 0.5539 - val_acc: 0.7232\n",
      "Epoch 82/100\n",
      "21/21 [==============================] - 1s 67ms/step - loss: 0.5343 - acc: 0.7313 - val_loss: 0.5261 - val_acc: 0.7768\n",
      "Epoch 83/100\n",
      "21/21 [==============================] - 1s 71ms/step - loss: 0.5309 - acc: 0.7373 - val_loss: 0.5250 - val_acc: 0.7768\n",
      "Epoch 84/100\n",
      "21/21 [==============================] - 1s 69ms/step - loss: 0.5335 - acc: 0.7463 - val_loss: 0.5384 - val_acc: 0.7500\n",
      "Epoch 85/100\n",
      "21/21 [==============================] - 1s 70ms/step - loss: 0.5236 - acc: 0.7353 - val_loss: 0.5250 - val_acc: 0.7857\n",
      "Epoch 86/100\n",
      "21/21 [==============================] - 1s 70ms/step - loss: 0.5291 - acc: 0.7552 - val_loss: 0.5402 - val_acc: 0.7500\n",
      "Epoch 87/100\n",
      "21/21 [==============================] - 1s 69ms/step - loss: 0.5306 - acc: 0.7413 - val_loss: 0.5239 - val_acc: 0.7768\n",
      "Epoch 88/100\n",
      "21/21 [==============================] - 1s 69ms/step - loss: 0.5228 - acc: 0.7383 - val_loss: 0.5327 - val_acc: 0.7500\n",
      "Epoch 89/100\n",
      "21/21 [==============================] - 1s 69ms/step - loss: 0.5197 - acc: 0.7463 - val_loss: 0.5275 - val_acc: 0.7857\n",
      "Epoch 90/100\n",
      "21/21 [==============================] - 1s 68ms/step - loss: 0.5241 - acc: 0.7433 - val_loss: 0.5306 - val_acc: 0.7589\n",
      "Epoch 91/100\n",
      "21/21 [==============================] - 1s 69ms/step - loss: 0.5297 - acc: 0.7433 - val_loss: 0.5360 - val_acc: 0.7411\n",
      "Epoch 92/100\n",
      "21/21 [==============================] - 1s 68ms/step - loss: 0.5275 - acc: 0.7353 - val_loss: 0.5237 - val_acc: 0.7768\n",
      "Epoch 93/100\n",
      "21/21 [==============================] - 2s 69ms/step - loss: 0.5290 - acc: 0.7393 - val_loss: 0.5229 - val_acc: 0.7768\n",
      "Epoch 94/100\n",
      "21/21 [==============================] - 2s 69ms/step - loss: 0.5316 - acc: 0.7363 - val_loss: 0.5266 - val_acc: 0.7857\n",
      "Epoch 95/100\n",
      "21/21 [==============================] - 2s 71ms/step - loss: 0.5243 - acc: 0.7592 - val_loss: 0.5387 - val_acc: 0.7500\n",
      "Epoch 96/100\n",
      "21/21 [==============================] - 1s 70ms/step - loss: 0.5237 - acc: 0.7463 - val_loss: 0.5257 - val_acc: 0.7857\n",
      "Epoch 97/100\n",
      "21/21 [==============================] - 1s 68ms/step - loss: 0.5246 - acc: 0.7473 - val_loss: 0.5325 - val_acc: 0.7589\n",
      "Epoch 98/100\n",
      "21/21 [==============================] - 1s 69ms/step - loss: 0.5215 - acc: 0.7483 - val_loss: 0.5298 - val_acc: 0.7589\n",
      "Epoch 99/100\n",
      "21/21 [==============================] - 1s 67ms/step - loss: 0.5332 - acc: 0.7373 - val_loss: 0.5340 - val_acc: 0.7500\n",
      "Epoch 100/100\n",
      "21/21 [==============================] - 1s 70ms/step - loss: 0.5210 - acc: 0.7453 - val_loss: 0.5276 - val_acc: 0.7679\n"
     ]
    }
   ],
   "source": [
    "epochs = 100\n",
    "history = model.fit(\n",
    "    train_gen, epochs=epochs, verbose=1, validation_data=test_gen, shuffle=True,\n",
    ")"
   ]
  },
  {
   "cell_type": "code",
   "execution_count": 23,
   "metadata": {},
   "outputs": [
    {
     "data": {
      "image/png": "[encoded data removed]",
      "text/plain": [
       "<Figure size 504x576 with 2 Axes>"
      ]
     },
     "metadata": {
      "needs_background": "light"
     },
     "output_type": "display_data"
    }
   ],
   "source": [
    "sg.utils.plot_history(history)\n"
   ]
  },
  {
   "cell_type": "code",
   "execution_count": 24,
   "metadata": {},
   "outputs": [
    {
     "name": "stdout",
     "output_type": "stream",
     "text": [
      "112/112 [==============================] - 0s 1ms/step - loss: 0.5276 - acc: 0.7679\n",
      "\n",
      "Test Set Metrics:\n",
      "\tloss: 0.5276\n",
      "\tacc: 0.7679\n"
     ]
    }
   ],
   "source": [
    "test_metrics = model.evaluate(test_gen)\n",
    "print(\"\\nTest Set Metrics:\")\n",
    "for name, val in zip(model.metrics_names, test_metrics):\n",
    "    print(\"\\t{}: {:0.4f}\".format(name, val))"
   ]
  }
 ],
 "metadata": {
  "kernelspec": {
   "display_name": "bt",
   "language": "python",
   "name": "python3"
  },
  "language_info": {
   "codemirror_mode": {
    "name": "ipython",
    "version": 3
   },
   "file_extension": ".py",
   "mimetype": "text/x-python",
   "name": "python",
   "nbconvert_exporter": "python",
   "pygments_lexer": "ipython3",
   "version": "3.6.15"
  },
  "polyglot_notebook": {
   "kernelInfo": {
    "defaultKernelName": "csharp",
    "items": [
     {
      "aliases": [
       "c#",
       "C#"
      ],
      "languageName": "C#",
      "name": "csharp"
     },
     {
      "aliases": [
       "frontend"
      ],
      "languageName": null,
      "name": "vscode"
     }
    ]
   }
  },
  "vscode": {
   "interpreter": {
    "hash": "403a3ce45d22581176dc371cb15bdaade48159e8b393567367f97e6090235952"
   }
  }
 },
 "nbformat": 4,
 "nbformat_minor": 2
}
