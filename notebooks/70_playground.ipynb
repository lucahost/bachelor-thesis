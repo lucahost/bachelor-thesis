{
 "cells": [
  {
   "cell_type": "code",
   "execution_count": null,
   "metadata": {},
   "outputs": [],
   "source": [
    "import networkx as nx\n",
    "from sklearn.metrics import normalized_mutual_info_score\n",
    "import grinpy as gp\n",
    "\n",
    "# Create a graph with 5 nodes and 6 edges\n",
    "G = nx.Graph()\n",
    "G.add_edges_from([(1, 2), (1, 3), (1, 4), (2, 3), (2, 4), (3, 4)])\n",
    "\n",
    "nx.draw(G, with_labels=False)\n",
    "\n",
    "# Calculate the degree centrality of each node\n",
    "degree_centrality = nx.degree_centrality(G)\n",
    "\n",
    "# Calculate the clustering coefficient of each node\n",
    "clustering_coefficient = nx.clustering(G)\n",
    "\n",
    "# convert clustering_coefficient values and degree_centrality values to integers\n",
    "clustering_coefficient = {k: int(v) for k, v in clustering_coefficient.items()}\n",
    "degree_centrality = {k: int(v) for k, v in degree_centrality.items()}\n",
    "\n",
    "# Calculate the NMI between the degree centrality and clustering coefficient\n",
    "nmi = normalized_mutual_info_score(list(degree_centrality.values()), list(clustering_coefficient.values()))\n",
    "\n",
    "# Print the NMI\n",
    "print(nmi)"
   ]
  },
  {
   "attachments": {},
   "cell_type": "markdown",
   "metadata": {
    "dotnet_interactive": {
     "language": "csharp"
    },
    "polyglot_notebook": {
     "kernelName": "csharp"
    }
   },
   "source": [
    "This script calculates the degree centrality and the clustering coefficient for a graph, and then uses the NMI to compare the performance of these two topological indices. The higher the NMI, the better the two indices are able to distinguish between different classes of graphs.\n",
    "\n",
    "I hope this helps to get you started with using NetworkX to analyze topological indices and meta-indices in Python. Let me know if you have any other questions."
   ]
  },
  {
   "cell_type": "code",
   "execution_count": null,
   "metadata": {
    "dotnet_interactive": {
     "language": "csharp"
    },
    "polyglot_notebook": {
     "kernelName": "csharp"
    }
   },
   "outputs": [],
   "source": [
    "G = nx.Graph()\n",
    "G.add_edges_from([(1, 2), (1, 3), (1, 4), (2, 3), (2, 4), (3, 4), (5, 6), (5, 7), (5, 8), (6, 7), (6, 8), (7, 8), (9, 10), (9, 11), (9, 12), (10, 11), (10, 12), (11, 12), (1, 11), (2, 5), (10, 8)])\n",
    "\n",
    "nx.draw(G, with_labels=True)\n",
    "\n",
    "# Calculate the Wiener index of the graph\n",
    "wiener_index = nx.wiener_index(G)\n",
    "\n",
    "# Calculate the Randic index of the graph\n",
    "randic_index = gp.randic_index(G)\n",
    "\n",
    "# Calculate the first Zagreb index of the graph\n",
    "zagreb_index_1 = gp.first_zagreb_index(G)\n",
    "\n",
    "# Calculate the NMI between the Wiener index and the Randic index\n",
    "nmi_1 = normalized_mutual_info_score(int(wiener_index), int(randic_index))\n",
    "\n",
    "# Calculate the NMI between the Wiener index and the first Zagreb index\n",
    "nmi_2 = normalized_mutual_info_score(wiener_index.values(), zagreb_index_1.values())\n",
    "\n",
    "# Calculate the NMI between the Randic index and the first Zagreb index\n",
    "nmi_3 = normalized_mutual_info_score(randic_index.values(), zagreb_index_1.values())\n",
    "\n",
    "# Print the NMIs\n",
    "print(nmi_1)\n",
    "print(nmi_2)\n",
    "print(nmi_3)"
   ]
  },
  {
   "cell_type": "code",
   "execution_count": 15,
   "metadata": {
    "dotnet_interactive": {
     "language": "csharp"
    },
    "polyglot_notebook": {
     "kernelName": "csharp"
    }
   },
   "outputs": [
    {
     "name": "stdout",
     "output_type": "stream",
     "text": [
      "1.0\n"
     ]
    }
   ],
   "source": [
    "import networkx as nx\n",
    "from sklearn.metrics import jaccard_score\n",
    "\n",
    "# Create a graph with 5 nodes and 6 edges\n",
    "G = nx.Graph()\n",
    "G.add_edges_from([(1, 2), (1, 3), (1, 4), (2, 3), (2, 4), (3, 4)])\n",
    "\n",
    "# Calculate the degree centrality of each node\n",
    "degree_centrality = nx.degree_centrality(G)\n",
    "\n",
    "# Calculate the clustering coefficient of each node\n",
    "clustering_coefficient = nx.clustering(G)\n",
    "\n",
    "# Calculate the Jaccard index between the degree centrality and clustering coefficient\n",
    "jaccard_index = jaccard_score(list(degree_centrality.values()), list(clustering_coefficient.values()))\n",
    "\n",
    "# Print the Jaccard index\n",
    "print(jaccard_index)"
   ]
  },
  {
   "attachments": {},
   "cell_type": "markdown",
   "metadata": {
    "dotnet_interactive": {
     "language": "csharp"
    },
    "polyglot_notebook": {
     "kernelName": "csharp"
    }
   },
   "source": [
    "# non-usefulness\n",
    "\n",
    "if you calculate the NMI between two topological indices on a set of graphs and the NMI is very low, it indicates that the two indices are not able to distinguish between the different classes of graphs very well, and therefore they may not be very useful for that particular problem. Similarly, if you calculate the Jaccard index for two topological indices and the index is very high, it indicates that the two indices have a lot of overlap and they are not providing very unique information, which may make them less useful in certain situations."
   ]
  }
 ],
 "metadata": {
  "kernelspec": {
   "display_name": "bt",
   "language": "python",
   "name": "python3"
  },
  "language_info": {
   "codemirror_mode": {
    "name": "ipython",
    "version": 3
   },
   "file_extension": ".py",
   "mimetype": "text/x-python",
   "name": "python",
   "nbconvert_exporter": "python",
   "pygments_lexer": "ipython3",
   "version": "3.10.8 | packaged by conda-forge | (main, Nov 22 2022, 08:16:33) [MSC v.1929 64 bit (AMD64)]"
  },
  "polyglot_notebook": {
   "kernelInfo": {
    "defaultKernelName": "csharp",
    "items": [
     {
      "aliases": [
       "c#",
       "C#"
      ],
      "languageName": "C#",
      "name": "csharp"
     },
     {
      "aliases": [
       "frontend"
      ],
      "languageName": null,
      "name": "vscode"
     }
    ]
   }
  },
  "vscode": {
   "interpreter": {
    "hash": "403a3ce45d22581176dc371cb15bdaade48159e8b393567367f97e6090235952"
   }
  }
 },
 "nbformat": 4,
 "nbformat_minor": 2
}
