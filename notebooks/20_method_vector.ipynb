{
 "cells": [
  {
   "cell_type": "markdown",
   "metadata": {},
   "source": [
    "# Methods used to calculate the usefulness of a topological index\n",
    "\n",
    "## Distance Measures\n",
    "\n",
    "To calculate the usefulness of a topological index we use the 4 graph measures below and calculate the euclidean distance between the two graphs. The distance is then used to calculate the usefulness of the index.\n",
    "\n",
    "### Graph Measures\n",
    "\n",
    "SS and Abr are defined in From 'On structure-sensitivity of degree-based topological indices'.\n",
    "\n",
    "_See the description of $\\mathscr{S}(G)$ in [10_Data](./10_data.ipynb)_\n",
    "\n",
    "#### Structure Sensitivity (SS)\n",
    "\n",
    "$$\n",
    "SS (TI, G) = \\frac{1}{|\\mathscr{S}(G)|} \\sum_{H\\in{\\mathscr{S}(G)}} {|\\frac{TI(H) - TI(G)}{TI(G)}|}\n",
    "$$\n",
    "\n",
    "$TI(H)$ is the topological index of a Graph $H$ structurally similar to $G$. Summation goas over the Set $(\\mathscr{S})$ of all connected graphs, structurally similar to the graph $G;|\\mathscr{S}|$ is the cardinality of the set $S$.\n",
    "\n",
    "If $SS(TI, G)$ is very small, the the index $TI$ is of little or no practical value.\n",
    "\n",
    "#### Abruptness (Abr)\n",
    "\n",
    "$$\n",
    "Abr(TI, G) = \\max_{H \\in \\mathscr{S}(G)} |\\frac{TI(H) - TI(G)}{TI(G)}|\n",
    "$$\n",
    "\n",
    "Both $SS$ and $Abr$ are dimensionless quantities.\n",
    "Abruptness will show how much a small structural change in a graph may cause a jumpwise (large) change in the considered topological index.\n",
    "\n",
    "The best is if the structure sensitivity is as large as possible, but the abrupness is as small as possible.\n",
    "\n",
    "#### Uniqueness\n",
    "\n",
    "$$\n",
    "S_\\mathcal{G}(TI) = \\frac{|\\mathcal{G}| - ndv}{|\\mathcal{G}|}\n",
    "$$\n",
    "\n",
    "$ndv$ is the number of graphs which cannot be distinguished by the index $TI$.\n",
    "\n",
    "In case $TI$ is fully unique, we obtain $S_\\mathcal{G}(TI) = 1$, hence ndv = $0$. The more degenerate the index $TI$ is, the smaller is $S(TI)$.\n",
    "\n",
    "#### Structural Graph Measure\n",
    "\n",
    "Let $\\mathcal{G}$ be a class of graphs and $G \\in \\mathcal(G)$. Let $D(G) = (d_y)_y$ be the distance matrix of $G; d_y$ is the shortest distance from the vertex $i$ and $j$. We define structural graph measure $I_\\lambda(G)$ by\n",
    "\n",
    "$$\n",
    "I_\\lambda(G) = S_{\\mathcal{G}}(I) * \\sum_{i=1}^{k} {|{\\lambda}^G_i|}\n",
    "$$\n",
    "\n",
    "${\\lambda}^G_1, {\\lambda}^G_2, ..., {\\lambda}^G_k, k \\leqslant |V|$ is the $i$-th are the non-zero eigenvalue of $D(G)$.\n"
   ]
  },
  {
   "cell_type": "code",
   "execution_count": null,
   "metadata": {},
   "outputs": [],
   "source": [
    "import networkx as nx"
   ]
  },
  {
   "cell_type": "code",
   "execution_count": null,
   "metadata": {},
   "outputs": [],
   "source": [
    "\n",
    "def abruptness(G, S):\n",
    "    \"\"\"Abruptness of a graph G given a set of nodes S\"\"\"\n",
    "    return len(S) - structure_sensitivity(G, S)\n",
    "\n",
    "\n",
    "def structure_sensitivity(G, S):\n",
    "    \"\"\"Structure sensitivity of a graph G given a set of nodes S\"\"\"\n",
    "    G.remove_nodes_from(S)\n",
    "    return nx.number_connected_components(G)\n",
    "\n",
    "\n",
    "def uniqueness(G, S):\n",
    "    \"\"\"Uniqueness of a graph G given a set of nodes S\"\"\"\n",
    "    return len(S) - len(set(S))\n",
    "\n",
    "\n",
    "def structural_graph_measure(G, S, measure):\n",
    "    \"\"\"Structural graph measure of a graph G given a set of nodes S\"\"\"\n",
    "    if measure == 'structure_sensitivity':\n",
    "        return structure_sensitivity(G, S)\n",
    "    elif measure == 'abruptness':\n",
    "        return abruptness(G, S)\n",
    "    elif measure == 'uniqueness':\n",
    "        return uniqueness(G, S)\n",
    "    else:\n",
    "        raise ValueError('Unknown measure')\n"
   ]
  },
  {
   "cell_type": "code",
   "execution_count": null,
   "metadata": {},
   "outputs": [],
   "source": [
    "\n",
    "def usefulness_vector(G, S, measures):\n",
    "    \"\"\"Vector of structural graph measures of a graph G given a set of nodes S\"\"\"\n",
    "    return [structural_graph_measure(G, S, measure) for measure in measures]\n"
   ]
  },
  {
   "cell_type": "code",
   "execution_count": null,
   "metadata": {},
   "outputs": [],
   "source": [
    "import networkx as nx\n",
    "\n",
    "S = []\n",
    "G = nx.Graph()\n",
    "\n",
    "G.add_nodes_from([1, 2, 3, 4, 5, 6, 7, 8, 9, 10])\n",
    "G.add_edges_from([(1, 2), (1, 3), (1, 4), (1, 5), (1, 6), (1, 7), (1, 8), (1, 9), (1, 10)])\n",
    "\n",
    "nx.draw(G, with_labels=True)\n",
    "\n"
   ]
  },
  {
   "cell_type": "markdown",
   "metadata": {},
   "source": [
    "## Clustering Task"
   ]
  }
 ],
 "metadata": {
  "kernelspec": {
   "display_name": "bt",
   "language": "python",
   "name": "python3"
  },
  "language_info": {
   "codemirror_mode": {
    "name": "ipython",
    "version": 3
   },
   "file_extension": ".py",
   "mimetype": "text/x-python",
   "name": "python",
   "nbconvert_exporter": "python",
   "pygments_lexer": "ipython3",
   "version": "3.10.8"
  },
  "orig_nbformat": 4,
  "vscode": {
   "interpreter": {
    "hash": "403a3ce45d22581176dc371cb15bdaade48159e8b393567367f97e6090235952"
   }
  }
 },
 "nbformat": 4,
 "nbformat_minor": 2
}
