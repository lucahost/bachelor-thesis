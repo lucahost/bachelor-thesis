{
 "cells": [
  {
   "attachments": {},
   "cell_type": "markdown",
   "metadata": {},
   "source": [
    "# Stellargraph Playground\n",
    "\n",
    "Wir verwenden die Bibliothek Stellargraph um Graphen zu visualisieren und zu analysieren. \n",
    "Stellargraph ist eine Bibliothek für Machine Learning auf Graphen, die auf TensorFlow und Keras basiert. \n",
    "Sie bietet eine einfache API für das Erstellen, Trainieren und Evaluieren von Graphen-Neuralen Netzen."
   ]
  },
  {
   "cell_type": "code",
   "execution_count": null,
   "metadata": {
    "dotnet_interactive": {
     "language": "csharp"
    },
    "polyglot_notebook": {
     "kernelName": "csharp"
    }
   },
   "outputs": [],
   "source": [
    "import stellargraph as sg\n",
    "from stellargraph.data import UniformRandomWalk\n",
    "from stellargraph.global_utils.global_metrics import global_clustering, global_efficiency\n",
    "from stellargraph.global_utils.global_metrics import global_betweenness_centrality, global_degree_centrality\n",
    "\n",
    "import networkx as nx\n",
    "import pandas as pd\n",
    "import numpy as np\n",
    "\n",
    "# load the sample graph data\n",
    "G = sg.datasets.CyclesGraph()\n",
    "\n",
    "# define the set of topological indices to evaluate\n",
    "indices = [\n",
    "global_clustering,\n",
    "global_efficiency,\n",
    "global_betweenness_centrality,\n",
    "global_degree_centrality,\n",
    "]\n",
    "\n",
    "# create a dictionary to store the scores for each index\n",
    "score = {}\n",
    "\n",
    "# evaluate the relevance of each index\n",
    "# relevance is determined by the degree to which the index captures structural properties of the graph\n",
    "# that are relevant to a wide range of applications\n",
    "for index in indices:\n",
    "    score[index] = {\"relevance\": calculate_relevance(index, G)}\n",
    "\n",
    "# evaluate the accuracy of each index\n",
    "# accuracy is determined by the degree to which the calculated values of the index match known ground-truth values\n",
    "for index in indices:\n",
    "    score[index][\"accuracy\"] = calculate_accuracy(index, G)\n",
    "\n",
    "# evaluate the robustness of each index\n",
    "# robustness is determined by the degree to which the index maintains its properties under different perturbations\n",
    "# to the graph structure\n",
    "for index in indices:\n",
    "    score[index][\"robustness\"] = calculate_robustness(index, G)\n",
    "\n",
    "# evaluate the generalizability of each index\n",
    "# generalizability is determined by the degree to which the index can be applied to different types of graphs\n",
    "# and still maintain its usefulness\n",
    "for index in indices:\n",
    "    score[index][\"generalizability\"] = calculate_generalizability(index, G)\n",
    "\n",
    "# evaluate the interpretability of each index\n",
    "# interpretability is determined by the degree to which the index can be easily understood and explained\n",
    "# to others\n",
    "for index in indices:\n",
    "    score[index][\"interpretability\"] = calculate_interpretability(index, G)\n",
    "\n",
    "# calculate the overall usefulness score for each index\n",
    "# the overall score is a weighted average of the scores for each dimension\n",
    "for index in indices:\n",
    "    overall_score = 0\n",
    "    for key, value in score[index].items():\n",
    "        overall_score += value * weight[key]\n",
    "        score[index][\"overall\"] = overall_score\n",
    "\n",
    "# display the final scores for each index\n",
    "print(score)"
   ]
  },
  {
   "cell_type": "code",
   "execution_count": 1,
   "metadata": {
    "dotnet_interactive": {
     "language": "csharp"
    },
    "polyglot_notebook": {
     "kernelName": "csharp"
    }
   },
   "outputs": [
    {
     "name": "stderr",
     "output_type": "stream",
     "text": [
      "c:\\Users\\hoste\\anaconda3\\envs\\stellargraph\\lib\\site-packages\\requests\\__init__.py:104: RequestsDependencyWarning: urllib3 (1.26.13) or chardet (5.0.0)/charset_normalizer (2.0.12) doesn't match a supported version!\n",
      "  RequestsDependencyWarning)\n"
     ]
    }
   ],
   "source": [
    "import pandas as pd\n",
    "import numpy as np\n",
    "\n",
    "import stellargraph as sg\n",
    "from stellargraph.mapper import PaddedGraphGenerator\n",
    "from stellargraph.layer import DeepGraphCNN\n",
    "from stellargraph import StellarGraph\n",
    "\n",
    "from stellargraph import datasets\n",
    "\n",
    "from sklearn import model_selection\n",
    "from IPython.display import display, HTML\n",
    "\n",
    "from tensorflow.keras import Model\n",
    "from tensorflow.keras.optimizers import Adam\n",
    "from tensorflow.keras.layers import Dense, Conv1D, MaxPool1D, Dropout, Flatten\n",
    "from tensorflow.keras.losses import binary_crossentropy\n",
    "import tensorflow as tf"
   ]
  },
  {
   "cell_type": "code",
   "execution_count": 2,
   "metadata": {},
   "outputs": [
    {
     "data": {
      "text/html": [
       "Each graph represents a protein and graph labels represent whether they are are enzymes or non-enzymes. The dataset includes 1113 graphs with 39 nodes and 73 edges on average for each graph. Graph nodes have 4 attributes (including a one-hot encoding of their label), and each graph is labelled as belonging to 1 of 2 classes."
      ],
      "text/plain": [
       "<IPython.core.display.HTML object>"
      ]
     },
     "metadata": {},
     "output_type": "display_data"
    }
   ],
   "source": [
    "dataset = datasets.PROTEINS()\n",
    "display(HTML(dataset.description))\n",
    "graphs, graph_labels = dataset.load()"
   ]
  },
  {
   "cell_type": "code",
   "execution_count": 3,
   "metadata": {},
   "outputs": [],
   "source": [
    "graph_labels = pd.get_dummies(graph_labels, drop_first=True)\n"
   ]
  },
  {
   "cell_type": "code",
   "execution_count": 4,
   "metadata": {},
   "outputs": [],
   "source": [
    "generator = PaddedGraphGenerator(graphs=graphs)\n"
   ]
  },
  {
   "cell_type": "code",
   "execution_count": 5,
   "metadata": {},
   "outputs": [
    {
     "name": "stdout",
     "output_type": "stream",
     "text": [
      "WARNING:tensorflow:From c:\\Users\\hoste\\anaconda3\\envs\\stellargraph\\lib\\site-packages\\tensorflow\\python\\util\\deprecation.py:617: calling map_fn_v2 (from tensorflow.python.ops.map_fn) with dtype is deprecated and will be removed in a future version.\n",
      "Instructions for updating:\n",
      "Use fn_output_signature instead\n"
     ]
    }
   ],
   "source": [
    "k = 35  # the number of rows for the output tensor\n",
    "layer_sizes = [32, 32, 32, 1]\n",
    "\n",
    "dgcnn_model = DeepGraphCNN(\n",
    "    layer_sizes=layer_sizes,\n",
    "    activations=[\"tanh\", \"tanh\", \"tanh\", \"tanh\"],\n",
    "    k=k,\n",
    "    bias=False,\n",
    "    generator=generator,\n",
    ")\n",
    "x_inp, x_out = dgcnn_model.in_out_tensors()"
   ]
  },
  {
   "cell_type": "code",
   "execution_count": 6,
   "metadata": {},
   "outputs": [],
   "source": [
    "x_out = Conv1D(filters=16, kernel_size=sum(layer_sizes), strides=sum(layer_sizes))(x_out)\n",
    "x_out = MaxPool1D(pool_size=2)(x_out)\n",
    "\n",
    "x_out = Conv1D(filters=32, kernel_size=5, strides=1)(x_out)\n",
    "\n",
    "x_out = Flatten()(x_out)\n",
    "\n",
    "x_out = Dense(units=128, activation=\"relu\")(x_out)\n",
    "x_out = Dropout(rate=0.5)(x_out)\n",
    "\n",
    "predictions = Dense(units=1, activation=\"sigmoid\")(x_out)"
   ]
  },
  {
   "cell_type": "code",
   "execution_count": 7,
   "metadata": {},
   "outputs": [
    {
     "name": "stderr",
     "output_type": "stream",
     "text": [
      "c:\\Users\\hoste\\anaconda3\\envs\\stellargraph\\lib\\site-packages\\keras\\optimizer_v2\\optimizer_v2.py:356: UserWarning: The `lr` argument is deprecated, use `learning_rate` instead.\n",
      "  \"The `lr` argument is deprecated, use `learning_rate` instead.\")\n"
     ]
    }
   ],
   "source": [
    "model = Model(inputs=x_inp, outputs=predictions)\n",
    "\n",
    "model.compile(\n",
    "    optimizer=Adam(lr=0.0001), loss=binary_crossentropy, metrics=[\"acc\"],\n",
    ")"
   ]
  },
  {
   "cell_type": "code",
   "execution_count": 8,
   "metadata": {},
   "outputs": [],
   "source": [
    "train_graphs, test_graphs = model_selection.train_test_split(\n",
    "    graph_labels, train_size=0.9, test_size=None, stratify=graph_labels,\n",
    ")"
   ]
  },
  {
   "cell_type": "code",
   "execution_count": 9,
   "metadata": {},
   "outputs": [],
   "source": [
    "gen = PaddedGraphGenerator(graphs=graphs)\n",
    "\n",
    "train_gen = gen.flow(\n",
    "    list(train_graphs.index - 1),\n",
    "    targets=train_graphs.values,\n",
    "    batch_size=50,\n",
    "    symmetric_normalization=False,\n",
    ")\n",
    "\n",
    "test_gen = gen.flow(\n",
    "    list(test_graphs.index - 1),\n",
    "    targets=test_graphs.values,\n",
    "    batch_size=1,\n",
    "    symmetric_normalization=False,\n",
    ")"
   ]
  },
  {
   "cell_type": "code",
   "execution_count": 10,
   "metadata": {},
   "outputs": [
    {
     "name": "stdout",
     "output_type": "stream",
     "text": [
      "Epoch 1/100\n"
     ]
    },
    {
     "name": "stderr",
     "output_type": "stream",
     "text": [
      "c:\\Users\\hoste\\anaconda3\\envs\\stellargraph\\lib\\site-packages\\tensorflow\\python\\framework\\indexed_slices.py:449: UserWarning: Converting sparse IndexedSlices(IndexedSlices(indices=Tensor(\"gradient_tape/model/sort_pooling/map/while/gradients/model/sort_pooling/map/while/GatherV2_grad/Reshape_1:0\", shape=(None,), dtype=int32), values=Tensor(\"gradient_tape/model/sort_pooling/map/while/gradients/model/sort_pooling/map/while/GatherV2_grad/Reshape:0\", shape=(None, None), dtype=float32), dense_shape=Tensor(\"gradient_tape/model/sort_pooling/map/while/gradients/model/sort_pooling/map/while/GatherV2_grad/Cast:0\", shape=(2,), dtype=int32))) to a dense Tensor of unknown shape. This may consume a large amount of memory.\n",
      "  \"shape. This may consume a large amount of memory.\" % value)\n"
     ]
    },
    {
     "name": "stdout",
     "output_type": "stream",
     "text": [
      "21/21 [==============================] - 3s 77ms/step - loss: 0.6576 - acc: 0.6104 - val_loss: 0.5984 - val_acc: 0.6250\n",
      "Epoch 2/100\n",
      "21/21 [==============================] - 1s 61ms/step - loss: 0.6208 - acc: 0.6543 - val_loss: 0.5838 - val_acc: 0.7232\n",
      "Epoch 3/100\n",
      "21/21 [==============================] - 1s 63ms/step - loss: 0.6092 - acc: 0.6903 - val_loss: 0.5742 - val_acc: 0.7589\n",
      "Epoch 4/100\n",
      "21/21 [==============================] - 1s 64ms/step - loss: 0.6011 - acc: 0.7193 - val_loss: 0.5643 - val_acc: 0.7679\n",
      "Epoch 5/100\n",
      "21/21 [==============================] - 1s 63ms/step - loss: 0.6019 - acc: 0.7113 - val_loss: 0.5624 - val_acc: 0.7768\n",
      "Epoch 6/100\n",
      "21/21 [==============================] - 1s 61ms/step - loss: 0.5979 - acc: 0.7103 - val_loss: 0.5561 - val_acc: 0.7768\n",
      "Epoch 7/100\n",
      "21/21 [==============================] - 1s 62ms/step - loss: 0.5879 - acc: 0.7193 - val_loss: 0.5525 - val_acc: 0.7768\n",
      "Epoch 8/100\n",
      "21/21 [==============================] - 1s 53ms/step - loss: 0.5930 - acc: 0.7243 - val_loss: 0.5461 - val_acc: 0.7768\n",
      "Epoch 9/100\n",
      "21/21 [==============================] - 1s 66ms/step - loss: 0.5833 - acc: 0.7203 - val_loss: 0.5414 - val_acc: 0.7768\n",
      "Epoch 10/100\n",
      "21/21 [==============================] - 1s 69ms/step - loss: 0.5900 - acc: 0.7213 - val_loss: 0.5417 - val_acc: 0.7768\n",
      "Epoch 11/100\n",
      "21/21 [==============================] - 1s 71ms/step - loss: 0.5833 - acc: 0.7183 - val_loss: 0.5364 - val_acc: 0.7679\n",
      "Epoch 12/100\n",
      "21/21 [==============================] - 1s 65ms/step - loss: 0.5864 - acc: 0.7243 - val_loss: 0.5382 - val_acc: 0.7768\n",
      "Epoch 13/100\n",
      "21/21 [==============================] - 1s 65ms/step - loss: 0.5824 - acc: 0.7243 - val_loss: 0.5330 - val_acc: 0.7679\n",
      "Epoch 14/100\n",
      "21/21 [==============================] - 1s 65ms/step - loss: 0.5765 - acc: 0.7223 - val_loss: 0.5345 - val_acc: 0.7679\n",
      "Epoch 15/100\n",
      "21/21 [==============================] - 1s 65ms/step - loss: 0.5776 - acc: 0.7213 - val_loss: 0.5274 - val_acc: 0.7679\n",
      "Epoch 16/100\n",
      "21/21 [==============================] - 1s 66ms/step - loss: 0.5808 - acc: 0.7263 - val_loss: 0.5296 - val_acc: 0.7679\n",
      "Epoch 17/100\n",
      "21/21 [==============================] - 1s 63ms/step - loss: 0.5774 - acc: 0.7193 - val_loss: 0.5287 - val_acc: 0.7768\n",
      "Epoch 18/100\n",
      "21/21 [==============================] - 1s 66ms/step - loss: 0.5732 - acc: 0.7163 - val_loss: 0.5255 - val_acc: 0.7679\n",
      "Epoch 19/100\n",
      "21/21 [==============================] - 1s 61ms/step - loss: 0.5730 - acc: 0.7213 - val_loss: 0.5232 - val_acc: 0.7768\n",
      "Epoch 20/100\n",
      "21/21 [==============================] - 1s 64ms/step - loss: 0.5750 - acc: 0.7193 - val_loss: 0.5260 - val_acc: 0.7679\n",
      "Epoch 21/100\n",
      "21/21 [==============================] - 1s 63ms/step - loss: 0.5635 - acc: 0.7313 - val_loss: 0.5227 - val_acc: 0.7679\n",
      "Epoch 22/100\n",
      "21/21 [==============================] - 1s 66ms/step - loss: 0.5668 - acc: 0.7273 - val_loss: 0.5228 - val_acc: 0.7679\n",
      "Epoch 23/100\n",
      "21/21 [==============================] - 1s 62ms/step - loss: 0.5678 - acc: 0.7263 - val_loss: 0.5161 - val_acc: 0.7679\n",
      "Epoch 24/100\n",
      "21/21 [==============================] - 1s 63ms/step - loss: 0.5693 - acc: 0.7273 - val_loss: 0.5207 - val_acc: 0.7679\n",
      "Epoch 25/100\n",
      "21/21 [==============================] - 1s 62ms/step - loss: 0.5634 - acc: 0.7303 - val_loss: 0.5193 - val_acc: 0.7589\n",
      "Epoch 26/100\n",
      "21/21 [==============================] - 1s 63ms/step - loss: 0.5629 - acc: 0.7273 - val_loss: 0.5191 - val_acc: 0.7589\n",
      "Epoch 27/100\n",
      "21/21 [==============================] - 1s 63ms/step - loss: 0.5651 - acc: 0.7253 - val_loss: 0.5171 - val_acc: 0.7589\n",
      "Epoch 28/100\n",
      "21/21 [==============================] - 1s 63ms/step - loss: 0.5602 - acc: 0.7283 - val_loss: 0.5123 - val_acc: 0.7768\n",
      "Epoch 29/100\n",
      "21/21 [==============================] - 1s 64ms/step - loss: 0.5668 - acc: 0.7293 - val_loss: 0.5116 - val_acc: 0.7768\n",
      "Epoch 30/100\n",
      "21/21 [==============================] - 1s 54ms/step - loss: 0.5598 - acc: 0.7243 - val_loss: 0.5105 - val_acc: 0.7679\n",
      "Epoch 31/100\n",
      "21/21 [==============================] - 1s 66ms/step - loss: 0.5529 - acc: 0.7363 - val_loss: 0.5124 - val_acc: 0.7679\n",
      "Epoch 32/100\n",
      "21/21 [==============================] - 1s 49ms/step - loss: 0.5545 - acc: 0.7293 - val_loss: 0.5103 - val_acc: 0.7768\n",
      "Epoch 33/100\n",
      "21/21 [==============================] - 1s 67ms/step - loss: 0.5552 - acc: 0.7353 - val_loss: 0.5077 - val_acc: 0.7589\n",
      "Epoch 34/100\n",
      "21/21 [==============================] - 1s 68ms/step - loss: 0.5535 - acc: 0.7293 - val_loss: 0.5060 - val_acc: 0.7679\n",
      "Epoch 35/100\n",
      "21/21 [==============================] - 1s 68ms/step - loss: 0.5598 - acc: 0.7253 - val_loss: 0.5083 - val_acc: 0.7768\n",
      "Epoch 36/100\n",
      "21/21 [==============================] - 1s 64ms/step - loss: 0.5565 - acc: 0.7283 - val_loss: 0.5096 - val_acc: 0.7768\n",
      "Epoch 37/100\n",
      "21/21 [==============================] - 1s 69ms/step - loss: 0.5501 - acc: 0.7403 - val_loss: 0.5069 - val_acc: 0.7768\n",
      "Epoch 38/100\n",
      "21/21 [==============================] - 2s 84ms/step - loss: 0.5470 - acc: 0.7393 - val_loss: 0.5048 - val_acc: 0.7679\n",
      "Epoch 39/100\n",
      "21/21 [==============================] - 2s 80ms/step - loss: 0.5488 - acc: 0.7343 - val_loss: 0.5026 - val_acc: 0.7679\n",
      "Epoch 40/100\n",
      "21/21 [==============================] - 2s 74ms/step - loss: 0.5458 - acc: 0.7373 - val_loss: 0.5061 - val_acc: 0.7589\n",
      "Epoch 41/100\n",
      "21/21 [==============================] - 2s 76ms/step - loss: 0.5523 - acc: 0.7403 - val_loss: 0.5016 - val_acc: 0.7679\n",
      "Epoch 42/100\n",
      "21/21 [==============================] - 1s 71ms/step - loss: 0.5440 - acc: 0.7363 - val_loss: 0.5036 - val_acc: 0.7679\n",
      "Epoch 43/100\n",
      "21/21 [==============================] - 2s 72ms/step - loss: 0.5439 - acc: 0.7363 - val_loss: 0.5058 - val_acc: 0.7768\n",
      "Epoch 44/100\n",
      "21/21 [==============================] - 2s 75ms/step - loss: 0.5416 - acc: 0.7383 - val_loss: 0.5020 - val_acc: 0.7589\n",
      "Epoch 45/100\n",
      "21/21 [==============================] - 1s 67ms/step - loss: 0.5432 - acc: 0.7423 - val_loss: 0.5005 - val_acc: 0.7589\n",
      "Epoch 46/100\n",
      "21/21 [==============================] - 1s 63ms/step - loss: 0.5427 - acc: 0.7393 - val_loss: 0.5060 - val_acc: 0.7589\n",
      "Epoch 47/100\n",
      "21/21 [==============================] - 1s 68ms/step - loss: 0.5452 - acc: 0.7383 - val_loss: 0.5054 - val_acc: 0.7589\n",
      "Epoch 48/100\n",
      "21/21 [==============================] - 1s 69ms/step - loss: 0.5414 - acc: 0.7473 - val_loss: 0.5129 - val_acc: 0.7946\n",
      "Epoch 49/100\n",
      "21/21 [==============================] - 1s 64ms/step - loss: 0.5465 - acc: 0.7483 - val_loss: 0.4997 - val_acc: 0.7679\n",
      "Epoch 50/100\n",
      "21/21 [==============================] - 1s 59ms/step - loss: 0.5377 - acc: 0.7463 - val_loss: 0.5024 - val_acc: 0.7589\n",
      "Epoch 51/100\n",
      "21/21 [==============================] - 1s 62ms/step - loss: 0.5389 - acc: 0.7433 - val_loss: 0.5027 - val_acc: 0.7679\n",
      "Epoch 52/100\n",
      "21/21 [==============================] - 1s 63ms/step - loss: 0.5392 - acc: 0.7502 - val_loss: 0.5048 - val_acc: 0.7679\n",
      "Epoch 53/100\n",
      "21/21 [==============================] - 1s 63ms/step - loss: 0.5346 - acc: 0.7463 - val_loss: 0.4987 - val_acc: 0.7411\n",
      "Epoch 54/100\n",
      "21/21 [==============================] - 1s 61ms/step - loss: 0.5420 - acc: 0.7393 - val_loss: 0.5005 - val_acc: 0.7679\n",
      "Epoch 55/100\n",
      "21/21 [==============================] - 1s 63ms/step - loss: 0.5370 - acc: 0.7433 - val_loss: 0.4972 - val_acc: 0.7679\n",
      "Epoch 56/100\n",
      "21/21 [==============================] - 1s 60ms/step - loss: 0.5349 - acc: 0.7413 - val_loss: 0.4959 - val_acc: 0.7411\n",
      "Epoch 57/100\n",
      "21/21 [==============================] - 1s 57ms/step - loss: 0.5407 - acc: 0.7433 - val_loss: 0.4962 - val_acc: 0.7679\n",
      "Epoch 58/100\n",
      "21/21 [==============================] - 1s 56ms/step - loss: 0.5383 - acc: 0.7473 - val_loss: 0.4981 - val_acc: 0.7679\n",
      "Epoch 59/100\n",
      "21/21 [==============================] - 1s 61ms/step - loss: 0.5371 - acc: 0.7493 - val_loss: 0.5001 - val_acc: 0.7679\n",
      "Epoch 60/100\n",
      "21/21 [==============================] - 1s 64ms/step - loss: 0.5292 - acc: 0.7343 - val_loss: 0.5020 - val_acc: 0.7857\n",
      "Epoch 61/100\n",
      "21/21 [==============================] - 1s 61ms/step - loss: 0.5400 - acc: 0.7473 - val_loss: 0.4916 - val_acc: 0.7589\n",
      "Epoch 62/100\n",
      "21/21 [==============================] - 1s 62ms/step - loss: 0.5383 - acc: 0.7532 - val_loss: 0.4927 - val_acc: 0.7589\n",
      "Epoch 63/100\n",
      "21/21 [==============================] - 1s 62ms/step - loss: 0.5344 - acc: 0.7433 - val_loss: 0.4893 - val_acc: 0.7589\n",
      "Epoch 64/100\n",
      "21/21 [==============================] - 1s 64ms/step - loss: 0.5370 - acc: 0.7343 - val_loss: 0.4985 - val_acc: 0.7946\n",
      "Epoch 65/100\n",
      "21/21 [==============================] - 1s 63ms/step - loss: 0.5350 - acc: 0.7493 - val_loss: 0.4890 - val_acc: 0.7589\n",
      "Epoch 66/100\n",
      "21/21 [==============================] - 1s 62ms/step - loss: 0.5339 - acc: 0.7473 - val_loss: 0.5037 - val_acc: 0.7946\n",
      "Epoch 67/100\n",
      "21/21 [==============================] - 1s 62ms/step - loss: 0.5381 - acc: 0.7532 - val_loss: 0.5041 - val_acc: 0.7946\n",
      "Epoch 68/100\n",
      "21/21 [==============================] - 1s 63ms/step - loss: 0.5342 - acc: 0.7473 - val_loss: 0.4921 - val_acc: 0.7589\n",
      "Epoch 69/100\n",
      "21/21 [==============================] - 1s 63ms/step - loss: 0.5365 - acc: 0.7433 - val_loss: 0.4901 - val_acc: 0.7411\n",
      "Epoch 70/100\n",
      "21/21 [==============================] - 1s 60ms/step - loss: 0.5303 - acc: 0.7453 - val_loss: 0.5018 - val_acc: 0.7946\n",
      "Epoch 71/100\n",
      "21/21 [==============================] - 1s 66ms/step - loss: 0.5328 - acc: 0.7542 - val_loss: 0.4870 - val_acc: 0.7411\n",
      "Epoch 72/100\n",
      "21/21 [==============================] - 1s 64ms/step - loss: 0.5342 - acc: 0.7542 - val_loss: 0.4870 - val_acc: 0.7411\n",
      "Epoch 73/100\n",
      "21/21 [==============================] - 1s 65ms/step - loss: 0.5286 - acc: 0.7483 - val_loss: 0.4925 - val_acc: 0.7679\n",
      "Epoch 74/100\n",
      "21/21 [==============================] - 1s 66ms/step - loss: 0.5285 - acc: 0.7493 - val_loss: 0.4856 - val_acc: 0.7589\n",
      "Epoch 75/100\n",
      "21/21 [==============================] - 1s 63ms/step - loss: 0.5283 - acc: 0.7502 - val_loss: 0.4845 - val_acc: 0.7589\n",
      "Epoch 76/100\n",
      "21/21 [==============================] - 1s 66ms/step - loss: 0.5401 - acc: 0.7393 - val_loss: 0.4972 - val_acc: 0.7946\n",
      "Epoch 77/100\n",
      "21/21 [==============================] - 1s 62ms/step - loss: 0.5297 - acc: 0.7453 - val_loss: 0.4869 - val_acc: 0.7679\n",
      "Epoch 78/100\n",
      "21/21 [==============================] - 1s 49ms/step - loss: 0.5298 - acc: 0.7502 - val_loss: 0.4848 - val_acc: 0.7500\n",
      "Epoch 79/100\n",
      "21/21 [==============================] - 1s 68ms/step - loss: 0.5234 - acc: 0.7512 - val_loss: 0.4986 - val_acc: 0.7946\n",
      "Epoch 80/100\n",
      "21/21 [==============================] - 1s 63ms/step - loss: 0.5268 - acc: 0.7562 - val_loss: 0.4830 - val_acc: 0.7589\n",
      "Epoch 81/100\n",
      "21/21 [==============================] - 1s 65ms/step - loss: 0.5247 - acc: 0.7542 - val_loss: 0.4886 - val_acc: 0.7946\n",
      "Epoch 82/100\n",
      "21/21 [==============================] - 1s 62ms/step - loss: 0.5226 - acc: 0.7522 - val_loss: 0.4800 - val_acc: 0.7411\n",
      "Epoch 83/100\n",
      "21/21 [==============================] - 1s 70ms/step - loss: 0.5239 - acc: 0.7483 - val_loss: 0.4811 - val_acc: 0.7589\n",
      "Epoch 84/100\n",
      "21/21 [==============================] - 1s 68ms/step - loss: 0.5269 - acc: 0.7433 - val_loss: 0.4814 - val_acc: 0.7500\n",
      "Epoch 85/100\n",
      "21/21 [==============================] - 1s 64ms/step - loss: 0.5194 - acc: 0.7552 - val_loss: 0.5025 - val_acc: 0.8036\n",
      "Epoch 86/100\n",
      "21/21 [==============================] - 1s 65ms/step - loss: 0.5266 - acc: 0.7483 - val_loss: 0.4823 - val_acc: 0.7589\n",
      "Epoch 87/100\n",
      "21/21 [==============================] - 1s 69ms/step - loss: 0.5169 - acc: 0.7413 - val_loss: 0.4772 - val_acc: 0.7411\n",
      "Epoch 88/100\n",
      "21/21 [==============================] - 1s 72ms/step - loss: 0.5332 - acc: 0.7473 - val_loss: 0.4838 - val_acc: 0.7857\n",
      "Epoch 89/100\n",
      "21/21 [==============================] - 1s 69ms/step - loss: 0.5253 - acc: 0.7423 - val_loss: 0.4867 - val_acc: 0.7768\n",
      "Epoch 90/100\n",
      "21/21 [==============================] - 1s 62ms/step - loss: 0.5201 - acc: 0.7552 - val_loss: 0.4761 - val_acc: 0.7411\n",
      "Epoch 91/100\n",
      "21/21 [==============================] - 1s 61ms/step - loss: 0.5204 - acc: 0.7502 - val_loss: 0.4805 - val_acc: 0.7589\n",
      "Epoch 92/100\n",
      "21/21 [==============================] - 1s 61ms/step - loss: 0.5237 - acc: 0.7363 - val_loss: 0.4764 - val_acc: 0.7411\n",
      "Epoch 93/100\n",
      "21/21 [==============================] - 1s 63ms/step - loss: 0.5162 - acc: 0.7562 - val_loss: 0.4831 - val_acc: 0.7589\n",
      "Epoch 94/100\n",
      "21/21 [==============================] - 1s 65ms/step - loss: 0.5207 - acc: 0.7383 - val_loss: 0.4735 - val_acc: 0.7411\n",
      "Epoch 95/100\n",
      "21/21 [==============================] - 1s 72ms/step - loss: 0.5260 - acc: 0.7532 - val_loss: 0.4758 - val_acc: 0.7411\n",
      "Epoch 96/100\n",
      "21/21 [==============================] - 1s 69ms/step - loss: 0.5287 - acc: 0.7473 - val_loss: 0.4875 - val_acc: 0.7768\n",
      "Epoch 97/100\n",
      "21/21 [==============================] - 1s 51ms/step - loss: 0.5208 - acc: 0.7483 - val_loss: 0.4773 - val_acc: 0.7411\n",
      "Epoch 98/100\n",
      "21/21 [==============================] - 1s 65ms/step - loss: 0.5112 - acc: 0.7453 - val_loss: 0.4754 - val_acc: 0.7411\n",
      "Epoch 99/100\n",
      "21/21 [==============================] - 2s 77ms/step - loss: 0.5234 - acc: 0.7502 - val_loss: 0.4724 - val_acc: 0.7411\n",
      "Epoch 100/100\n",
      "21/21 [==============================] - 1s 69ms/step - loss: 0.5147 - acc: 0.7602 - val_loss: 0.4841 - val_acc: 0.7946\n"
     ]
    }
   ],
   "source": [
    "epochs = 100\n",
    "history = model.fit(\n",
    "    train_gen, epochs=epochs, verbose=1, validation_data=test_gen, shuffle=True,\n",
    ")"
   ]
  },
  {
   "cell_type": "code",
   "execution_count": 11,
   "metadata": {},
   "outputs": [
    {
     "data": {
      "image/png": "[encoded data removed]",
      "text/plain": [
       "<Figure size 504x576 with 2 Axes>"
      ]
     },
     "metadata": {
      "needs_background": "light"
     },
     "output_type": "display_data"
    }
   ],
   "source": [
    "sg.utils.plot_history(history)\n"
   ]
  },
  {
   "cell_type": "code",
   "execution_count": 12,
   "metadata": {},
   "outputs": [
    {
     "name": "stdout",
     "output_type": "stream",
     "text": [
      "112/112 [==============================] - 0s 1ms/step - loss: 0.4841 - acc: 0.7946\n",
      "\n",
      "Test Set Metrics:\n",
      "\tloss: 0.4841\n",
      "\tacc: 0.7946\n"
     ]
    }
   ],
   "source": [
    "test_metrics = model.evaluate(test_gen)\n",
    "print(\"\\nTest Set Metrics:\")\n",
    "for name, val in zip(model.metrics_names, test_metrics):\n",
    "    print(\"\\t{}: {:0.4f}\".format(name, val))"
   ]
  }
 ],
 "metadata": {
  "kernelspec": {
   "display_name": "stellargraph",
   "language": "python",
   "name": "python3"
  },
  "language_info": {
   "codemirror_mode": {
    "name": "ipython",
    "version": 3
   },
   "file_extension": ".py",
   "mimetype": "text/x-python",
   "name": "python",
   "nbconvert_exporter": "python",
   "pygments_lexer": "ipython3",
   "version": "3.6.15 (default, Dec  3 2021, 18:25:24) [MSC v.1916 64 bit (AMD64)]"
  },
  "orig_nbformat": 4,
  "vscode": {
   "interpreter": {
    "hash": "52f9f168e005222a86ee5828c720dcff3c0cdeaea0cbe41b8906b2061368ccce"
   }
  }
 },
 "nbformat": 4,
 "nbformat_minor": 2
}
