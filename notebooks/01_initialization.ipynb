{
 "cells": [
  {
   "cell_type": "markdown",
   "metadata": {},
   "source": [
    "# Topological Indices\n",
    "\n",
    "We are printing the topological indices of the graph. \n",
    "The topological indices are the number of nodes, the number of edges.\n",
    "\n",
    "The invariants of a graph which are used for structure-property or structure-activity correlations are ususally called topological indices."
   ]
  },
  {
   "cell_type": "markdown",
   "metadata": {},
   "source": [
    "## Used Modules\n",
    "\n",
    "We are using the following modules:\n",
    "- `networkx` for graph operations\n",
    "- `grinpy` for graph operations\n",
    "- `matplotlib` for plotting"
   ]
  },
  {
   "cell_type": "code",
   "execution_count": null,
   "metadata": {},
   "outputs": [],
   "source": [
    "import networkx as nx\n",
    "import grinpy as gp\n",
    "import matplotlib.pyplot as plt\n",
    "import numpy as np\n",
    "from sklearn.preprocessing import normalize\n"
   ]
  },
  {
   "cell_type": "markdown",
   "metadata": {},
   "source": [
    "## Creating a sample graph\n",
    "\n",
    "Using `networkx.barabasi_albert_graph` we create a sample graph.\n",
    "In this case we create a graph with 100 nodes and 3 edges per node."
   ]
  },
  {
   "cell_type": "code",
   "execution_count": null,
   "metadata": {},
   "outputs": [],
   "source": [
    "G_1 = nx.barabasi_albert_graph(100, 3)\n",
    "nx.draw(G_1, with_labels=False)"
   ]
  },
  {
   "cell_type": "markdown",
   "metadata": {},
   "source": [
    "## Calculate the topological indices\n"
   ]
  },
  {
   "cell_type": "code",
   "execution_count": null,
   "metadata": {},
   "outputs": [],
   "source": [
    "# convert to function\n",
    "\n",
    "def topological_indices(G):\n",
    "    ''' Create a dictionary with the topological indices of a graph G.'''\n",
    "    topological_indices = {}\n",
    "    topological_indices['randic_index'] = gp.randic_index(G)\n",
    "    topological_indices['generalized_randic_index'] = gp.generalized_randic_index(\n",
    "        G, 2)\n",
    "    topological_indices['harmonic_index'] = gp.harmonic_index(G)\n",
    "    topological_indices['atom_bond_connectivity_index'] = gp.atom_bond_connectivity_index(\n",
    "        G)\n",
    "    topological_indices['sum_connectivity_index'] = gp.sum_connectivity_index(\n",
    "        G)\n",
    "    topological_indices['first_zagreb_index'] = gp.first_zagreb_index(G)\n",
    "    topological_indices['second_zagreb_index'] = gp.second_zagreb_index(G)\n",
    "\n",
    "    return topological_indices\n",
    "\n",
    "\n",
    "print(topological_indices(G_1))\n"
   ]
  },
  {
   "cell_type": "markdown",
   "metadata": {},
   "source": [
    "## Compare the topological indices\n",
    "\n",
    "Next, we compare the topological indices of the graph with the topological indices of the graph with the same number of nodes and edges.\n",
    "As they don't have to be isomorphic, we use the `nx.is_isomorphic` function to check if the graphs are isomorphic.\n",
    "\n",
    "### Create a graph with the same number of nodes and edges"
   ]
  },
  {
   "cell_type": "code",
   "execution_count": null,
   "metadata": {},
   "outputs": [],
   "source": [
    "G_2 = nx.barabasi_albert_graph(100, 3)\n",
    "\n",
    "graphs_isomorphic = nx.is_isomorphic(G_1, G_2)\n",
    "\n",
    "print(f'Graphs G_1 and G_2 are isomorphic: {graphs_isomorphic}')"
   ]
  },
  {
   "cell_type": "markdown",
   "metadata": {},
   "source": [
    "### Compare the topological indices\n",
    "\n",
    "We use a matplotlob histogram to compare the topological indices of the two graphs."
   ]
  },
  {
   "cell_type": "code",
   "execution_count": null,
   "metadata": {},
   "outputs": [],
   "source": [
    "# matplotlib histogram compare g_1_TI and g_2_TI\n",
    "\n",
    "g_1_TI = topological_indices(G_1)\n",
    "g_2_TI = topological_indices(G_2)\n",
    "\n",
    "g_1_ti_values = list(g_1_TI.values())\n",
    "g_2_ti_values = list(g_2_TI.values())\n",
    "labels = list(g_1_TI.keys())\n",
    "\n",
    "# Make the plot\n",
    "fig, axs = plt.subplots(2, 4)\n",
    "\n",
    "axs[0, 0].set_title('Randic Index')\n",
    "axs[0, 0].bar(['G_1', 'G_2'], [g_1_ti_values[0], g_2_ti_values[0]])\n",
    "\n",
    "axs[0, 1].set_title('Generalized Randic Index')\n",
    "axs[0, 1].bar(['G_1', 'G_2'], [g_1_ti_values[1], g_2_ti_values[1]])\n",
    "\n",
    "axs[0, 2].set_title('Harmonic Index')\n",
    "axs[0, 2].bar(['G_1', 'G_2'], [g_1_ti_values[2], g_2_ti_values[2]])\n",
    "\n",
    "axs[0, 3].set_title('Atom Bond Connectivity Index')\n",
    "axs[0, 3].bar(['G_1', 'G_2'], [g_1_ti_values[3], g_2_ti_values[3]])\n",
    "\n",
    "axs[1, 0].set_title('Sum Connectivity Index')\n",
    "axs[1, 0].bar(['G_1', 'G_2'], [g_1_ti_values[4], g_2_ti_values[4]])\n",
    "\n",
    "axs[1, 1].set_title('First Zagreb Index')\n",
    "axs[1, 1].bar(['G_1', 'G_2'], [g_1_ti_values[5], g_2_ti_values[5]])\n",
    "\n",
    "axs[1, 2].set_title('Second Zagreb Index')\n",
    "axs[1, 2].bar(['G_1', 'G_2'], [g_1_ti_values[6], g_2_ti_values[6]])\n",
    "\n",
    "fig.suptitle('Topological Indices of G1 and G2')\n",
    "plt.show()\n"
   ]
  },
  {
   "cell_type": "code",
   "execution_count": null,
   "metadata": {},
   "outputs": [],
   "source": [
    "# TODO Simplify plotting!!\n",
    "\n",
    "plt.hist([v for k,v in nx.degree(G_1)])"
   ]
  }
 ],
 "metadata": {
  "kernelspec": {
   "display_name": "bt",
   "language": "python",
   "name": "python3"
  },
  "language_info": {
   "codemirror_mode": {
    "name": "ipython",
    "version": 3
   },
   "file_extension": ".py",
   "mimetype": "text/x-python",
   "name": "python",
   "nbconvert_exporter": "python",
   "pygments_lexer": "ipython3",
   "version": "3.10.6 (main, Oct 24 2022, 11:04:07) [Clang 12.0.0 ]"
  },
  "orig_nbformat": 4,
  "vscode": {
   "interpreter": {
    "hash": "8a5edab282632443219e051e4ade2d1d5bbc671c781051bf1437897cbdfea0f1"
   }
  }
 },
 "nbformat": 4,
 "nbformat_minor": 2
}
